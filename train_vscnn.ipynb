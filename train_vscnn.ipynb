{
 "cells": [
  {
   "cell_type": "markdown",
   "id": "2e0c6799",
   "metadata": {},
   "source": [
    "# VSCNN 학습"
   ]
  },
  {
   "cell_type": "code",
   "execution_count": 1,
   "id": "69a9642e",
   "metadata": {
    "ExecuteTime": {
     "end_time": "2023-02-12T14:22:42.599114Z",
     "start_time": "2023-02-12T14:22:41.472453Z"
    }
   },
   "outputs": [
    {
     "data": {
      "text/html": [
       "<style>.container { width:80% !important; }</style>"
      ],
      "text/plain": [
       "<IPython.core.display.HTML object>"
      ]
     },
     "metadata": {},
     "output_type": "display_data"
    },
    {
     "data": {
      "text/html": [
       "<style>div.output_scroll { height: 100em; }</style>"
      ],
      "text/plain": [
       "<IPython.core.display.HTML object>"
      ]
     },
     "metadata": {},
     "output_type": "display_data"
    },
    {
     "data": {
      "text/plain": [
       "'/home/kikim/Projects/ai_data_2022'"
      ]
     },
     "execution_count": 1,
     "metadata": {},
     "output_type": "execute_result"
    }
   ],
   "source": [
    "import os\n",
    "import sys\n",
    "import json\n",
    "import random\n",
    "import pandas as pd\n",
    "import numpy as np\n",
    "import scipy.stats as stats\n",
    "from datetime import datetime\n",
    "from PIL import Image\n",
    "import cv2\n",
    "\n",
    "from tqdm import tqdm\n",
    "from munch import Munch\n",
    "import torch\n",
    "from torch.utils.data import Dataset, DataLoader\n",
    "from torchvision.transforms import ToTensor, Normalize, Lambda, Compose\n",
    "\n",
    "np.set_printoptions(precision=3)\n",
    "pd.set_option('display.max_rows', None)\n",
    "\n",
    "import seaborn as sns \n",
    "import matplotlib.pyplot as plt\n",
    "from matplotlib import rc\n",
    "%matplotlib inline\n",
    "rc('font', family='NanumGothic')\n",
    "plt.rcParams['axes.unicode_minus'] = False\n",
    "plt.rcParams['figure.figsize'] = [20, 16]\n",
    "\n",
    "import plotly.graph_objects as go\n",
    "import plotly.io as pio   \n",
    "import plotly.express as px\n",
    "from plotly.subplots import make_subplots\n",
    "\n",
    "from IPython.display import display, HTML\n",
    "display(HTML(\"<style>.container { width:80% !important; }</style>\"))\n",
    "display(HTML(\"<style>div.output_scroll { height: 100em; }</style>\"))\n",
    "pd.set_option('display.max_rows', None)\n",
    "pd.set_option('display.max_columns', None)\n",
    "pd.set_option('display.max_colwidth', 200)\n",
    "\n",
    "import warnings\n",
    "warnings.simplefilter(action='ignore', category=FutureWarning)\n",
    "warnings.simplefilter(action='ignore', category=DeprecationWarning)\n",
    "\n",
    "import sklearn.neighbors._base\n",
    "sys.modules['sklearn.neighbors.base'] = sklearn.neighbors._base\n",
    "\n",
    "import re\n",
    "re_num = re.compile(r'([0-9\\.]+)(.*)')\n",
    "\n",
    "#import env\n",
    "os.getcwd()"
   ]
  },
  {
   "cell_type": "markdown",
   "id": "25f8fc99",
   "metadata": {},
   "source": [
    "# 데이터 읽기 / 전처리"
   ]
  },
  {
   "cell_type": "markdown",
   "id": "3f341d2e",
   "metadata": {
    "ExecuteTime": {
     "end_time": "2023-01-23T07:32:41.607502Z",
     "start_time": "2023-01-23T07:32:41.604822Z"
    }
   },
   "source": [
    "## 메타데이터"
   ]
  },
  {
   "cell_type": "code",
   "execution_count": 2,
   "id": "4cd7dca8",
   "metadata": {
    "ExecuteTime": {
     "end_time": "2023-02-12T14:22:42.603826Z",
     "start_time": "2023-02-12T14:22:42.601086Z"
    }
   },
   "outputs": [],
   "source": [
    "if __name__==\"__main__\":\n",
    "    \n",
    "#     base_dir = \"/data\"\n",
    "    \n",
    "#     base_dir = \"/home/kikim/data/ai_data_230102/final/191_ 금속 스파크 이미지 데이터\"\n",
    "    base_dir = '/home/kikim/data/ai_data_230102/processed/'\n",
    "    image_sub_dir = os.path.join('원천데이터')\n",
    "    label_sub_dir = os.path.join('라벨링데이터')\n",
    "\n",
    "#     image_sub_dir = os.path.join('원천데이터', '기계적 특성치 데이터')\n",
    "#     label_sub_dir = os.path.join('라벨링데이터', '기계적 특성치 데이터')\n",
    "    \n",
    "    image_dir = os.path.join(base_dir, image_sub_dir)\n",
    "    label_dir = os.path.join(base_dir, label_sub_dir)"
   ]
  },
  {
   "cell_type": "code",
   "execution_count": 3,
   "id": "d72e018a",
   "metadata": {
    "ExecuteTime": {
     "end_time": "2023-02-12T14:22:42.621728Z",
     "start_time": "2023-02-12T14:22:42.605066Z"
    }
   },
   "outputs": [],
   "source": [
    "def sort_elements_by_specimen_id(elements, delim='_', id_idx=0):\n",
    "    ids = [d.split(delim)[id_idx] for d in elements]\n",
    "    ids = [int(i) for i in ids if i.isdigit()]\n",
    "    \n",
    "    return [d for i, d in sorted(zip(ids, elements))]\n",
    "\n",
    "\n",
    "def sort_dirs_by_specimen_id(root_dir):\n",
    "    return sort_elements_by_specimen_id(os.listdir(root_dir))\n",
    "\n",
    "\n",
    "def select_dict_by_keys(_dict, keys=None):\n",
    "    if keys is None:\n",
    "        keys = _dict.keys()\n",
    "        \n",
    "    return {k:v for k, v in _dict.items() if k in keys}\n",
    "\n",
    "\n",
    "def read_json_files(label_dir, suffix_path, keys=None):\n",
    "    meta_dict = {}\n",
    "    for d in sort_dirs_by_specimen_id(label_dir):\n",
    "        specimen_id = d.split('_')[0]\n",
    "\n",
    "        json_dir = os.path.join(label_dir, d, suffix_path)\n",
    "        if not os.path.exists(json_dir):\n",
    "            continue\n",
    "\n",
    "        _json_files = [f for f in os.listdir(json_dir) if f.endswith('.json')]\n",
    "        if len(_json_files) == 0:\n",
    "            continue\n",
    "\n",
    "        try:\n",
    "            _1st_json_path = os.path.join(json_dir, _json_files[0])\n",
    "            with open(_1st_json_path) as f:\n",
    "                _json_dict = json.load(f)\n",
    "        except json.decoder.JSONDecodeError as ex:\n",
    "            with open(_1st_json_path, encoding='utf-8-sig') as f:\n",
    "                print(ex, _1st_json_path)\n",
    "                _json_dict = json.load(f)\n",
    "\n",
    "        meta_dict[int(specimen_id)] = select_dict_by_keys(_json_dict, keys)\n",
    "        \n",
    "    return meta_dict\n",
    "\n",
    "\n",
    "def read_json_files__melt_temp(label_dir, suffix_path, keys=None, melt_temp_key='max_temperature'):\n",
    "    meta_dict = {}\n",
    "    for d in sort_dirs_by_specimen_id(label_dir):\n",
    "        specimen_id = d.split('_')[0]\n",
    "\n",
    "        json_dir = os.path.join(label_dir, d, suffix_path)\n",
    "        if not os.path.exists(json_dir):\n",
    "            continue\n",
    "\n",
    "        _json_files = [f for f in os.listdir(json_dir) if f.endswith('.json')]\n",
    "        if len(_json_files) == 0:\n",
    "            continue\n",
    "\n",
    "        with open(os.path.join(json_dir, _json_files[0])) as f:\n",
    "            _json_dict = json.load(f)\n",
    "\n",
    "        meta_dict[int(specimen_id)] = select_dict_by_keys(_json_dict, keys)\n",
    "        \n",
    "        _max_temp_list = []\n",
    "        for f_name in sort_elements_by_specimen_id(os.listdir(json_dir)):\n",
    "            _json_path = os.path.join(json_dir, f_name)\n",
    "            if not _json_path.endswith('.json') or not os.path.exists(_json_path):\n",
    "                continue\n",
    "\n",
    "            with open(_json_path) as f:\n",
    "                _json_dict = json.load(f)\n",
    "\n",
    "            _max_temp_list.append(_json_dict[melt_temp_key])\n",
    "\n",
    "        if len(_max_temp_list) > 0:\n",
    "            _json_dict = select_dict_by_keys(_json_dict, keys)\n",
    "            _json_dict[melt_temp_key] = [float(t) for t in _max_temp_list]\n",
    "            meta_dict[int(specimen_id)] = _json_dict\n",
    "        \n",
    "    return meta_dict\n",
    "\n",
    "def convert_value_to_float(json_dict):\n",
    "    regex = re.compile('(\\d+\\.?\\d*)([^-]*)')\n",
    "    \n",
    "    _converted_json_dict = {}\n",
    "    for k, v in json_dict.items():\n",
    "        if isinstance(v, str):\n",
    "            m = regex.match(v.strip())\n",
    "            if m is not None:\n",
    "                v = m.groups()[0]\n",
    "                _converted_json_dict[k] = float(v)\n",
    "        \n",
    "        if k not in _converted_json_dict:\n",
    "            _converted_json_dict[k] = v\n",
    "            \n",
    "    return _converted_json_dict"
   ]
  },
  {
   "cell_type": "code",
   "execution_count": 4,
   "id": "64fe0c76",
   "metadata": {
    "ExecuteTime": {
     "end_time": "2023-02-12T14:22:43.035873Z",
     "start_time": "2023-02-12T14:22:42.623052Z"
    }
   },
   "outputs": [],
   "source": [
    "if __name__==\"__main__\":\n",
    "\n",
    "    variable_names = ['material.name', 'material.size', \n",
    "                      'equipment.name', 'equipment.chamber.oxygen.density', 'equipment.chamber.temp',\n",
    "                      'equipment.chamber.oxygen.density', 'equipment.base.hd',\n",
    "                      'condition.laser.power', 'condition.scan.speed', 'condition.lamination.direction',\n",
    "                      'specimen.position', \n",
    "                      'yielding.stress', 'tensile.stress', 'elongation', 'density', #'distortion.x'\n",
    "                     ]\n",
    "\n",
    "    on_axis_meta_dict = read_json_files(label_dir, 'On_Axis_Images/JSON', variable_names)\n",
    "    off_axis_meta_dict = read_json_files(label_dir, 'Off_Axis_Images/JSON', variable_names)\n",
    "\n",
    "    on_axis_meta_dict = { k:convert_value_to_float(v) for k, v in on_axis_meta_dict.items() }\n",
    "    off_axis_meta_dict = { k:convert_value_to_float(v) for k, v in off_axis_meta_dict.items() }"
   ]
  },
  {
   "cell_type": "code",
   "execution_count": 5,
   "id": "c92293c2",
   "metadata": {
    "ExecuteTime": {
     "end_time": "2023-02-12T14:22:43.039207Z",
     "start_time": "2023-02-12T14:22:43.037137Z"
    }
   },
   "outputs": [],
   "source": [
    "# if __name__==\"__main__\":\n",
    "#     melt_temp_meta_dict = read_json_files__melt_temp(label_dir, 'melt_temperature', variable_names)\n",
    "#     melt_temp_meta_dict = { k:convert_value_to_float(v) for k, v in melt_temp_meta_dict.items() }"
   ]
  },
  {
   "cell_type": "code",
   "execution_count": 6,
   "id": "fc5a2a3f",
   "metadata": {
    "ExecuteTime": {
     "end_time": "2023-02-12T14:22:43.071523Z",
     "start_time": "2023-02-12T14:22:43.040641Z"
    }
   },
   "outputs": [
    {
     "data": {
      "text/html": [
       "<div>\n",
       "<style scoped>\n",
       "    .dataframe tbody tr th:only-of-type {\n",
       "        vertical-align: middle;\n",
       "    }\n",
       "\n",
       "    .dataframe tbody tr th {\n",
       "        vertical-align: top;\n",
       "    }\n",
       "\n",
       "    .dataframe thead th {\n",
       "        text-align: right;\n",
       "    }\n",
       "</style>\n",
       "<table border=\"1\" class=\"dataframe\">\n",
       "  <thead>\n",
       "    <tr style=\"text-align: right;\">\n",
       "      <th></th>\n",
       "      <th>material.name</th>\n",
       "      <th>material.size</th>\n",
       "      <th>equipment.name</th>\n",
       "      <th>equipment.chamber.oxygen.density</th>\n",
       "      <th>equipment.chamber.temp</th>\n",
       "      <th>equipment.base.hd</th>\n",
       "      <th>condition.laser.power</th>\n",
       "      <th>condition.scan.speed</th>\n",
       "      <th>condition.lamination.direction</th>\n",
       "      <th>yielding.stress</th>\n",
       "      <th>tensile.stress</th>\n",
       "      <th>elongation</th>\n",
       "      <th>density</th>\n",
       "      <th>specimen.position</th>\n",
       "      <th>laser_density</th>\n",
       "    </tr>\n",
       "  </thead>\n",
       "  <tbody>\n",
       "    <tr>\n",
       "      <th>1682</th>\n",
       "      <td>MARAGING</td>\n",
       "      <td>30.0</td>\n",
       "      <td>CM 150</td>\n",
       "      <td>0.1</td>\n",
       "      <td>25.0</td>\n",
       "      <td>0.6</td>\n",
       "      <td>200.0</td>\n",
       "      <td>600.0</td>\n",
       "      <td>90.0</td>\n",
       "      <td>1062.0</td>\n",
       "      <td>1122.0</td>\n",
       "      <td>6.90</td>\n",
       "      <td>7.91</td>\n",
       "      <td>15.0</td>\n",
       "      <td>0.333333</td>\n",
       "    </tr>\n",
       "    <tr>\n",
       "      <th>1683</th>\n",
       "      <td>MARAGING</td>\n",
       "      <td>30.0</td>\n",
       "      <td>CM 150</td>\n",
       "      <td>0.1</td>\n",
       "      <td>25.0</td>\n",
       "      <td>0.6</td>\n",
       "      <td>180.0</td>\n",
       "      <td>600.0</td>\n",
       "      <td>90.0</td>\n",
       "      <td>1060.0</td>\n",
       "      <td>1110.0</td>\n",
       "      <td>5.55</td>\n",
       "      <td>7.95</td>\n",
       "      <td>15.0</td>\n",
       "      <td>0.300000</td>\n",
       "    </tr>\n",
       "    <tr>\n",
       "      <th>1684</th>\n",
       "      <td>MARAGING</td>\n",
       "      <td>30.0</td>\n",
       "      <td>CM 150</td>\n",
       "      <td>0.1</td>\n",
       "      <td>25.0</td>\n",
       "      <td>0.6</td>\n",
       "      <td>160.0</td>\n",
       "      <td>600.0</td>\n",
       "      <td>90.0</td>\n",
       "      <td>1029.0</td>\n",
       "      <td>1058.0</td>\n",
       "      <td>3.20</td>\n",
       "      <td>8.02</td>\n",
       "      <td>15.0</td>\n",
       "      <td>0.266667</td>\n",
       "    </tr>\n",
       "    <tr>\n",
       "      <th>1685</th>\n",
       "      <td>MARAGING</td>\n",
       "      <td>30.0</td>\n",
       "      <td>CM 150</td>\n",
       "      <td>0.1</td>\n",
       "      <td>25.0</td>\n",
       "      <td>0.6</td>\n",
       "      <td>120.0</td>\n",
       "      <td>1100.0</td>\n",
       "      <td>90.0</td>\n",
       "      <td>196.0</td>\n",
       "      <td>220.0</td>\n",
       "      <td>0.80</td>\n",
       "      <td>7.25</td>\n",
       "      <td>14.0</td>\n",
       "      <td>0.109091</td>\n",
       "    </tr>\n",
       "    <tr>\n",
       "      <th>1686</th>\n",
       "      <td>MARAGING</td>\n",
       "      <td>30.0</td>\n",
       "      <td>CM 150</td>\n",
       "      <td>0.1</td>\n",
       "      <td>25.0</td>\n",
       "      <td>0.6</td>\n",
       "      <td>100.0</td>\n",
       "      <td>1100.0</td>\n",
       "      <td>90.0</td>\n",
       "      <td>120.0</td>\n",
       "      <td>122.0</td>\n",
       "      <td>0.55</td>\n",
       "      <td>6.73</td>\n",
       "      <td>14.0</td>\n",
       "      <td>0.090909</td>\n",
       "    </tr>\n",
       "    <tr>\n",
       "      <th>1687</th>\n",
       "      <td>MARAGING</td>\n",
       "      <td>30.0</td>\n",
       "      <td>CM 150</td>\n",
       "      <td>0.1</td>\n",
       "      <td>25.0</td>\n",
       "      <td>0.6</td>\n",
       "      <td>120.0</td>\n",
       "      <td>900.0</td>\n",
       "      <td>90.0</td>\n",
       "      <td>225.0</td>\n",
       "      <td>394.0</td>\n",
       "      <td>1.20</td>\n",
       "      <td>7.63</td>\n",
       "      <td>14.0</td>\n",
       "      <td>0.133333</td>\n",
       "    </tr>\n",
       "    <tr>\n",
       "      <th>1688</th>\n",
       "      <td>MARAGING</td>\n",
       "      <td>30.0</td>\n",
       "      <td>CM 150</td>\n",
       "      <td>0.1</td>\n",
       "      <td>25.0</td>\n",
       "      <td>0.6</td>\n",
       "      <td>100.0</td>\n",
       "      <td>900.0</td>\n",
       "      <td>90.0</td>\n",
       "      <td>216.0</td>\n",
       "      <td>237.0</td>\n",
       "      <td>1.20</td>\n",
       "      <td>7.08</td>\n",
       "      <td>13.0</td>\n",
       "      <td>0.111111</td>\n",
       "    </tr>\n",
       "    <tr>\n",
       "      <th>1689</th>\n",
       "      <td>MARAGING</td>\n",
       "      <td>30.0</td>\n",
       "      <td>CM 150</td>\n",
       "      <td>0.1</td>\n",
       "      <td>25.0</td>\n",
       "      <td>0.6</td>\n",
       "      <td>200.0</td>\n",
       "      <td>1100.0</td>\n",
       "      <td>90.0</td>\n",
       "      <td>489.0</td>\n",
       "      <td>573.0</td>\n",
       "      <td>2.25</td>\n",
       "      <td>7.92</td>\n",
       "      <td>12.0</td>\n",
       "      <td>0.181818</td>\n",
       "    </tr>\n",
       "    <tr>\n",
       "      <th>1690</th>\n",
       "      <td>MARAGING</td>\n",
       "      <td>30.0</td>\n",
       "      <td>CM 150</td>\n",
       "      <td>0.1</td>\n",
       "      <td>25.0</td>\n",
       "      <td>0.6</td>\n",
       "      <td>180.0</td>\n",
       "      <td>1100.0</td>\n",
       "      <td>90.0</td>\n",
       "      <td>496.0</td>\n",
       "      <td>507.0</td>\n",
       "      <td>1.80</td>\n",
       "      <td>7.87</td>\n",
       "      <td>11.0</td>\n",
       "      <td>0.163636</td>\n",
       "    </tr>\n",
       "    <tr>\n",
       "      <th>1691</th>\n",
       "      <td>MARAGING</td>\n",
       "      <td>30.0</td>\n",
       "      <td>CM 150</td>\n",
       "      <td>0.1</td>\n",
       "      <td>25.0</td>\n",
       "      <td>0.6</td>\n",
       "      <td>160.0</td>\n",
       "      <td>1100.0</td>\n",
       "      <td>90.0</td>\n",
       "      <td>248.0</td>\n",
       "      <td>346.0</td>\n",
       "      <td>1.65</td>\n",
       "      <td>7.30</td>\n",
       "      <td>11.0</td>\n",
       "      <td>0.145455</td>\n",
       "    </tr>\n",
       "    <tr>\n",
       "      <th>1692</th>\n",
       "      <td>MARAGING</td>\n",
       "      <td>30.0</td>\n",
       "      <td>CM 150</td>\n",
       "      <td>0.1</td>\n",
       "      <td>25.0</td>\n",
       "      <td>0.6</td>\n",
       "      <td>200.0</td>\n",
       "      <td>900.0</td>\n",
       "      <td>90.0</td>\n",
       "      <td>863.0</td>\n",
       "      <td>864.0</td>\n",
       "      <td>2.30</td>\n",
       "      <td>7.95</td>\n",
       "      <td>11.0</td>\n",
       "      <td>0.222222</td>\n",
       "    </tr>\n",
       "    <tr>\n",
       "      <th>1693</th>\n",
       "      <td>MARAGING</td>\n",
       "      <td>30.0</td>\n",
       "      <td>CM 150</td>\n",
       "      <td>0.1</td>\n",
       "      <td>25.0</td>\n",
       "      <td>0.6</td>\n",
       "      <td>180.0</td>\n",
       "      <td>900.0</td>\n",
       "      <td>90.0</td>\n",
       "      <td>723.0</td>\n",
       "      <td>725.0</td>\n",
       "      <td>1.95</td>\n",
       "      <td>7.91</td>\n",
       "      <td>10.0</td>\n",
       "      <td>0.200000</td>\n",
       "    </tr>\n",
       "    <tr>\n",
       "      <th>1694</th>\n",
       "      <td>MARAGING</td>\n",
       "      <td>30.0</td>\n",
       "      <td>CM 150</td>\n",
       "      <td>0.1</td>\n",
       "      <td>25.0</td>\n",
       "      <td>0.6</td>\n",
       "      <td>160.0</td>\n",
       "      <td>900.0</td>\n",
       "      <td>90.0</td>\n",
       "      <td>412.0</td>\n",
       "      <td>462.0</td>\n",
       "      <td>1.40</td>\n",
       "      <td>7.99</td>\n",
       "      <td>10.0</td>\n",
       "      <td>0.177778</td>\n",
       "    </tr>\n",
       "    <tr>\n",
       "      <th>1695</th>\n",
       "      <td>MARAGING</td>\n",
       "      <td>30.0</td>\n",
       "      <td>CM 150</td>\n",
       "      <td>0.1</td>\n",
       "      <td>25.0</td>\n",
       "      <td>0.6</td>\n",
       "      <td>200.0</td>\n",
       "      <td>800.0</td>\n",
       "      <td>90.0</td>\n",
       "      <td>967.0</td>\n",
       "      <td>1035.0</td>\n",
       "      <td>3.75</td>\n",
       "      <td>8.05</td>\n",
       "      <td>10.0</td>\n",
       "      <td>0.250000</td>\n",
       "    </tr>\n",
       "    <tr>\n",
       "      <th>1696</th>\n",
       "      <td>MARAGING</td>\n",
       "      <td>30.0</td>\n",
       "      <td>CM 150</td>\n",
       "      <td>0.1</td>\n",
       "      <td>25.0</td>\n",
       "      <td>0.6</td>\n",
       "      <td>180.0</td>\n",
       "      <td>800.0</td>\n",
       "      <td>90.0</td>\n",
       "      <td>873.0</td>\n",
       "      <td>874.0</td>\n",
       "      <td>2.40</td>\n",
       "      <td>7.93</td>\n",
       "      <td>9.0</td>\n",
       "      <td>0.225000</td>\n",
       "    </tr>\n",
       "    <tr>\n",
       "      <th>1697</th>\n",
       "      <td>MARAGING</td>\n",
       "      <td>30.0</td>\n",
       "      <td>CM 150</td>\n",
       "      <td>0.1</td>\n",
       "      <td>25.0</td>\n",
       "      <td>0.6</td>\n",
       "      <td>160.0</td>\n",
       "      <td>800.0</td>\n",
       "      <td>90.0</td>\n",
       "      <td>574.0</td>\n",
       "      <td>646.0</td>\n",
       "      <td>1.65</td>\n",
       "      <td>8.00</td>\n",
       "      <td>12.0</td>\n",
       "      <td>0.200000</td>\n",
       "    </tr>\n",
       "  </tbody>\n",
       "</table>\n",
       "</div>"
      ],
      "text/plain": [
       "     material.name  material.size equipment.name  \\\n",
       "1682      MARAGING           30.0         CM 150   \n",
       "1683      MARAGING           30.0         CM 150   \n",
       "1684      MARAGING           30.0         CM 150   \n",
       "1685      MARAGING           30.0         CM 150   \n",
       "1686      MARAGING           30.0         CM 150   \n",
       "1687      MARAGING           30.0         CM 150   \n",
       "1688      MARAGING           30.0         CM 150   \n",
       "1689      MARAGING           30.0         CM 150   \n",
       "1690      MARAGING           30.0         CM 150   \n",
       "1691      MARAGING           30.0         CM 150   \n",
       "1692      MARAGING           30.0         CM 150   \n",
       "1693      MARAGING           30.0         CM 150   \n",
       "1694      MARAGING           30.0         CM 150   \n",
       "1695      MARAGING           30.0         CM 150   \n",
       "1696      MARAGING           30.0         CM 150   \n",
       "1697      MARAGING           30.0         CM 150   \n",
       "\n",
       "      equipment.chamber.oxygen.density  equipment.chamber.temp  \\\n",
       "1682                               0.1                    25.0   \n",
       "1683                               0.1                    25.0   \n",
       "1684                               0.1                    25.0   \n",
       "1685                               0.1                    25.0   \n",
       "1686                               0.1                    25.0   \n",
       "1687                               0.1                    25.0   \n",
       "1688                               0.1                    25.0   \n",
       "1689                               0.1                    25.0   \n",
       "1690                               0.1                    25.0   \n",
       "1691                               0.1                    25.0   \n",
       "1692                               0.1                    25.0   \n",
       "1693                               0.1                    25.0   \n",
       "1694                               0.1                    25.0   \n",
       "1695                               0.1                    25.0   \n",
       "1696                               0.1                    25.0   \n",
       "1697                               0.1                    25.0   \n",
       "\n",
       "      equipment.base.hd  condition.laser.power  condition.scan.speed  \\\n",
       "1682                0.6                  200.0                 600.0   \n",
       "1683                0.6                  180.0                 600.0   \n",
       "1684                0.6                  160.0                 600.0   \n",
       "1685                0.6                  120.0                1100.0   \n",
       "1686                0.6                  100.0                1100.0   \n",
       "1687                0.6                  120.0                 900.0   \n",
       "1688                0.6                  100.0                 900.0   \n",
       "1689                0.6                  200.0                1100.0   \n",
       "1690                0.6                  180.0                1100.0   \n",
       "1691                0.6                  160.0                1100.0   \n",
       "1692                0.6                  200.0                 900.0   \n",
       "1693                0.6                  180.0                 900.0   \n",
       "1694                0.6                  160.0                 900.0   \n",
       "1695                0.6                  200.0                 800.0   \n",
       "1696                0.6                  180.0                 800.0   \n",
       "1697                0.6                  160.0                 800.0   \n",
       "\n",
       "      condition.lamination.direction  yielding.stress  tensile.stress  \\\n",
       "1682                            90.0           1062.0          1122.0   \n",
       "1683                            90.0           1060.0          1110.0   \n",
       "1684                            90.0           1029.0          1058.0   \n",
       "1685                            90.0            196.0           220.0   \n",
       "1686                            90.0            120.0           122.0   \n",
       "1687                            90.0            225.0           394.0   \n",
       "1688                            90.0            216.0           237.0   \n",
       "1689                            90.0            489.0           573.0   \n",
       "1690                            90.0            496.0           507.0   \n",
       "1691                            90.0            248.0           346.0   \n",
       "1692                            90.0            863.0           864.0   \n",
       "1693                            90.0            723.0           725.0   \n",
       "1694                            90.0            412.0           462.0   \n",
       "1695                            90.0            967.0          1035.0   \n",
       "1696                            90.0            873.0           874.0   \n",
       "1697                            90.0            574.0           646.0   \n",
       "\n",
       "      elongation  density  specimen.position  laser_density  \n",
       "1682        6.90     7.91               15.0       0.333333  \n",
       "1683        5.55     7.95               15.0       0.300000  \n",
       "1684        3.20     8.02               15.0       0.266667  \n",
       "1685        0.80     7.25               14.0       0.109091  \n",
       "1686        0.55     6.73               14.0       0.090909  \n",
       "1687        1.20     7.63               14.0       0.133333  \n",
       "1688        1.20     7.08               13.0       0.111111  \n",
       "1689        2.25     7.92               12.0       0.181818  \n",
       "1690        1.80     7.87               11.0       0.163636  \n",
       "1691        1.65     7.30               11.0       0.145455  \n",
       "1692        2.30     7.95               11.0       0.222222  \n",
       "1693        1.95     7.91               10.0       0.200000  \n",
       "1694        1.40     7.99               10.0       0.177778  \n",
       "1695        3.75     8.05               10.0       0.250000  \n",
       "1696        2.40     7.93                9.0       0.225000  \n",
       "1697        1.65     8.00               12.0       0.200000  "
      ]
     },
     "metadata": {},
     "output_type": "display_data"
    }
   ],
   "source": [
    "if __name__==\"__main__\":\n",
    "    df_on_axis = pd.DataFrame.from_dict(on_axis_meta_dict, orient='index')\n",
    "    df_on_axis['laser_density'] = df_on_axis['condition.laser.power'] / df_on_axis['condition.scan.speed']\n",
    "    \n",
    "    display(df_on_axis.iloc[1680:1696, :])"
   ]
  },
  {
   "cell_type": "code",
   "execution_count": 7,
   "id": "aaf494dc",
   "metadata": {
    "ExecuteTime": {
     "end_time": "2023-02-12T14:22:43.079171Z",
     "start_time": "2023-02-12T14:22:43.072426Z"
    }
   },
   "outputs": [],
   "source": [
    "if __name__==\"__main__\":\n",
    "    df_off_axis = pd.DataFrame.from_dict(off_axis_meta_dict, orient='index')\n",
    "    df_off_axis['laser_density'] = df_off_axis['condition.laser.power'] / df_off_axis['condition.scan.speed']"
   ]
  },
  {
   "cell_type": "code",
   "execution_count": 8,
   "id": "621112e7",
   "metadata": {
    "ExecuteTime": {
     "end_time": "2023-02-12T14:22:43.086347Z",
     "start_time": "2023-02-12T14:22:43.080051Z"
    }
   },
   "outputs": [],
   "source": [
    "# if __name__==\"__main__\":\n",
    "\n",
    "#     for k, _dict in melt_temp_meta_dict.items():\n",
    "#         _melt_temps = np.array(_dict['max_temperature'])\n",
    "#         _dict['max_temperature__mean'] = _melt_temps.mean()\n",
    "#         _dict['max_temperature__max'] = _melt_temps.max()\n",
    "#         _dict['max_temperature__min'] = _melt_temps.min()\n",
    "#         _dict['max_temperature__median'] = _melt_temps.min()\n",
    "#         _ = _dict.pop('max_temperature')\n",
    "    \n",
    "#     df_melt_temp = pd.DataFrame.from_dict(melt_temp_meta_dict, orient='index')"
   ]
  },
  {
   "cell_type": "markdown",
   "id": "80b97f5f",
   "metadata": {
    "ExecuteTime": {
     "end_time": "2023-01-22T04:35:13.187033Z",
     "start_time": "2023-01-22T04:35:13.184523Z"
    }
   },
   "source": [
    "## Video Data"
   ]
  },
  {
   "cell_type": "code",
   "execution_count": 9,
   "id": "82d22341",
   "metadata": {
    "ExecuteTime": {
     "end_time": "2023-02-12T14:22:43.107924Z",
     "start_time": "2023-02-12T14:22:43.087281Z"
    }
   },
   "outputs": [],
   "source": [
    "if __name__==\"__main__\":\n",
    "\n",
    "    specimen_dirs = [d for d in os.listdir(image_dir) if os.path.isdir(os.path.join(image_dir, d))]\n",
    "    specimen_id_to_img_dirs = {int(d.split('_')[0]):d for d in os.listdir(image_dir) if os.path.isdir(os.path.join(image_dir, d))}"
   ]
  },
  {
   "cell_type": "markdown",
   "id": "47d08ce3",
   "metadata": {},
   "source": [
    "# Prepare Data"
   ]
  },
  {
   "cell_type": "code",
   "execution_count": 10,
   "id": "2ac93d6c",
   "metadata": {
    "ExecuteTime": {
     "end_time": "2023-02-12T14:22:43.112257Z",
     "start_time": "2023-02-12T14:22:43.109896Z"
    }
   },
   "outputs": [],
   "source": [
    "if __name__==\"__main__\":\n",
    "    data_params = Munch(\n",
    "        random_seed=1,\n",
    "        label_dir=label_dir,\n",
    "        image_dir=image_dir,\n",
    "        vars_x=['material.name', 'material.size', \n",
    "                'equipment.name', 'equipment.chamber.oxygen.density', 'equipment.chamber.temp', 'equipment.base.hd', \n",
    "                'condition.laser.power', 'condition.scan.speed', 'condition.lamination.direction', 'laser_density', \n",
    "                ],\n",
    "        vars_y=['yielding.stress', 'tensile.stress', 'elongation', 'density'],\n",
    "\n",
    "    )"
   ]
  },
  {
   "cell_type": "code",
   "execution_count": 11,
   "id": "dca46bc8",
   "metadata": {
    "ExecuteTime": {
     "end_time": "2023-02-12T14:22:43.120801Z",
     "start_time": "2023-02-12T14:22:43.113683Z"
    }
   },
   "outputs": [],
   "source": [
    "def split_data(specimen_id_list, ratio=(.8, .1, .1)):\n",
    "    num_specimen = len(specimen_id_list)\n",
    "\n",
    "    num_valid = int(round(num_specimen * ratio[1]))\n",
    "    num_test = int(round(num_specimen * ratio[2]))\n",
    "    num_train = num_specimen - num_valid - num_test\n",
    "    \n",
    "    _shuffled = np.random.permutation(specimen_id_list)\n",
    "    \n",
    "    return sorted(_shuffled[:num_train]), \\\n",
    "            sorted(_shuffled[num_train:-num_test]), \\\n",
    "            sorted(_shuffled[-num_test:])\n",
    "\n",
    "\n",
    "def replace_col_1hot(df, cols_1hot):\n",
    "    col_names = df.columns\n",
    "    \n",
    "    _df = pd.DataFrame(index=df.index)\n",
    "    for c in col_names:\n",
    "        if c in cols_1hot:\n",
    "            df_1hot = pd.get_dummies(df[c])\n",
    "            for c_1hot in df_1hot.columns:\n",
    "                _df[f'{c}:{c_1hot}'] = df_1hot[c_1hot]\n",
    "        else:\n",
    "            _df[c] = df[c]\n",
    "    \n",
    "    return _df\n",
    "\n",
    "\n",
    "def seed_rngs(seed: int, pytorch: bool = True) -> None:\n",
    "    os.environ[\"PYTHONHASHSEED\"] = str(seed)\n",
    "    random.seed(seed)\n",
    "    np.random.seed(seed)\n",
    "    if pytorch:\n",
    "        torch.manual_seed(seed)\n",
    "        \n",
    "if __name__==\"__main__\":\n",
    "    seed_rngs(data_params.random_seed)"
   ]
  },
  {
   "cell_type": "code",
   "execution_count": 12,
   "id": "b70cac4f",
   "metadata": {
    "ExecuteTime": {
     "end_time": "2023-02-12T14:22:43.138445Z",
     "start_time": "2023-02-12T14:22:43.121690Z"
    }
   },
   "outputs": [],
   "source": [
    "if __name__==\"__main__\":\n",
    "    df_meta = df_on_axis.copy()\n",
    "\n",
    "    df_meta = df_meta[data_params.vars_x + data_params.vars_y]\n",
    "    df_meta = replace_col_1hot(df_meta, ['material.name', 'equipment.name', 'condition.lamination.direction'])\n",
    "    \n",
    "    ## 1-hot encoding 변수명 업데이트\n",
    "    data_params.vars_x = df_meta.columns[:-4].tolist()\n",
    "    data_params.vars_y = df_meta.columns[-4:].tolist()\n",
    "    \n",
    "    ## condition.scan.speed == 0 인 경우 제외\n",
    "    df_meta.drop(index=df_meta.index[df_meta['condition.scan.speed'] == 0], inplace=True)\n",
    "    df_meta.loc[df_meta['condition.scan.speed'] == 0, :]"
   ]
  },
  {
   "cell_type": "code",
   "execution_count": 13,
   "id": "f8486948",
   "metadata": {
    "ExecuteTime": {
     "end_time": "2023-02-12T14:22:43.143221Z",
     "start_time": "2023-02-12T14:22:43.139368Z"
    }
   },
   "outputs": [
    {
     "name": "stdout",
     "output_type": "stream",
     "text": [
      "1726 1380 173 173\n"
     ]
    }
   ],
   "source": [
    "if __name__==\"__main__\":\n",
    "\n",
    "    specimen_id_list = df_meta.index.tolist()\n",
    "\n",
    "    train_specimen_id_list, valid_specimen_id_list, test_specimen_id_list = split_data(specimen_id_list)\n",
    "\n",
    "    assert set(train_specimen_id_list).intersection(set(valid_specimen_id_list)) == set()\n",
    "    assert set(train_specimen_id_list).intersection(set(test_specimen_id_list)) == set()\n",
    "    assert set(valid_specimen_id_list).intersection(set(test_specimen_id_list)) == set()\n",
    "\n",
    "    print(len(specimen_id_list), len(train_specimen_id_list), len(valid_specimen_id_list), len(test_specimen_id_list))"
   ]
  },
  {
   "cell_type": "code",
   "execution_count": 14,
   "id": "ee323997",
   "metadata": {
    "ExecuteTime": {
     "end_time": "2023-02-12T14:22:43.154828Z",
     "start_time": "2023-02-12T14:22:43.144704Z"
    }
   },
   "outputs": [],
   "source": [
    "def _get_a_file_path(root_dir, prefix, suffix='.avi'):\n",
    "    files = [f for f in os.listdir(root_dir) if f.startswith(prefix) and f.endswith(suffix)]\n",
    "    \n",
    "    if len(files) == 0:\n",
    "        print('No .avi File', root_dir, f'{prefix}_Axis_Images.avi')\n",
    "        return\n",
    "    \n",
    "    if not files[0].endswith('_Axis_Images.avi'):\n",
    "        print('Warning: Bad .avi File Name ', root_dir, files[0])\n",
    "        \n",
    "    return os.path.join(root_dir, files[0])"
   ]
  },
  {
   "cell_type": "code",
   "execution_count": 15,
   "id": "06ea4eea",
   "metadata": {
    "ExecuteTime": {
     "end_time": "2023-02-12T14:22:43.166961Z",
     "start_time": "2023-02-12T14:22:43.155678Z"
    },
    "lines_to_end_of_cell_marker": 2,
    "lines_to_next_cell": 0
   },
   "outputs": [],
   "source": [
    "class SpecimenDataset(Dataset):\n",
    "    \n",
    "    def __init__(self, df_meta, img_dir, \n",
    "                 transform_x=None, \n",
    "                 transform_x_on_img=None,\n",
    "                 transform_x_off_img=None,\n",
    "                 transform_y=None,\n",
    "#                  melt_temp_dict=None,\n",
    "#                  transform_x_melt_temp=None,\n",
    "                 vars_x=None,\n",
    "                 vars_y=None\n",
    "                ):\n",
    "        \n",
    "        if vars_x is None:\n",
    "            vars_x = self.df_meta.columns[:-4].tolist()\n",
    "        \n",
    "        if vars_y is None:\n",
    "            vars_y = self.df_meta.columns[-4:].tolist()\n",
    "        \n",
    "        self.df_meta = df_meta\n",
    "        self.specimen_id_list = df_meta.index.tolist()\n",
    "        \n",
    "        self.img_dir = img_dir\n",
    "        specimen_dirs = [d for d in os.listdir(img_dir) if os.path.isdir(os.path.join(img_dir, d))]\n",
    "        specimen_id_to_img_dirs = {int(d.split('_')[0]):d for d in os.listdir(img_dir) if os.path.isdir(os.path.join(img_dir, d))}\n",
    "        \n",
    "        self.specimen_id_to_on_img_paths = {s:_get_a_file_path(os.path.join(img_dir, d, 'video'), 'On') \n",
    "                                            for s, d in specimen_id_to_img_dirs.items() if s in self.specimen_id_list}\n",
    "        self.specimen_id_to_off_img_paths = {s:_get_a_file_path(os.path.join(img_dir, d, 'video'), 'Off') \n",
    "                                             for s, d in specimen_id_to_img_dirs.items() if s in self.specimen_id_list}\n",
    "        \n",
    "        self.transform_x = transform_x\n",
    "        self.transform_x_on_img = transform_x_on_img\n",
    "        self.transform_x_off_img = transform_x_off_img\n",
    "        self.transform_y = transform_y\n",
    "        \n",
    "        self.vars_x = vars_x\n",
    "        self.vars_y = vars_y\n",
    "        \n",
    "    def __getitem__(self, idx):\n",
    "        specimen_id = self.specimen_id_list[idx]\n",
    "        x = self.df_meta.loc[specimen_id, self.vars_x].values\n",
    "        y = self.df_meta.loc[specimen_id, self.vars_y].values\n",
    "        \n",
    "        try:\n",
    "        \n",
    "            if self.transform_x is not None:\n",
    "                x = self.transform_x(x)\n",
    "\n",
    "            if self.transform_y is not None:\n",
    "                y = self.transform_y(y)\n",
    "\n",
    "            on_imgs = self._read_video_frames(self.specimen_id_to_on_img_paths[specimen_id])\n",
    "            off_imgs = self._read_video_frames(self.specimen_id_to_off_img_paths[specimen_id])\n",
    "\n",
    "            if self.transform_x_on_img is not None:\n",
    "                on_imgs = self.transform_x_on_img(on_imgs)\n",
    "\n",
    "            if self.transform_x_off_img is not None:\n",
    "                off_imgs = self.transform_x_off_img(off_imgs)\n",
    "        except Exception as ex:\n",
    "            print(ex, idx, specimen_id)\n",
    "            raise ex\n",
    "            \n",
    "        return x, y, on_imgs, off_imgs, specimen_id, idx\n",
    "        \n",
    "    def __len__(self):\n",
    "        return len(self.specimen_id_list)\n",
    "    \n",
    "    def _read_video_frames(self, video_path):\n",
    "        vidcap = cv2.VideoCapture(video_path)\n",
    "        img_list = []\n",
    "        \n",
    "        success,image = vidcap.read()\n",
    "        while success:\n",
    "            img_list.append(image[:, :, 0])\n",
    "            success,image = vidcap.read()\n",
    "\n",
    "        return np.array(img_list)\n",
    "    \n",
    "\n",
    "class Normalizer:\n",
    "    \"\"\"\n",
    "    최소/최대 [-1, 1] 범위로 정규화\n",
    "    \"\"\" \n",
    "    def __init__(self, mins=np.zeros(0), maxs=np.zeros(0), diffs=np.ones(0)):\n",
    "        self.mins = np.array(mins)\n",
    "        self.maxs = np.array(maxs)\n",
    "        self.diffs = np.array(diffs)\n",
    "        \n",
    "    def fit(self, array):\n",
    "        self.mins = array.min(axis=0)\n",
    "        self.maxs = array.max(axis=0)\n",
    "        self.diffs = (self.maxs - self.mins) * 0.5\n",
    "        self.diffs[self.diffs == 0] = 1\n",
    "        \n",
    "        return self\n",
    "        \n",
    "    def __call__(self, sample):\n",
    "        return (sample - self.mins) / self.diffs - 1\n",
    "    \n",
    "    def inverse_tranform(self, normalized):\n",
    "        return (normalized + 1) * self.diffs[None, :] + self.mins[None, :]\n",
    "    \n",
    "    def to_dict(self):\n",
    "        return dict(mins=self.mins, maxs=self.maxs, diffs=self.diffs)\n",
    "\n",
    "\n",
    "class Standardizer:\n",
    "    \"\"\"\n",
    "    정규화\n",
    "    \"\"\" \n",
    "    def __init__(self, means=np.zeros(0), stds=np.ones(0)):\n",
    "        self.means = means\n",
    "        self.stds = stds\n",
    "        \n",
    "    def fit(self, array):\n",
    "        self.means = array.mean(axis=0)\n",
    "        self.stds = array.std(axis=0)\n",
    "        \n",
    "        self.stds[self.stds == 0] = 1\n",
    "        \n",
    "        return self\n",
    "        \n",
    "    def __call__(self, sample):\n",
    "        return (sample - self.means) / self.stds\n",
    "    \n",
    "    def inverse_tranform(self, normalized):\n",
    "        return normalized * self.stds[None, :] + self.means[None, :]\n",
    "\n",
    "    def to_dict(self):\n",
    "        return dict(means=self.means, stds=self.stds)\n",
    "\n",
    "    \n",
    "class Subsampler:\n",
    "    \"\"\"\n",
    "    \n",
    "    \"\"\" \n",
    "    def __init__(self, length=128):\n",
    "        self.length = length\n",
    "        \n",
    "    def __call__(self, array):\n",
    "        _len = array.shape[0]\n",
    "        \n",
    "        idxes = np.arange(_len)\n",
    "        \n",
    "        if  self.length < _len:\n",
    "            _sampled = np.random.permutation(idxes)[:self.length]\n",
    "        elif self.length == _len:\n",
    "            _sampled = idxes\n",
    "        elif self.length / 2 < _len:\n",
    "            _sampled = idxes.tolist() + np.random.choice(idxes, self.length - _len).tolist()\n",
    "        else:\n",
    "            _sampled = np.random.choice(idxes, self.length).tolist()\n",
    "            \n",
    "        _sampled = np.sort(_sampled)\n",
    "        \n",
    "        return array[_sampled]\n",
    "        \n",
    "    def to_dict(self):\n",
    "        return dict(length=self.length)\n",
    "\n",
    "        \n",
    "class ToTensor:\n",
    "    \"\"\"\n",
    "    \n",
    "    \"\"\" \n",
    "        \n",
    "    def __call__(self, array):\n",
    "        return torch.Tensor(array)#.unsqueeze(1)"
   ]
  },
  {
   "cell_type": "code",
   "execution_count": null,
   "id": "68b34349",
   "metadata": {
    "lines_to_next_cell": 2
   },
   "outputs": [],
   "source": []
  },
  {
   "cell_type": "code",
   "execution_count": 16,
   "id": "66501854",
   "metadata": {
    "ExecuteTime": {
     "end_time": "2023-02-12T14:23:11.763495Z",
     "start_time": "2023-02-12T14:22:43.168014Z"
    },
    "scrolled": false
   },
   "outputs": [],
   "source": [
    "from torchvision.transforms import Resize, Lambda, Compose\n",
    "\n",
    "if __name__==\"__main__\":\n",
    "    vars_x = data_params.vars_x\n",
    "    vars_y = data_params.vars_y\n",
    "\n",
    "    transform_img_temp = Compose([Subsampler(10), ToTensor(), \n",
    "                                  Resize((300, 300))\n",
    "                                 ])\n",
    "\n",
    "    temp_dataset = SpecimenDataset(df_meta.loc[:, :], image_dir, \n",
    "                                   vars_x=vars_x, vars_y=vars_y,\n",
    "                                   transform_x_on_img=transform_img_temp,\n",
    "                                   transform_x_off_img=transform_img_temp,\n",
    "                                  )\n",
    "\n",
    "    x, y, on_imgs, off_imgs, specimen_id, idx = next(iter(DataLoader(temp_dataset, batch_size=16, shuffle=True)))\n",
    "\n",
    "    min_pixel = on_imgs.min().item()\n",
    "    max_pixel = on_imgs.max().item()\n"
   ]
  },
  {
   "cell_type": "code",
   "execution_count": 17,
   "id": "8b469c3a",
   "metadata": {
    "ExecuteTime": {
     "end_time": "2023-02-12T14:23:11.769275Z",
     "start_time": "2023-02-12T14:23:11.764819Z"
    },
    "lines_to_next_cell": 2
   },
   "outputs": [],
   "source": [
    "if __name__==\"__main__\":\n",
    "\n",
    "    normalizer_x = Normalizer().fit(df_meta.loc[train_specimen_id_list, vars_x].values)\n",
    "    normalizer_y = Normalizer().fit(df_meta.loc[train_specimen_id_list, vars_y].values)\n",
    "    normalizer_img = Lambda(lambda x: (x - min_pixel) / (max_pixel - min_pixel))"
   ]
  },
  {
   "cell_type": "code",
   "execution_count": 18,
   "id": "21393e7b",
   "metadata": {
    "ExecuteTime": {
     "end_time": "2023-02-12T14:23:11.784590Z",
     "start_time": "2023-02-12T14:23:11.770547Z"
    }
   },
   "outputs": [],
   "source": [
    "if __name__==\"__main__\":\n",
    "    \n",
    "    data_params['norm_x'] = {k:v.tolist() for k, v in normalizer_x.to_dict().items()}\n",
    "    data_params['norm_y'] = {k:v.tolist() for k, v in normalizer_y.to_dict().items()}\n",
    "    data_params['norm_x_img'] = dict(min_pixel=min_pixel, max_pixel=max_pixel)\n",
    "\n",
    "    data_params['num_imgs'] = 128\n",
    "    data_params['min_pixel'] = min_pixel\n",
    "    data_params['max_pixel'] = max_pixel\n",
    "\n",
    "    data_params"
   ]
  },
  {
   "cell_type": "code",
   "execution_count": 19,
   "id": "b5250455",
   "metadata": {
    "ExecuteTime": {
     "end_time": "2023-02-12T14:23:11.792383Z",
     "start_time": "2023-02-12T14:23:11.785764Z"
    }
   },
   "outputs": [],
   "source": [
    "def make_dataset(data_params, df_meta, specimen_id_list):\n",
    "    \n",
    "    lamdba_float = Lambda(lambda x: torch.Tensor(x).float())\n",
    "    norm_img = Lambda(lambda x: (x - data_params.min_pixel) / (data_params.max_pixel - data_params.min_pixel))\n",
    "    \n",
    "    transform_x = Compose([Normalizer(**data_params.norm_x), lamdba_float])\n",
    "    transform_y = Compose([Normalizer(**data_params.norm_y), lamdba_float])\n",
    "    transform_img = Compose([Subsampler(data_params.num_imgs), ToTensor(), \n",
    "                             Resize((300, 300)), norm_img\n",
    "                            ])\n",
    "\n",
    "    dataset = SpecimenDataset(df_meta.loc[specimen_id_list, :], data_params.image_dir, \n",
    "                              vars_x=data_params.vars_x, vars_y=data_params.vars_y,\n",
    "                              transform_x=transform_x,\n",
    "                              transform_y=transform_y,\n",
    "                              transform_x_on_img=transform_img,\n",
    "                              transform_x_off_img=transform_img,\n",
    "                             )\n",
    "    return dataset"
   ]
  },
  {
   "cell_type": "code",
   "execution_count": 20,
   "id": "011877a5",
   "metadata": {
    "ExecuteTime": {
     "end_time": "2023-02-12T14:23:11.883690Z",
     "start_time": "2023-02-12T14:23:11.793328Z"
    }
   },
   "outputs": [],
   "source": [
    "if __name__==\"__main__\":\n",
    "\n",
    "    train_dataset = make_dataset(data_params, df_meta, train_specimen_id_list)\n",
    "    valid_dataset = make_dataset(data_params, df_meta, valid_specimen_id_list)\n",
    "    test_dataset = make_dataset(data_params, df_meta, test_specimen_id_list)"
   ]
  },
  {
   "cell_type": "code",
   "execution_count": null,
   "id": "517b2728",
   "metadata": {
    "lines_to_next_cell": 2
   },
   "outputs": [],
   "source": []
  },
  {
   "cell_type": "markdown",
   "id": "4bfb1bf1",
   "metadata": {
    "ExecuteTime": {
     "end_time": "2023-02-01T00:08:53.425543Z",
     "start_time": "2023-02-01T00:08:53.425537Z"
    }
   },
   "source": [
    "# Learn"
   ]
  },
  {
   "cell_type": "code",
   "execution_count": 21,
   "id": "0689dc86",
   "metadata": {
    "ExecuteTime": {
     "end_time": "2023-02-12T14:23:12.132872Z",
     "start_time": "2023-02-12T14:23:11.884867Z"
    }
   },
   "outputs": [],
   "source": [
    "import torch\n",
    "import torch.nn as nn\n",
    "import torch.nn.functional as F\n",
    "import pytorch_lightning as pl\n",
    "from pytorch_lightning import LightningModule\n",
    "from resnet import ResNet, BasicBlock\n",
    "from munch import Munch\n",
    "\n",
    "#torch.backends.cudnn.enabled=False\n",
    "\n",
    "\n",
    "class DataModule(pl.LightningDataModule):\n",
    "    def __init__(self, params, train_dataset, test_dataset, val_dataset=None):\n",
    "        super().__init__()\n",
    "\n",
    "        self.train = train_dataset\n",
    "        self.val = val_dataset\n",
    "        self.test = test_dataset\n",
    "        self.params = params\n",
    "        \n",
    "    def train_dataloader(self, shuffle=True, drop_last=True):\n",
    "        train_loader = DataLoader(dataset=self.train, \n",
    "                                  batch_size=self.params.batch_size, \n",
    "                                  num_workers=self.params.num_workers,\n",
    "                                  shuffle=shuffle,\n",
    "                                  drop_last=drop_last)\n",
    "        return train_loader\n",
    "            \n",
    "    def val_dataloader(self, shuffle=False, drop_last=True):\n",
    "        if self.val:\n",
    "            val_loader = DataLoader(dataset=self.val, \n",
    "                                    batch_size=self.params.batch_size, \n",
    "                                    num_workers=self.params.num_workers,\n",
    "                                    shuffle=shuffle,\n",
    "                                    drop_last=drop_last)\n",
    "            return val_loader\n",
    "        else:\n",
    "            return None\n",
    "            \n",
    "    def test_dataloader(self, shuffle=False, drop_last=True):\n",
    "        test_loader = DataLoader(dataset=self.test, \n",
    "                        batch_size=self.params.batch_size, #self.test.__len__(), \n",
    "                        num_workers=self.params.num_workers,\n",
    "                        shuffle=shuffle,\n",
    "                        drop_last=drop_last)\n",
    "        return test_loader\n",
    "\n",
    "\n",
    "class RegressionModule(LightningModule):\n",
    "    def __init__(self, params):\n",
    "        super().__init__()\n",
    "        self.learning_rate = params.learning_rate\n",
    "        self.weight_decay = params.weight_decay\n",
    "        self.output_size = params.output_size\n",
    "        self.input_size = params.input_size\n",
    "        self.hidden_size = params.hidden_size\n",
    "        self.num_layers = params.num_layers\n",
    "        self.num_imgs = params.num_imgs\n",
    "        \n",
    "        self.inp_enc_out = params.inp_enc_out\n",
    "        self.on_img_enc_out = params.on_img_enc_out\n",
    "        self.off_img_enc_out = params.off_img_enc_out\n",
    "        \n",
    "        self.inp_encoder = nn.Sequential(\n",
    "            nn.Linear(self.input_size, self.inp_enc_out), \n",
    "            nn.ReLU(), \n",
    "            nn.Dropout(params.dropout), \n",
    "        )\n",
    "        \n",
    "#         #self.img_encoder = create_model()\n",
    "        self.on_img_encoder = ResNet(BasicBlock, [1,1,1,1], num_classes=self.on_img_enc_out, num_input=self.num_imgs)\n",
    "        self.off_img_encoder = ResNet(BasicBlock, [1,1,1,1], num_classes=self.off_img_enc_out, num_input=self.num_imgs)\n",
    "#         #self.model = _resnet(\"resnet\", BasicBlock, [1,1,1,1], pretrained=False, progress=False, num_classes=1)\n",
    "        \n",
    "        self.layers = nn.Sequential(\n",
    "            nn.Linear(self.inp_enc_out + self.on_img_enc_out + self.off_img_enc_out, 128), nn.ReLU(), nn.Dropout(params.dropout), \n",
    "            nn.Linear(128, 32), nn.ReLU(), nn.Dropout(params.dropout), \n",
    "            nn.Linear(32, self.output_size),\n",
    "        )\n",
    "        \n",
    "        self.save_hyperparameters()\n",
    "    \n",
    "    def forward(self, x_inp, x_on_img, x_off_img, debug=False): #[B,L,I]\n",
    "        \n",
    "        if debug: print(x_inp.shape, x_on_img.shape, x_off_img.shape)\n",
    "            \n",
    "        out_inp = self.inp_encoder(x_inp)\n",
    "        out_on_img = self.on_img_encoder(x_on_img)\n",
    "        out_off_img = self.off_img_encoder(x_off_img)\n",
    "\n",
    "        if debug: print(out_inp.shape, out_on_img.shape, out_off_img.shape)\n",
    "            \n",
    "        out = torch.cat((out_inp.view(-1, self.inp_enc_out), \n",
    "                         out_on_img.view(-1, self.on_img_enc_out), \n",
    "                         out_off_img.view(-1, self.off_img_enc_out), ), dim=-1)\n",
    "        \n",
    "        if debug: print(out.shape)\n",
    "        \n",
    "        return self.layers(out)\n",
    "    \n",
    "    def configure_optimizers(self):\n",
    "        optimizer = torch.optim.Adam(self.parameters(),\n",
    "                                     lr=self.learning_rate, \n",
    "                                     weight_decay=self.weight_decay) \n",
    "        return optimizer\n",
    "    \n",
    "    def _step(self, batch, mode='train'):\n",
    "        x_inp, y, x_on_imgs, x_off_imgs, sample_num, idx = batch\n",
    "        \n",
    "        if torch.cuda.is_available():\n",
    "            x_inp, y = x_inp.cuda(),  y.cuda()\n",
    "            x_on_imgs, x_off_imgs = x_on_imgs.cuda(), x_off_imgs.cuda()\n",
    "        y_pred = self.forward(x_inp, x_on_imgs, x_off_imgs)\n",
    "        loss = F.mse_loss(y_pred, y)\n",
    "        self.log('{}_loss'.format(mode), loss)\n",
    "        return loss\n",
    "    \n",
    "    def training_step(self, batch, batch_idx):\n",
    "        return self._step(batch, mode='train')\n",
    "    \n",
    "    def validation_step(self, batch, batch_idx):\n",
    "        return self._step(batch, mode='val')\n",
    "    \n",
    "    def test_step(self, batch, batch_idx):\n",
    "        return self._step(batch, mode='test')\n",
    "\n",
    "    \n",
    "def he_init(module):\n",
    "    if isinstance(module, nn.Conv2d):\n",
    "        nn.init.kaiming_normal_(module.weight, mode='fan_in', nonlinearity='relu')\n",
    "        if module.bias is not None:\n",
    "            nn.init.constant_(module.bias, 0)\n",
    "    if isinstance(module, nn.Linear):\n",
    "        nn.init.kaiming_normal_(module.weight, mode='fan_in', nonlinearity='relu')\n",
    "        if module.bias is not None:\n",
    "            nn.init.constant_(module.bias, 0)\n",
    "\n",
    "def to_gpu(module):\n",
    "    device = torch.cuda.current_device()\n",
    "    module.to(device)"
   ]
  },
  {
   "cell_type": "code",
   "execution_count": 22,
   "id": "62ad9d78",
   "metadata": {
    "ExecuteTime": {
     "end_time": "2023-02-12T14:23:12.135435Z",
     "start_time": "2023-02-12T14:23:12.133879Z"
    }
   },
   "outputs": [],
   "source": [
    "log_base_dir = 'logs/'"
   ]
  },
  {
   "cell_type": "code",
   "execution_count": 23,
   "id": "d75cab45",
   "metadata": {
    "ExecuteTime": {
     "end_time": "2023-02-12T14:23:12.198885Z",
     "start_time": "2023-02-12T14:23:12.136229Z"
    },
    "lines_to_next_cell": 2
   },
   "outputs": [
    {
     "data": {
      "text/plain": [
       "Munch({'window_size': 1, 'batch_size': 8, 'num_workers': 8, 'input_size': 17, 'output_size': 4, 'hidden_size': 32, 'num_layers': 4, 'learning_rate': 5e-05, 'max_epochs': 100, 'weight_decay': 0.0, 'dropout': 0.0, 'gpu': True, 'exp_title': 'ver14', 'is_train': True, 'model_path': None, 'num_imgs': 128, 'inp_enc_out': 32, 'on_img_enc_out': 16, 'off_img_enc_out': 16})"
      ]
     },
     "metadata": {},
     "output_type": "display_data"
    }
   ],
   "source": [
    "if __name__==\"__main__\":\n",
    "    params = Munch(\n",
    "        window_size=1, \n",
    "        batch_size=8, #8, \n",
    "        num_workers=8,\n",
    "        input_size=len(vars_x), \n",
    "        output_size=len(vars_y),\n",
    "        hidden_size=32, \n",
    "        num_layers=4,\n",
    "        learning_rate=5e-5,\n",
    "        max_epochs=100,\n",
    "        weight_decay=0.0,\n",
    "        dropout=0.0,\n",
    "        gpu=torch.cuda.is_available(),\n",
    "        exp_title='ver05',\n",
    "        is_train=True, \n",
    "        model_path=None,\n",
    "        num_imgs=data_params.num_imgs,\n",
    "\n",
    "        inp_enc_out=32,\n",
    "        on_img_enc_out=16,\n",
    "        off_img_enc_out=16,\n",
    "        )\n",
    "\n",
    "    params.exp_title='ver14'\n",
    "    params.weight_decay=0.0\n",
    "    params.dropout=0.0\n",
    "    \n",
    "    display(params)"
   ]
  },
  {
   "cell_type": "code",
   "execution_count": 24,
   "id": "fe0c5870",
   "metadata": {
    "ExecuteTime": {
     "end_time": "2023-02-12T14:23:12.210368Z",
     "start_time": "2023-02-12T14:23:12.199938Z"
    }
   },
   "outputs": [],
   "source": [
    "if __name__==\"__main__\":\n",
    "    params.data_params=data_params\n",
    "    params.specimen_id_list = dict(\n",
    "        train=train_specimen_id_list,\n",
    "        valid=valid_specimen_id_list,\n",
    "        test=test_specimen_id_list\n",
    "    )"
   ]
  },
  {
   "cell_type": "code",
   "execution_count": 25,
   "id": "dce03b7a",
   "metadata": {
    "ExecuteTime": {
     "end_time": "2023-02-12T14:23:12.218091Z",
     "start_time": "2023-02-12T14:23:12.211161Z"
    }
   },
   "outputs": [],
   "source": [
    "if __name__==\"__main__\":\n",
    "    data_module = DataModule(params, train_dataset, test_dataset, valid_dataset)"
   ]
  },
  {
   "cell_type": "code",
   "execution_count": 26,
   "id": "ad853f88",
   "metadata": {
    "ExecuteTime": {
     "end_time": "2023-02-12T14:23:12.303615Z",
     "start_time": "2023-02-12T14:23:12.218912Z"
    },
    "scrolled": false
   },
   "outputs": [
    {
     "data": {
      "text/plain": [
       "RegressionModule(\n",
       "  (inp_encoder): Sequential(\n",
       "    (0): Linear(in_features=17, out_features=32, bias=True)\n",
       "    (1): ReLU()\n",
       "    (2): Dropout(p=0.0, inplace=False)\n",
       "  )\n",
       "  (on_img_encoder): ResNet(\n",
       "    (conv1): Conv2d(128, 64, kernel_size=(7, 7), stride=(2, 2), padding=(3, 3), bias=False)\n",
       "    (bn1): BatchNorm2d(64, eps=1e-05, momentum=0.1, affine=True, track_running_stats=True)\n",
       "    (relu): ReLU(inplace=True)\n",
       "    (maxpool): MaxPool2d(kernel_size=3, stride=2, padding=1, dilation=1, ceil_mode=False)\n",
       "    (layer1): Sequential(\n",
       "      (0): BasicBlock(\n",
       "        (conv1): Conv2d(64, 64, kernel_size=(3, 3), stride=(1, 1), padding=(1, 1), bias=False)\n",
       "        (bn1): BatchNorm2d(64, eps=1e-05, momentum=0.1, affine=True, track_running_stats=True)\n",
       "        (relu): ReLU(inplace=True)\n",
       "        (conv2): Conv2d(64, 64, kernel_size=(3, 3), stride=(1, 1), padding=(1, 1), bias=False)\n",
       "        (bn2): BatchNorm2d(64, eps=1e-05, momentum=0.1, affine=True, track_running_stats=True)\n",
       "      )\n",
       "    )\n",
       "    (layer2): Sequential(\n",
       "      (0): BasicBlock(\n",
       "        (conv1): Conv2d(64, 128, kernel_size=(3, 3), stride=(2, 2), padding=(1, 1), bias=False)\n",
       "        (bn1): BatchNorm2d(128, eps=1e-05, momentum=0.1, affine=True, track_running_stats=True)\n",
       "        (relu): ReLU(inplace=True)\n",
       "        (conv2): Conv2d(128, 128, kernel_size=(3, 3), stride=(1, 1), padding=(1, 1), bias=False)\n",
       "        (bn2): BatchNorm2d(128, eps=1e-05, momentum=0.1, affine=True, track_running_stats=True)\n",
       "        (downsample): Sequential(\n",
       "          (0): Conv2d(64, 128, kernel_size=(1, 1), stride=(2, 2), bias=False)\n",
       "          (1): BatchNorm2d(128, eps=1e-05, momentum=0.1, affine=True, track_running_stats=True)\n",
       "        )\n",
       "      )\n",
       "    )\n",
       "    (layer3): Sequential(\n",
       "      (0): BasicBlock(\n",
       "        (conv1): Conv2d(128, 256, kernel_size=(3, 3), stride=(2, 2), padding=(1, 1), bias=False)\n",
       "        (bn1): BatchNorm2d(256, eps=1e-05, momentum=0.1, affine=True, track_running_stats=True)\n",
       "        (relu): ReLU(inplace=True)\n",
       "        (conv2): Conv2d(256, 256, kernel_size=(3, 3), stride=(1, 1), padding=(1, 1), bias=False)\n",
       "        (bn2): BatchNorm2d(256, eps=1e-05, momentum=0.1, affine=True, track_running_stats=True)\n",
       "        (downsample): Sequential(\n",
       "          (0): Conv2d(128, 256, kernel_size=(1, 1), stride=(2, 2), bias=False)\n",
       "          (1): BatchNorm2d(256, eps=1e-05, momentum=0.1, affine=True, track_running_stats=True)\n",
       "        )\n",
       "      )\n",
       "    )\n",
       "    (layer4): Sequential(\n",
       "      (0): BasicBlock(\n",
       "        (conv1): Conv2d(256, 512, kernel_size=(3, 3), stride=(2, 2), padding=(1, 1), bias=False)\n",
       "        (bn1): BatchNorm2d(512, eps=1e-05, momentum=0.1, affine=True, track_running_stats=True)\n",
       "        (relu): ReLU(inplace=True)\n",
       "        (conv2): Conv2d(512, 512, kernel_size=(3, 3), stride=(1, 1), padding=(1, 1), bias=False)\n",
       "        (bn2): BatchNorm2d(512, eps=1e-05, momentum=0.1, affine=True, track_running_stats=True)\n",
       "        (downsample): Sequential(\n",
       "          (0): Conv2d(256, 512, kernel_size=(1, 1), stride=(2, 2), bias=False)\n",
       "          (1): BatchNorm2d(512, eps=1e-05, momentum=0.1, affine=True, track_running_stats=True)\n",
       "        )\n",
       "      )\n",
       "    )\n",
       "    (avgpool): AdaptiveAvgPool2d(output_size=(1, 1))\n",
       "    (fc): Linear(in_features=512, out_features=16, bias=True)\n",
       "  )\n",
       "  (off_img_encoder): ResNet(\n",
       "    (conv1): Conv2d(128, 64, kernel_size=(7, 7), stride=(2, 2), padding=(3, 3), bias=False)\n",
       "    (bn1): BatchNorm2d(64, eps=1e-05, momentum=0.1, affine=True, track_running_stats=True)\n",
       "    (relu): ReLU(inplace=True)\n",
       "    (maxpool): MaxPool2d(kernel_size=3, stride=2, padding=1, dilation=1, ceil_mode=False)\n",
       "    (layer1): Sequential(\n",
       "      (0): BasicBlock(\n",
       "        (conv1): Conv2d(64, 64, kernel_size=(3, 3), stride=(1, 1), padding=(1, 1), bias=False)\n",
       "        (bn1): BatchNorm2d(64, eps=1e-05, momentum=0.1, affine=True, track_running_stats=True)\n",
       "        (relu): ReLU(inplace=True)\n",
       "        (conv2): Conv2d(64, 64, kernel_size=(3, 3), stride=(1, 1), padding=(1, 1), bias=False)\n",
       "        (bn2): BatchNorm2d(64, eps=1e-05, momentum=0.1, affine=True, track_running_stats=True)\n",
       "      )\n",
       "    )\n",
       "    (layer2): Sequential(\n",
       "      (0): BasicBlock(\n",
       "        (conv1): Conv2d(64, 128, kernel_size=(3, 3), stride=(2, 2), padding=(1, 1), bias=False)\n",
       "        (bn1): BatchNorm2d(128, eps=1e-05, momentum=0.1, affine=True, track_running_stats=True)\n",
       "        (relu): ReLU(inplace=True)\n",
       "        (conv2): Conv2d(128, 128, kernel_size=(3, 3), stride=(1, 1), padding=(1, 1), bias=False)\n",
       "        (bn2): BatchNorm2d(128, eps=1e-05, momentum=0.1, affine=True, track_running_stats=True)\n",
       "        (downsample): Sequential(\n",
       "          (0): Conv2d(64, 128, kernel_size=(1, 1), stride=(2, 2), bias=False)\n",
       "          (1): BatchNorm2d(128, eps=1e-05, momentum=0.1, affine=True, track_running_stats=True)\n",
       "        )\n",
       "      )\n",
       "    )\n",
       "    (layer3): Sequential(\n",
       "      (0): BasicBlock(\n",
       "        (conv1): Conv2d(128, 256, kernel_size=(3, 3), stride=(2, 2), padding=(1, 1), bias=False)\n",
       "        (bn1): BatchNorm2d(256, eps=1e-05, momentum=0.1, affine=True, track_running_stats=True)\n",
       "        (relu): ReLU(inplace=True)\n",
       "        (conv2): Conv2d(256, 256, kernel_size=(3, 3), stride=(1, 1), padding=(1, 1), bias=False)\n",
       "        (bn2): BatchNorm2d(256, eps=1e-05, momentum=0.1, affine=True, track_running_stats=True)\n",
       "        (downsample): Sequential(\n",
       "          (0): Conv2d(128, 256, kernel_size=(1, 1), stride=(2, 2), bias=False)\n",
       "          (1): BatchNorm2d(256, eps=1e-05, momentum=0.1, affine=True, track_running_stats=True)\n",
       "        )\n",
       "      )\n",
       "    )\n",
       "    (layer4): Sequential(\n",
       "      (0): BasicBlock(\n",
       "        (conv1): Conv2d(256, 512, kernel_size=(3, 3), stride=(2, 2), padding=(1, 1), bias=False)\n",
       "        (bn1): BatchNorm2d(512, eps=1e-05, momentum=0.1, affine=True, track_running_stats=True)\n",
       "        (relu): ReLU(inplace=True)\n",
       "        (conv2): Conv2d(512, 512, kernel_size=(3, 3), stride=(1, 1), padding=(1, 1), bias=False)\n",
       "        (bn2): BatchNorm2d(512, eps=1e-05, momentum=0.1, affine=True, track_running_stats=True)\n",
       "        (downsample): Sequential(\n",
       "          (0): Conv2d(256, 512, kernel_size=(1, 1), stride=(2, 2), bias=False)\n",
       "          (1): BatchNorm2d(512, eps=1e-05, momentum=0.1, affine=True, track_running_stats=True)\n",
       "        )\n",
       "      )\n",
       "    )\n",
       "    (avgpool): AdaptiveAvgPool2d(output_size=(1, 1))\n",
       "    (fc): Linear(in_features=512, out_features=16, bias=True)\n",
       "  )\n",
       "  (layers): Sequential(\n",
       "    (0): Linear(in_features=64, out_features=128, bias=True)\n",
       "    (1): ReLU()\n",
       "    (2): Dropout(p=0.0, inplace=False)\n",
       "    (3): Linear(in_features=128, out_features=32, bias=True)\n",
       "    (4): ReLU()\n",
       "    (5): Dropout(p=0.0, inplace=False)\n",
       "    (6): Linear(in_features=32, out_features=4, bias=True)\n",
       "  )\n",
       ")"
      ]
     },
     "metadata": {},
     "output_type": "display_data"
    }
   ],
   "source": [
    "def _build_model(params):\n",
    "    model = RegressionModule(params)\n",
    "    return model\n",
    "\n",
    "def _init_model(params, model):\n",
    "    if params.is_train:\n",
    "        model.apply(he_init)       \n",
    "        if params.gpu:\n",
    "            model.apply(to_gpu)\n",
    "\n",
    "    else:\n",
    "        model_dir = search_model_ckpt(log_base_dir, params.exp_title)\n",
    "        #model_dir = os.path.join(os.path.join(log_base_dir, params.exp_title),'epoch={}.ckpt'.format(params.max_epochs))\n",
    "        model_ckpt = torch.load(model_dir)\n",
    "        model.load_state_dict(model_ckpt['state_dict'])\n",
    "        if params.gpu:\n",
    "            model.apply(to_gpu)\n",
    "            \n",
    "            \n",
    "if __name__==\"__main__\":\n",
    "    model = _build_model(params)\n",
    "    display(model)"
   ]
  },
  {
   "cell_type": "code",
   "execution_count": 27,
   "id": "2542905a",
   "metadata": {
    "ExecuteTime": {
     "end_time": "2023-02-12T14:23:12.306123Z",
     "start_time": "2023-02-12T14:23:12.304649Z"
    }
   },
   "outputs": [],
   "source": [
    "# if __name__==\"__main__\":\n",
    "#     x, y, on_imgs, off_imgs, _, _ = next(iter(data_module.test_dataloader()))\n",
    "\n",
    "#     model(x, on_imgs, off_imgs, True)"
   ]
  },
  {
   "cell_type": "code",
   "execution_count": 28,
   "id": "5442fafb",
   "metadata": {
    "ExecuteTime": {
     "end_time": "2023-02-12T21:54:49.549027Z",
     "start_time": "2023-02-12T14:23:12.307962Z"
    },
    "scrolled": false
   },
   "outputs": [
    {
     "name": "stdout",
     "output_type": "stream",
     "text": [
      "2023-02-12 23:23:12.313859 Start Training\n"
     ]
    },
    {
     "name": "stderr",
     "output_type": "stream",
     "text": [
      "/home/kikim/anaconda3/envs/mmdl/lib/python3.9/site-packages/pytorch_lightning/trainer/connectors/accelerator_connector.py:467: LightningDeprecationWarning: Setting `Trainer(gpus=1)` is deprecated in v1.7 and will be removed in v2.0. Please use `Trainer(accelerator='gpu', devices=1)` instead.\n",
      "  rank_zero_deprecation(\n",
      "/home/kikim/anaconda3/envs/mmdl/lib/python3.9/site-packages/pytorch_lightning/trainer/connectors/accelerator_connector.py:578: LightningDeprecationWarning: The Trainer argument `auto_select_gpus` has been deprecated in v1.9.0 and will be removed in v2.0.0. Please use the function `pytorch_lightning.accelerators.find_usable_cuda_devices` instead.\n",
      "  rank_zero_deprecation(\n",
      "Auto select gpus: [0]\n",
      "GPU available: True (cuda), used: True\n",
      "TPU available: False, using: 0 TPU cores\n",
      "IPU available: False, using: 0 IPUs\n",
      "HPU available: False, using: 0 HPUs\n",
      "You are using a CUDA device ('NVIDIA GeForce RTX 4090') that has Tensor Cores. To properly utilize them, you should set `torch.set_float32_matmul_precision('medium' | 'high')` which will trade-off precision for performance. For more details, read https://pytorch.org/docs/stable/generated/torch.set_float32_matmul_precision.html#torch.set_float32_matmul_precision\n",
      "LOCAL_RANK: 0 - CUDA_VISIBLE_DEVICES: [0]\n",
      "\n",
      "  | Name            | Type       | Params\n",
      "-----------------------------------------------\n",
      "0 | inp_encoder     | Sequential | 576   \n",
      "1 | on_img_encoder  | ResNet     | 5.3 M \n",
      "2 | off_img_encoder | ResNet     | 5.3 M \n",
      "3 | layers          | Sequential | 12.6 K\n",
      "-----------------------------------------------\n",
      "10.6 M    Trainable params\n",
      "0         Non-trainable params\n",
      "10.6 M    Total params\n",
      "42.501    Total estimated model params size (MB)\n"
     ]
    },
    {
     "data": {
      "application/vnd.jupyter.widget-view+json": {
       "model_id": "",
       "version_major": 2,
       "version_minor": 0
      },
      "text/plain": [
       "Sanity Checking: 0it [00:00, ?it/s]"
      ]
     },
     "metadata": {},
     "output_type": "display_data"
    },
    {
     "data": {
      "application/vnd.jupyter.widget-view+json": {
       "model_id": "9459446552f04e37ab972027787f8951",
       "version_major": 2,
       "version_minor": 0
      },
      "text/plain": [
       "Training: 0it [00:00, ?it/s]"
      ]
     },
     "metadata": {},
     "output_type": "display_data"
    },
    {
     "name": "stderr",
     "output_type": "stream",
     "text": [
      "[mpeg4 @ 0xc7c5ea00] ac-tex damaged at 13 7\n",
      "[mpeg4 @ 0xc7c5ea00] Error at MB: 153\n",
      "[mpeg4 @ 0xc7756540] ac-tex damaged at 9 5\n",
      "[mpeg4 @ 0xc7756540] Error at MB: 109\n",
      "[mpeg4 @ 0xc7756540] illegal dc vlc\n",
      "[mpeg4 @ 0xc7756540] Error at MB: 202\n",
      "[mpeg4 @ 0xc7ce34c0] ac-tex damaged at 10 5\n",
      "[mpeg4 @ 0xc7ce34c0] Error at MB: 110\n",
      "[mpeg4 @ 0xc77a0500] ac-tex damaged at 13 7\n",
      "[mpeg4 @ 0xc77a0500] Error at MB: 153\n",
      "[mpeg4 @ 0xdcc6ef40] ac-tex damaged at 10 5\n",
      "[mpeg4 @ 0xdcc6ef40] Error at MB: 110\n"
     ]
    },
    {
     "data": {
      "application/vnd.jupyter.widget-view+json": {
       "model_id": "",
       "version_major": 2,
       "version_minor": 0
      },
      "text/plain": [
       "Validation: 0it [00:00, ?it/s]"
      ]
     },
     "metadata": {},
     "output_type": "display_data"
    },
    {
     "name": "stderr",
     "output_type": "stream",
     "text": [
      "[mpeg4 @ 0xcb515a00] illegal dc vlc\n",
      "[mpeg4 @ 0xcb515a00] Error at MB: 202\n",
      "[mpeg4 @ 0xcb362580] ac-tex damaged at 13 7\n",
      "[mpeg4 @ 0xcb362580] Error at MB: 153\n",
      "[mpeg4 @ 0x81daac0] ac-tex damaged at 10 5\n",
      "[mpeg4 @ 0x81daac0] Error at MB: 110\n",
      "[mpeg4 @ 0xc9834f80] ac-tex damaged at 10 5\n",
      "[mpeg4 @ 0xc9834f80] Error at MB: 110\n",
      "[mpeg4 @ 0xcb34cec0] ac-tex damaged at 13 7\n",
      "[mpeg4 @ 0xcb34cec0] Error at MB: 153\n",
      "[mpeg4 @ 0xcb362580] ac-tex damaged at 9 5\n",
      "[mpeg4 @ 0xcb362580] Error at MB: 109\n"
     ]
    },
    {
     "data": {
      "application/vnd.jupyter.widget-view+json": {
       "model_id": "",
       "version_major": 2,
       "version_minor": 0
      },
      "text/plain": [
       "Validation: 0it [00:00, ?it/s]"
      ]
     },
     "metadata": {},
     "output_type": "display_data"
    },
    {
     "name": "stderr",
     "output_type": "stream",
     "text": [
      "[mpeg4 @ 0xcb362580] illegal dc vlc\n",
      "[mpeg4 @ 0xcb362580] Error at MB: 202\n",
      "[mpeg4 @ 0xcb3593c0] ac-tex damaged at 13 7\n",
      "[mpeg4 @ 0xcb3593c0] Error at MB: 153\n",
      "[mpeg4 @ 0xcb53d1c0] ac-tex damaged at 10 5\n",
      "[mpeg4 @ 0xcb53d1c0] Error at MB: 110\n",
      "[mpeg4 @ 0xcb53d1c0] ac-tex damaged at 13 7\n",
      "[mpeg4 @ 0xcb53d1c0] Error at MB: 153\n",
      "[mpeg4 @ 0xcb35ec40] ac-tex damaged at 10 5\n",
      "[mpeg4 @ 0xcb35ec40] Error at MB: 110\n",
      "[mpeg4 @ 0xcb35ec40] ac-tex damaged at 9 5\n",
      "[mpeg4 @ 0xcb35ec40] Error at MB: 109\n"
     ]
    },
    {
     "data": {
      "application/vnd.jupyter.widget-view+json": {
       "model_id": "",
       "version_major": 2,
       "version_minor": 0
      },
      "text/plain": [
       "Validation: 0it [00:00, ?it/s]"
      ]
     },
     "metadata": {},
     "output_type": "display_data"
    },
    {
     "name": "stderr",
     "output_type": "stream",
     "text": [
      "[mpeg4 @ 0xcb347e80] ac-tex damaged at 13 7\n",
      "[mpeg4 @ 0xcb347e80] Error at MB: 153\n",
      "[mpeg4 @ 0xcb34cec0] ac-tex damaged at 10 5\n",
      "[mpeg4 @ 0xcb34cec0] Error at MB: 110\n",
      "[mpeg4 @ 0xc7c61fc0] illegal dc vlc\n",
      "[mpeg4 @ 0xc7c61fc0] Error at MB: 202\n",
      "[mpeg4 @ 0xcb53aec0] ac-tex damaged at 13 7\n",
      "[mpeg4 @ 0xcb53aec0] Error at MB: 153\n",
      "[mpeg4 @ 0xcb365c40] ac-tex damaged at 10 5\n",
      "[mpeg4 @ 0xcb365c40] Error at MB: 110\n",
      "[mpeg4 @ 0xcb3640c0] ac-tex damaged at 9 5\n",
      "[mpeg4 @ 0xcb3640c0] Error at MB: 109\n"
     ]
    },
    {
     "data": {
      "application/vnd.jupyter.widget-view+json": {
       "model_id": "",
       "version_major": 2,
       "version_minor": 0
      },
      "text/plain": [
       "Validation: 0it [00:00, ?it/s]"
      ]
     },
     "metadata": {},
     "output_type": "display_data"
    },
    {
     "name": "stderr",
     "output_type": "stream",
     "text": [
      "[mpeg4 @ 0xcb365c40] ac-tex damaged at 13 7\n",
      "[mpeg4 @ 0xcb365c40] Error at MB: 153\n",
      "[mpeg4 @ 0xcb53d1c0] ac-tex damaged at 13 7\n",
      "[mpeg4 @ 0xcb53d1c0] Error at MB: 153\n",
      "[mpeg4 @ 0xc9836980] ac-tex damaged at 10 5\n",
      "[mpeg4 @ 0xc9836980] Error at MB: 110\n",
      "[mpeg4 @ 0xcb3593c0] ac-tex damaged at 10 5\n",
      "[mpeg4 @ 0xcb3593c0] Error at MB: 110\n",
      "[mpeg4 @ 0xc9838480] illegal dc vlc\n",
      "[mpeg4 @ 0xc9838480] Error at MB: 202\n",
      "[mpeg4 @ 0xcb3640c0] ac-tex damaged at 9 5\n",
      "[mpeg4 @ 0xcb3640c0] Error at MB: 109\n"
     ]
    },
    {
     "data": {
      "application/vnd.jupyter.widget-view+json": {
       "model_id": "",
       "version_major": 2,
       "version_minor": 0
      },
      "text/plain": [
       "Validation: 0it [00:00, ?it/s]"
      ]
     },
     "metadata": {},
     "output_type": "display_data"
    },
    {
     "name": "stderr",
     "output_type": "stream",
     "text": [
      "[mpeg4 @ 0xcb535880] ac-tex damaged at 10 5\n",
      "[mpeg4 @ 0xcb535880] Error at MB: 110\n",
      "[mpeg4 @ 0xcb36eb40] illegal dc vlc\n",
      "[mpeg4 @ 0xcb36eb40] Error at MB: 202\n",
      "[mpeg4 @ 0xcb365c40] ac-tex damaged at 13 7\n",
      "[mpeg4 @ 0xcb365c40] Error at MB: 153\n",
      "[mpeg4 @ 0xcb34cec0] ac-tex damaged at 13 7\n",
      "[mpeg4 @ 0xcb34cec0] Error at MB: 153\n",
      "[mpeg4 @ 0xcb745fc0] ac-tex damaged at 10 5\n",
      "[mpeg4 @ 0xcb745fc0] Error at MB: 110\n",
      "[mpeg4 @ 0xcb745fc0] ac-tex damaged at 9 5\n",
      "[mpeg4 @ 0xcb745fc0] Error at MB: 109\n"
     ]
    },
    {
     "data": {
      "application/vnd.jupyter.widget-view+json": {
       "model_id": "",
       "version_major": 2,
       "version_minor": 0
      },
      "text/plain": [
       "Validation: 0it [00:00, ?it/s]"
      ]
     },
     "metadata": {},
     "output_type": "display_data"
    },
    {
     "name": "stderr",
     "output_type": "stream",
     "text": [
      "[mpeg4 @ 0xcb36eb40] ac-tex damaged at 13 7\n",
      "[mpeg4 @ 0xcb36eb40] Error at MB: 153\n",
      "[mpeg4 @ 0xc9834f80] ac-tex damaged at 10 5\n",
      "[mpeg4 @ 0xc9834f80] Error at MB: 110\n",
      "[mpeg4 @ 0xcb744d00] ac-tex damaged at 9 5\n",
      "[mpeg4 @ 0xcb744d00] Error at MB: 109\n",
      "[mpeg4 @ 0x80b5740] ac-tex damaged at 10 5\n",
      "[mpeg4 @ 0x80b5740] Error at MB: 110\n",
      "[mpeg4 @ 0xc9836980] ac-tex damaged at 13 7\n",
      "[mpeg4 @ 0xc9836980] Error at MB: 153\n",
      "[mpeg4 @ 0xcb533bc0] illegal dc vlc\n",
      "[mpeg4 @ 0xcb533bc0] Error at MB: 202\n"
     ]
    },
    {
     "data": {
      "application/vnd.jupyter.widget-view+json": {
       "model_id": "",
       "version_major": 2,
       "version_minor": 0
      },
      "text/plain": [
       "Validation: 0it [00:00, ?it/s]"
      ]
     },
     "metadata": {},
     "output_type": "display_data"
    },
    {
     "name": "stderr",
     "output_type": "stream",
     "text": [
      "[mpeg4 @ 0x80b7280] ac-tex damaged at 10 5\n",
      "[mpeg4 @ 0x80b7280] Error at MB: 110\n",
      "[mpeg4 @ 0x81db2c0] ac-tex damaged at 9 5\n",
      "[mpeg4 @ 0x81db2c0] Error at MB: 109\n",
      "[mpeg4 @ 0xc9834f80] illegal dc vlc\n",
      "[mpeg4 @ 0xc9834f80] Error at MB: 202\n",
      "[mpeg4 @ 0xc9834f80] ac-tex damaged at 10 5\n",
      "[mpeg4 @ 0xc9834f80] Error at MB: 110\n",
      "[mpeg4 @ 0xcb3640c0] ac-tex damaged at 13 7\n",
      "[mpeg4 @ 0xcb3640c0] Error at MB: 153\n",
      "[mpeg4 @ 0x80b7280] ac-tex damaged at 13 7\n",
      "[mpeg4 @ 0x80b7280] Error at MB: 153\n"
     ]
    },
    {
     "data": {
      "application/vnd.jupyter.widget-view+json": {
       "model_id": "",
       "version_major": 2,
       "version_minor": 0
      },
      "text/plain": [
       "Validation: 0it [00:00, ?it/s]"
      ]
     },
     "metadata": {},
     "output_type": "display_data"
    },
    {
     "name": "stderr",
     "output_type": "stream",
     "text": [
      "[mpeg4 @ 0xc9836980] ac-tex damaged at 10 5\n",
      "[mpeg4 @ 0xc9836980] Error at MB: 110\n",
      "[mpeg4 @ 0xcb34cec0] ac-tex damaged at 9 5\n",
      "[mpeg4 @ 0xcb34cec0] Error at MB: 109\n",
      "[mpeg4 @ 0xcb35ec40] ac-tex damaged at 10 5\n",
      "[mpeg4 @ 0xcb35ec40] Error at MB: 110\n",
      "[mpeg4 @ 0xcb35ec40] ac-tex damaged at 13 7\n",
      "[mpeg4 @ 0xcb35ec40] Error at MB: 153\n",
      "[mpeg4 @ 0xcb36eb40] illegal dc vlc\n",
      "[mpeg4 @ 0xcb36eb40] Error at MB: 202\n",
      "[mpeg4 @ 0xcb53d1c0] ac-tex damaged at 13 7\n",
      "[mpeg4 @ 0xcb53d1c0] Error at MB: 153\n"
     ]
    },
    {
     "data": {
      "application/vnd.jupyter.widget-view+json": {
       "model_id": "",
       "version_major": 2,
       "version_minor": 0
      },
      "text/plain": [
       "Validation: 0it [00:00, ?it/s]"
      ]
     },
     "metadata": {},
     "output_type": "display_data"
    },
    {
     "name": "stderr",
     "output_type": "stream",
     "text": [
      "[mpeg4 @ 0xcb365c40] illegal dc vlc\n",
      "[mpeg4 @ 0xcb365c40] Error at MB: 202\n",
      "[mpeg4 @ 0x80b7280] ac-tex damaged at 9 5\n",
      "[mpeg4 @ 0x80b7280] Error at MB: 109\n",
      "[mpeg4 @ 0xcb3593c0] ac-tex damaged at 10 5\n",
      "[mpeg4 @ 0xcb3593c0] Error at MB: 110\n",
      "[mpeg4 @ 0xcb53d1c0] ac-tex damaged at 13 7\n",
      "[mpeg4 @ 0xcb53d1c0] Error at MB: 153\n",
      "[mpeg4 @ 0xcb362580] ac-tex damaged at 13 7\n",
      "[mpeg4 @ 0xcb362580] Error at MB: 153\n",
      "[mpeg4 @ 0xcb34cec0] ac-tex damaged at 10 5\n",
      "[mpeg4 @ 0xcb34cec0] Error at MB: 110\n"
     ]
    },
    {
     "data": {
      "application/vnd.jupyter.widget-view+json": {
       "model_id": "",
       "version_major": 2,
       "version_minor": 0
      },
      "text/plain": [
       "Validation: 0it [00:00, ?it/s]"
      ]
     },
     "metadata": {},
     "output_type": "display_data"
    },
    {
     "name": "stderr",
     "output_type": "stream",
     "text": [
      "[mpeg4 @ 0xcb36eb40] ac-tex damaged at 13 7\n",
      "[mpeg4 @ 0xcb36eb40] Error at MB: 153\n",
      "[mpeg4 @ 0xcb362580] ac-tex damaged at 10 5\n",
      "[mpeg4 @ 0xcb362580] Error at MB: 110\n",
      "[mpeg4 @ 0xcb365c40] ac-tex damaged at 9 5\n",
      "[mpeg4 @ 0xcb365c40] Error at MB: 109\n",
      "[mpeg4 @ 0xcb347e80] illegal dc vlc\n",
      "[mpeg4 @ 0xcb347e80] Error at MB: 202\n",
      "[mpeg4 @ 0xcb3522c0] ac-tex damaged at 10 5\n",
      "[mpeg4 @ 0xcb3522c0] Error at MB: 110\n",
      "[mpeg4 @ 0xcb365c40] ac-tex damaged at 13 7\n",
      "[mpeg4 @ 0xcb365c40] Error at MB: 153\n"
     ]
    },
    {
     "data": {
      "application/vnd.jupyter.widget-view+json": {
       "model_id": "",
       "version_major": 2,
       "version_minor": 0
      },
      "text/plain": [
       "Validation: 0it [00:00, ?it/s]"
      ]
     },
     "metadata": {},
     "output_type": "display_data"
    },
    {
     "name": "stderr",
     "output_type": "stream",
     "text": [
      "[mpeg4 @ 0xcb36eb40] illegal dc vlc\n",
      "[mpeg4 @ 0xcb36eb40] Error at MB: 202\n",
      "[mpeg4 @ 0xcb3522c0] ac-tex damaged at 9 5\n",
      "[mpeg4 @ 0xcb3522c0] Error at MB: 109\n",
      "[mpeg4 @ 0x80b7280] ac-tex damaged at 10 5\n",
      "[mpeg4 @ 0x80b7280] Error at MB: 110\n",
      "[mpeg4 @ 0xc9834f80] ac-tex damaged at 13 7\n",
      "[mpeg4 @ 0xc9834f80] Error at MB: 153\n",
      "[mpeg4 @ 0xcb34cec0] ac-tex damaged at 13 7\n",
      "[mpeg4 @ 0xcb34cec0] Error at MB: 153\n",
      "[mpeg4 @ 0xc9836980] ac-tex damaged at 10 5\n",
      "[mpeg4 @ 0xc9836980] Error at MB: 110\n"
     ]
    },
    {
     "data": {
      "application/vnd.jupyter.widget-view+json": {
       "model_id": "",
       "version_major": 2,
       "version_minor": 0
      },
      "text/plain": [
       "Validation: 0it [00:00, ?it/s]"
      ]
     },
     "metadata": {},
     "output_type": "display_data"
    },
    {
     "name": "stderr",
     "output_type": "stream",
     "text": [
      "[mpeg4 @ 0xccdcca80] ac-tex damaged at 13 7\n",
      "[mpeg4 @ 0xccdcca80] Error at MB: 153\n",
      "[mpeg4 @ 0xcb36eb40] ac-tex damaged at 13 7\n",
      "[mpeg4 @ 0xcb36eb40] Error at MB: 153\n",
      "[mpeg4 @ 0xcb35ec40] illegal dc vlc\n",
      "[mpeg4 @ 0xcb35ec40] Error at MB: 202\n",
      "[mpeg4 @ 0xcb3522c0] ac-tex damaged at 10 5\n",
      "[mpeg4 @ 0xcb3522c0] Error at MB: 110\n",
      "[mpeg4 @ 0x80b5740] ac-tex damaged at 9 5\n",
      "[mpeg4 @ 0x80b5740] Error at MB: 109\n",
      "[mpeg4 @ 0xc9836980] ac-tex damaged at 10 5\n",
      "[mpeg4 @ 0xc9836980] Error at MB: 110\n"
     ]
    },
    {
     "data": {
      "application/vnd.jupyter.widget-view+json": {
       "model_id": "",
       "version_major": 2,
       "version_minor": 0
      },
      "text/plain": [
       "Validation: 0it [00:00, ?it/s]"
      ]
     },
     "metadata": {},
     "output_type": "display_data"
    },
    {
     "name": "stderr",
     "output_type": "stream",
     "text": [
      "[mpeg4 @ 0xcb749140] ac-tex damaged at 10 5\n",
      "[mpeg4 @ 0xcb749140] Error at MB: 110\n",
      "[mpeg4 @ 0xcb749140] ac-tex damaged at 13 7\n",
      "[mpeg4 @ 0xcb749140] Error at MB: 153\n",
      "[mpeg4 @ 0xcb3522c0] ac-tex damaged at 13 7\n",
      "[mpeg4 @ 0xcb3522c0] Error at MB: 153\n",
      "[mpeg4 @ 0xcb3522c0] ac-tex damaged at 10 5\n",
      "[mpeg4 @ 0xcb3522c0] Error at MB: 110\n",
      "[mpeg4 @ 0xcb3522c0] illegal dc vlc\n",
      "[mpeg4 @ 0xcb3522c0] Error at MB: 202\n",
      "[mpeg4 @ 0xcb749140] ac-tex damaged at 9 5\n",
      "[mpeg4 @ 0xcb749140] Error at MB: 109\n"
     ]
    },
    {
     "data": {
      "application/vnd.jupyter.widget-view+json": {
       "model_id": "",
       "version_major": 2,
       "version_minor": 0
      },
      "text/plain": [
       "Validation: 0it [00:00, ?it/s]"
      ]
     },
     "metadata": {},
     "output_type": "display_data"
    },
    {
     "name": "stderr",
     "output_type": "stream",
     "text": [
      "[mpeg4 @ 0xcb362580] illegal dc vlc\n",
      "[mpeg4 @ 0xcb362580] Error at MB: 202\n",
      "[mpeg4 @ 0xc9834f80] ac-tex damaged at 9 5\n",
      "[mpeg4 @ 0xc9834f80] Error at MB: 109\n",
      "[mpeg4 @ 0xcb3593c0] ac-tex damaged at 10 5\n",
      "[mpeg4 @ 0xcb3593c0] Error at MB: 110\n",
      "[mpeg4 @ 0x80b7280] ac-tex damaged at 10 5\n",
      "[mpeg4 @ 0x80b7280] Error at MB: 110\n",
      "[mpeg4 @ 0x80b7280] ac-tex damaged at 13 7\n",
      "[mpeg4 @ 0x80b7280] Error at MB: 153\n",
      "[mpeg4 @ 0xcb347e80] ac-tex damaged at 13 7\n",
      "[mpeg4 @ 0xcb347e80] Error at MB: 153\n"
     ]
    },
    {
     "data": {
      "application/vnd.jupyter.widget-view+json": {
       "model_id": "",
       "version_major": 2,
       "version_minor": 0
      },
      "text/plain": [
       "Validation: 0it [00:00, ?it/s]"
      ]
     },
     "metadata": {},
     "output_type": "display_data"
    },
    {
     "name": "stderr",
     "output_type": "stream",
     "text": [
      "[mpeg4 @ 0xcb53d1c0] illegal dc vlc\n",
      "[mpeg4 @ 0xcb53d1c0] Error at MB: 202\n",
      "[mpeg4 @ 0xcb74fcc0] ac-tex damaged at 9 5\n",
      "[mpeg4 @ 0xcb74fcc0] Error at MB: 109\n",
      "[mpeg4 @ 0xcb365c40] ac-tex damaged at 13 7\n",
      "[mpeg4 @ 0xcb365c40] Error at MB: 153\n",
      "[mpeg4 @ 0xc9834f80] ac-tex damaged at 10 5\n",
      "[mpeg4 @ 0xc9834f80] Error at MB: 110\n",
      "[mpeg4 @ 0xcb35ec40] ac-tex damaged at 13 7\n",
      "[mpeg4 @ 0xcb35ec40] Error at MB: 153\n",
      "[mpeg4 @ 0x80b5740] ac-tex damaged at 10 5\n",
      "[mpeg4 @ 0x80b5740] Error at MB: 110\n"
     ]
    },
    {
     "data": {
      "application/vnd.jupyter.widget-view+json": {
       "model_id": "",
       "version_major": 2,
       "version_minor": 0
      },
      "text/plain": [
       "Validation: 0it [00:00, ?it/s]"
      ]
     },
     "metadata": {},
     "output_type": "display_data"
    },
    {
     "name": "stderr",
     "output_type": "stream",
     "text": [
      "[mpeg4 @ 0x80b5740] illegal dc vlc\n",
      "[mpeg4 @ 0x80b5740] Error at MB: 202\n",
      "[mpeg4 @ 0xcb545f40] ac-tex damaged at 10 5\n",
      "[mpeg4 @ 0xcb545f40] Error at MB: 110\n",
      "[mpeg4 @ 0xcb545f40] ac-tex damaged at 9 5\n",
      "[mpeg4 @ 0xcb545f40] Error at MB: 109\n",
      "[mpeg4 @ 0x80b5740] ac-tex damaged at 13 7\n",
      "[mpeg4 @ 0x80b5740] Error at MB: 153\n",
      "[mpeg4 @ 0x81db2c0] ac-tex damaged at 10 5\n",
      "[mpeg4 @ 0x81db2c0] Error at MB: 110\n",
      "[mpeg4 @ 0x80b7280] ac-tex damaged at 13 7\n",
      "[mpeg4 @ 0x80b7280] Error at MB: 153\n"
     ]
    },
    {
     "data": {
      "application/vnd.jupyter.widget-view+json": {
       "model_id": "",
       "version_major": 2,
       "version_minor": 0
      },
      "text/plain": [
       "Validation: 0it [00:00, ?it/s]"
      ]
     },
     "metadata": {},
     "output_type": "display_data"
    },
    {
     "name": "stderr",
     "output_type": "stream",
     "text": [
      "[mpeg4 @ 0xcb36eb40] ac-tex damaged at 13 7\n",
      "[mpeg4 @ 0xcb36eb40] Error at MB: 153\n",
      "[mpeg4 @ 0xcb34cec0] ac-tex damaged at 9 5\n",
      "[mpeg4 @ 0xcb34cec0] Error at MB: 109\n",
      "[mpeg4 @ 0xcb362580] illegal dc vlc\n",
      "[mpeg4 @ 0xcb362580] Error at MB: 202\n",
      "[mpeg4 @ 0xcb365c40] ac-tex damaged at 13 7\n",
      "[mpeg4 @ 0xcb365c40] Error at MB: 153\n",
      "[mpeg4 @ 0xc9834f80] ac-tex damaged at 10 5\n",
      "[mpeg4 @ 0xc9834f80] Error at MB: 110\n",
      "[mpeg4 @ 0xcb34cec0] ac-tex damaged at 10 5\n",
      "[mpeg4 @ 0xcb34cec0] Error at MB: 110\n"
     ]
    },
    {
     "data": {
      "application/vnd.jupyter.widget-view+json": {
       "model_id": "",
       "version_major": 2,
       "version_minor": 0
      },
      "text/plain": [
       "Validation: 0it [00:00, ?it/s]"
      ]
     },
     "metadata": {},
     "output_type": "display_data"
    },
    {
     "name": "stderr",
     "output_type": "stream",
     "text": [
      "[mpeg4 @ 0xc9836980] ac-tex damaged at 13 7\n",
      "[mpeg4 @ 0xc9836980] Error at MB: 153\n",
      "[mpeg4 @ 0xcb347e80] ac-tex damaged at 9 5\n",
      "[mpeg4 @ 0xcb347e80] Error at MB: 109\n",
      "[mpeg4 @ 0xcb3522c0] ac-tex damaged at 13 7\n",
      "[mpeg4 @ 0xcb3522c0] Error at MB: 153\n",
      "[mpeg4 @ 0xcb518740] ac-tex damaged at 10 5\n",
      "[mpeg4 @ 0xcb518740] Error at MB: 110\n",
      "[mpeg4 @ 0xcb3640c0] illegal dc vlc\n",
      "[mpeg4 @ 0xcb3640c0] Error at MB: 202\n",
      "[mpeg4 @ 0xcb35ec40] ac-tex damaged at 10 5\n",
      "[mpeg4 @ 0xcb35ec40] Error at MB: 110\n"
     ]
    },
    {
     "data": {
      "application/vnd.jupyter.widget-view+json": {
       "model_id": "",
       "version_major": 2,
       "version_minor": 0
      },
      "text/plain": [
       "Validation: 0it [00:00, ?it/s]"
      ]
     },
     "metadata": {},
     "output_type": "display_data"
    },
    {
     "name": "stderr",
     "output_type": "stream",
     "text": [
      "[mpeg4 @ 0x829dcc0] ac-tex damaged at 9 5\n",
      "[mpeg4 @ 0x829dcc0] Error at MB: 109\n",
      "[mpeg4 @ 0x829dcc0] ac-tex damaged at 13 7\n",
      "[mpeg4 @ 0x829dcc0] Error at MB: 153\n",
      "[mpeg4 @ 0x829dcc0] ac-tex damaged at 10 5\n",
      "[mpeg4 @ 0x829dcc0] Error at MB: 110\n",
      "[mpeg4 @ 0xcb751400] illegal dc vlc\n",
      "[mpeg4 @ 0xcb751400] Error at MB: 202\n",
      "[mpeg4 @ 0xc7c5ed40] ac-tex damaged at 10 5\n",
      "[mpeg4 @ 0xc7c5ed40] Error at MB: 110\n",
      "[mpeg4 @ 0x80b7280] ac-tex damaged at 13 7\n",
      "[mpeg4 @ 0x80b7280] Error at MB: 153\n"
     ]
    },
    {
     "data": {
      "application/vnd.jupyter.widget-view+json": {
       "model_id": "",
       "version_major": 2,
       "version_minor": 0
      },
      "text/plain": [
       "Validation: 0it [00:00, ?it/s]"
      ]
     },
     "metadata": {},
     "output_type": "display_data"
    },
    {
     "name": "stderr",
     "output_type": "stream",
     "text": [
      "[mpeg4 @ 0xcb35ec40] illegal dc vlc\n",
      "[mpeg4 @ 0xcb35ec40] Error at MB: 202\n",
      "[mpeg4 @ 0x80b5740] ac-tex damaged at 13 7\n",
      "[mpeg4 @ 0x80b5740] Error at MB: 153\n",
      "[mpeg4 @ 0xcb34cec0] ac-tex damaged at 10 5\n",
      "[mpeg4 @ 0xcb34cec0] Error at MB: 110\n",
      "[mpeg4 @ 0xcb7643c0] ac-tex damaged at 13 7\n",
      "[mpeg4 @ 0xcb7643c0] Error at MB: 153\n",
      "[mpeg4 @ 0xcb74c900] ac-tex damaged at 9 5\n",
      "[mpeg4 @ 0xcb74c900] Error at MB: 109\n"
     ]
    },
    {
     "data": {
      "application/vnd.jupyter.widget-view+json": {
       "model_id": "",
       "version_major": 2,
       "version_minor": 0
      },
      "text/plain": [
       "Validation: 0it [00:00, ?it/s]"
      ]
     },
     "metadata": {},
     "output_type": "display_data"
    },
    {
     "name": "stderr",
     "output_type": "stream",
     "text": [
      "[mpeg4 @ 0xcb347e80] ac-tex damaged at 9 5\n",
      "[mpeg4 @ 0xcb347e80] Error at MB: 109\n",
      "[mpeg4 @ 0x80b7280] ac-tex damaged at 13 7\n",
      "[mpeg4 @ 0x80b7280] Error at MB: 153\n",
      "[mpeg4 @ 0xcb34cec0] ac-tex damaged at 10 5\n",
      "[mpeg4 @ 0xcb34cec0] Error at MB: 110\n",
      "[mpeg4 @ 0xcb34cec0] ac-tex damaged at 13 7\n",
      "[mpeg4 @ 0xcb34cec0] Error at MB: 153\n",
      "[mpeg4 @ 0xcb759580] ac-tex damaged at 10 5\n",
      "[mpeg4 @ 0xcb759580] Error at MB: 110\n",
      "[mpeg4 @ 0xcb35ec40] illegal dc vlc\n",
      "[mpeg4 @ 0xcb35ec40] Error at MB: 202\n"
     ]
    },
    {
     "data": {
      "application/vnd.jupyter.widget-view+json": {
       "model_id": "",
       "version_major": 2,
       "version_minor": 0
      },
      "text/plain": [
       "Validation: 0it [00:00, ?it/s]"
      ]
     },
     "metadata": {},
     "output_type": "display_data"
    },
    {
     "name": "stderr",
     "output_type": "stream",
     "text": [
      "[mpeg4 @ 0xc9834f80] ac-tex damaged at 10 5\n",
      "[mpeg4 @ 0xc9834f80] Error at MB: 110\n",
      "[mpeg4 @ 0xcb3593c0] ac-tex damaged at 10 5\n",
      "[mpeg4 @ 0xcb3593c0] Error at MB: 110\n",
      "[mpeg4 @ 0x80b5740] illegal dc vlc\n",
      "[mpeg4 @ 0x80b5740] Error at MB: 202\n",
      "[mpeg4 @ 0xcb3522c0] ac-tex damaged at 13 7\n",
      "[mpeg4 @ 0xcb3522c0] Error at MB: 153\n",
      "[mpeg4 @ 0xcb53d1c0] ac-tex damaged at 13 7\n",
      "[mpeg4 @ 0xcb53d1c0] Error at MB: 153\n",
      "[mpeg4 @ 0xcb3522c0] ac-tex damaged at 9 5\n",
      "[mpeg4 @ 0xcb3522c0] Error at MB: 109\n"
     ]
    },
    {
     "data": {
      "application/vnd.jupyter.widget-view+json": {
       "model_id": "",
       "version_major": 2,
       "version_minor": 0
      },
      "text/plain": [
       "Validation: 0it [00:00, ?it/s]"
      ]
     },
     "metadata": {},
     "output_type": "display_data"
    },
    {
     "name": "stderr",
     "output_type": "stream",
     "text": [
      "[mpeg4 @ 0xc9836980] ac-tex damaged at 10 5\n",
      "[mpeg4 @ 0xc9836980] Error at MB: 110\n",
      "[mpeg4 @ 0xc9836980] ac-tex damaged at 13 7\n",
      "[mpeg4 @ 0xc9836980] Error at MB: 153\n",
      "[mpeg4 @ 0xcb3640c0] ac-tex damaged at 13 7\n",
      "[mpeg4 @ 0xcb3640c0] Error at MB: 153\n",
      "[mpeg4 @ 0xcb35ec40] ac-tex damaged at 9 5\n",
      "[mpeg4 @ 0xcb35ec40] Error at MB: 109\n",
      "[mpeg4 @ 0x80b7280] ac-tex damaged at 10 5\n",
      "[mpeg4 @ 0x80b7280] Error at MB: 110\n",
      "[mpeg4 @ 0xcb35ec40] illegal dc vlc\n",
      "[mpeg4 @ 0xcb35ec40] Error at MB: 202\n"
     ]
    },
    {
     "data": {
      "application/vnd.jupyter.widget-view+json": {
       "model_id": "",
       "version_major": 2,
       "version_minor": 0
      },
      "text/plain": [
       "Validation: 0it [00:00, ?it/s]"
      ]
     },
     "metadata": {},
     "output_type": "display_data"
    },
    {
     "name": "stderr",
     "output_type": "stream",
     "text": [
      "[mpeg4 @ 0x7829580] ac-tex damaged at 10 5\n",
      "[mpeg4 @ 0x7829580] Error at MB: 110\n",
      "[mpeg4 @ 0xcb3593c0] ac-tex damaged at 9 5\n",
      "[mpeg4 @ 0xcb3593c0] Error at MB: 109\n",
      "[mpeg4 @ 0xc9834f80] ac-tex damaged at 13 7\n",
      "[mpeg4 @ 0xc9834f80] Error at MB: 153\n",
      "[mpeg4 @ 0xcb3593c0] ac-tex damaged at 10 5\n",
      "[mpeg4 @ 0xcb3593c0] Error at MB: 110\n",
      "[mpeg4 @ 0xcb34cec0] ac-tex damaged at 13 7\n",
      "[mpeg4 @ 0xcb34cec0] Error at MB: 153\n",
      "[mpeg4 @ 0xcb362580] illegal dc vlc\n",
      "[mpeg4 @ 0xcb362580] Error at MB: 202\n"
     ]
    },
    {
     "data": {
      "application/vnd.jupyter.widget-view+json": {
       "model_id": "",
       "version_major": 2,
       "version_minor": 0
      },
      "text/plain": [
       "Validation: 0it [00:00, ?it/s]"
      ]
     },
     "metadata": {},
     "output_type": "display_data"
    },
    {
     "name": "stderr",
     "output_type": "stream",
     "text": [
      "[mpeg4 @ 0xcb36eb40] ac-tex damaged at 13 7\n",
      "[mpeg4 @ 0xcb36eb40] Error at MB: 153\n",
      "[mpeg4 @ 0xcb3593c0] ac-tex damaged at 9 5\n",
      "[mpeg4 @ 0xcb3593c0] Error at MB: 109\n",
      "[mpeg4 @ 0xcb53d1c0] ac-tex damaged at 13 7\n",
      "[mpeg4 @ 0xcb53d1c0] Error at MB: 153\n",
      "[mpeg4 @ 0xc9834f80] ac-tex damaged at 10 5\n",
      "[mpeg4 @ 0xc9834f80] Error at MB: 110\n",
      "[mpeg4 @ 0xcb34cec0] ac-tex damaged at 10 5\n",
      "[mpeg4 @ 0xcb34cec0] Error at MB: 110\n",
      "[mpeg4 @ 0xcb35ec40] illegal dc vlc\n",
      "[mpeg4 @ 0xcb35ec40] Error at MB: 202\n"
     ]
    },
    {
     "data": {
      "application/vnd.jupyter.widget-view+json": {
       "model_id": "",
       "version_major": 2,
       "version_minor": 0
      },
      "text/plain": [
       "Validation: 0it [00:00, ?it/s]"
      ]
     },
     "metadata": {},
     "output_type": "display_data"
    },
    {
     "name": "stderr",
     "output_type": "stream",
     "text": [
      "[mpeg4 @ 0xcb3522c0] ac-tex damaged at 13 7\n",
      "[mpeg4 @ 0xcb3522c0] Error at MB: 153\n",
      "[mpeg4 @ 0xcb53d1c0] ac-tex damaged at 9 5\n",
      "[mpeg4 @ 0xcb53d1c0] Error at MB: 109\n",
      "[mpeg4 @ 0xc9836980] ac-tex damaged at 13 7\n",
      "[mpeg4 @ 0xc9836980] Error at MB: 153\n",
      "[mpeg4 @ 0xcb764380] ac-tex damaged at 10 5\n",
      "[mpeg4 @ 0xcb764380] Error at MB: 110\n",
      "[mpeg4 @ 0xcb365c40] illegal dc vlc\n",
      "[mpeg4 @ 0xcb365c40] Error at MB: 202\n"
     ]
    },
    {
     "data": {
      "application/vnd.jupyter.widget-view+json": {
       "model_id": "",
       "version_major": 2,
       "version_minor": 0
      },
      "text/plain": [
       "Validation: 0it [00:00, ?it/s]"
      ]
     },
     "metadata": {},
     "output_type": "display_data"
    },
    {
     "name": "stderr",
     "output_type": "stream",
     "text": [
      "[mpeg4 @ 0xc9834f80] ac-tex damaged at 13 7\n",
      "[mpeg4 @ 0xc9834f80] Error at MB: 153\n",
      "[mpeg4 @ 0xcb36eb40] illegal dc vlc\n",
      "[mpeg4 @ 0xcb36eb40] Error at MB: 202\n",
      "[mpeg4 @ 0xcb347e80] ac-tex damaged at 10 5\n",
      "[mpeg4 @ 0xcb347e80] Error at MB: 110\n",
      "[mpeg4 @ 0x80b7280] ac-tex damaged at 9 5\n",
      "[mpeg4 @ 0x80b7280] Error at MB: 109\n",
      "[mpeg4 @ 0xc9836980] ac-tex damaged at 10 5\n",
      "[mpeg4 @ 0xc9836980] Error at MB: 110\n",
      "[mpeg4 @ 0xcb36eb40] ac-tex damaged at 13 7\n",
      "[mpeg4 @ 0xcb36eb40] Error at MB: 153\n"
     ]
    },
    {
     "data": {
      "application/vnd.jupyter.widget-view+json": {
       "model_id": "",
       "version_major": 2,
       "version_minor": 0
      },
      "text/plain": [
       "Validation: 0it [00:00, ?it/s]"
      ]
     },
     "metadata": {},
     "output_type": "display_data"
    },
    {
     "name": "stderr",
     "output_type": "stream",
     "text": [
      "[mpeg4 @ 0xcb35ec40] ac-tex damaged at 13 7\n",
      "[mpeg4 @ 0xcb35ec40] Error at MB: 153\n",
      "[mpeg4 @ 0xcb34cec0] ac-tex damaged at 10 5\n",
      "[mpeg4 @ 0xcb34cec0] Error at MB: 110\n",
      "[mpeg4 @ 0xc9836980] ac-tex damaged at 13 7\n",
      "[mpeg4 @ 0xc9836980] Error at MB: 153\n",
      "[mpeg4 @ 0xcb34cec0] ac-tex damaged at 9 5\n",
      "[mpeg4 @ 0xcb34cec0] Error at MB: 109\n",
      "[mpeg4 @ 0xcb3640c0] illegal dc vlc\n",
      "[mpeg4 @ 0xcb3640c0] Error at MB: 202\n",
      "[mpeg4 @ 0xcb34cec0] ac-tex damaged at 10 5\n",
      "[mpeg4 @ 0xcb34cec0] Error at MB: 110\n"
     ]
    },
    {
     "data": {
      "application/vnd.jupyter.widget-view+json": {
       "model_id": "",
       "version_major": 2,
       "version_minor": 0
      },
      "text/plain": [
       "Validation: 0it [00:00, ?it/s]"
      ]
     },
     "metadata": {},
     "output_type": "display_data"
    },
    {
     "name": "stderr",
     "output_type": "stream",
     "text": [
      "[mpeg4 @ 0xcb3522c0] ac-tex damaged at 13 7\n",
      "[mpeg4 @ 0xcb3522c0] Error at MB: 153\n",
      "[mpeg4 @ 0xc9834f80] ac-tex damaged at 9 5\n",
      "[mpeg4 @ 0xc9834f80] Error at MB: 109\n",
      "[mpeg4 @ 0xcb365c40] ac-tex damaged at 13 7\n",
      "[mpeg4 @ 0xcb365c40] Error at MB: 153\n",
      "[mpeg4 @ 0xcb3640c0] illegal dc vlc\n",
      "[mpeg4 @ 0xcb3640c0] Error at MB: 202\n",
      "[mpeg4 @ 0xc9834f80] ac-tex damaged at 10 5\n",
      "[mpeg4 @ 0xc9834f80] Error at MB: 110\n",
      "[mpeg4 @ 0xcb53d1c0] ac-tex damaged at 10 5\n",
      "[mpeg4 @ 0xcb53d1c0] Error at MB: 110\n"
     ]
    },
    {
     "data": {
      "application/vnd.jupyter.widget-view+json": {
       "model_id": "",
       "version_major": 2,
       "version_minor": 0
      },
      "text/plain": [
       "Validation: 0it [00:00, ?it/s]"
      ]
     },
     "metadata": {},
     "output_type": "display_data"
    },
    {
     "name": "stderr",
     "output_type": "stream",
     "text": [
      "[mpeg4 @ 0xc9834f80] ac-tex damaged at 10 5\n",
      "[mpeg4 @ 0xc9834f80] Error at MB: 110\n",
      "[mpeg4 @ 0xcb3522c0] ac-tex damaged at 9 5\n",
      "[mpeg4 @ 0xcb3522c0] Error at MB: 109\n",
      "[mpeg4 @ 0xcb347e80] ac-tex damaged at 13 7\n",
      "[mpeg4 @ 0xcb347e80] Error at MB: 153\n",
      "[mpeg4 @ 0xcb3522c0] ac-tex damaged at 13 7\n",
      "[mpeg4 @ 0xcb3522c0] Error at MB: 153\n",
      "[mpeg4 @ 0xcb3640c0] illegal dc vlc\n",
      "[mpeg4 @ 0xcb3640c0] Error at MB: 202\n",
      "[mpeg4 @ 0xcb36fcc0] ac-tex damaged at 10 5\n",
      "[mpeg4 @ 0xcb36fcc0] Error at MB: 110\n"
     ]
    },
    {
     "data": {
      "application/vnd.jupyter.widget-view+json": {
       "model_id": "",
       "version_major": 2,
       "version_minor": 0
      },
      "text/plain": [
       "Validation: 0it [00:00, ?it/s]"
      ]
     },
     "metadata": {},
     "output_type": "display_data"
    },
    {
     "name": "stderr",
     "output_type": "stream",
     "text": [
      "[mpeg4 @ 0xcb36eb40] ac-tex damaged at 13 7\n",
      "[mpeg4 @ 0xcb36eb40] Error at MB: 153\n",
      "[mpeg4 @ 0xcb362580] ac-tex damaged at 13 7\n",
      "[mpeg4 @ 0xcb362580] Error at MB: 153\n",
      "[mpeg4 @ 0x81a0400] illegal dc vlc\n",
      "[mpeg4 @ 0x81a0400] Error at MB: 202\n",
      "[mpeg4 @ 0xcb75fa80] ac-tex damaged at 10 5\n",
      "[mpeg4 @ 0xcb75fa80] Error at MB: 110\n",
      "[mpeg4 @ 0xcb34cec0] ac-tex damaged at 9 5\n",
      "[mpeg4 @ 0xcb34cec0] Error at MB: 109\n",
      "[mpeg4 @ 0xcb36eb40] ac-tex damaged at 10 5\n",
      "[mpeg4 @ 0xcb36eb40] Error at MB: 110\n"
     ]
    },
    {
     "data": {
      "application/vnd.jupyter.widget-view+json": {
       "model_id": "",
       "version_major": 2,
       "version_minor": 0
      },
      "text/plain": [
       "Validation: 0it [00:00, ?it/s]"
      ]
     },
     "metadata": {},
     "output_type": "display_data"
    },
    {
     "name": "stderr",
     "output_type": "stream",
     "text": [
      "[mpeg4 @ 0xcb71e8c0] ac-tex damaged at 13 7\n",
      "[mpeg4 @ 0xcb71e8c0] Error at MB: 153\n",
      "[mpeg4 @ 0xcb3593c0] ac-tex damaged at 9 5\n",
      "[mpeg4 @ 0xcb3593c0] Error at MB: 109\n",
      "[mpeg4 @ 0xcb347e80] ac-tex damaged at 10 5\n",
      "[mpeg4 @ 0xcb347e80] Error at MB: 110\n",
      "[mpeg4 @ 0x80b5740] illegal dc vlc\n",
      "[mpeg4 @ 0x80b5740] Error at MB: 202\n",
      "[mpeg4 @ 0xcb71e180] ac-tex damaged at 10 5\n",
      "[mpeg4 @ 0xcb71e180] Error at MB: 110\n",
      "[mpeg4 @ 0x80b7280] ac-tex damaged at 13 7\n",
      "[mpeg4 @ 0x80b7280] Error at MB: 153\n"
     ]
    },
    {
     "data": {
      "application/vnd.jupyter.widget-view+json": {
       "model_id": "",
       "version_major": 2,
       "version_minor": 0
      },
      "text/plain": [
       "Validation: 0it [00:00, ?it/s]"
      ]
     },
     "metadata": {},
     "output_type": "display_data"
    },
    {
     "name": "stderr",
     "output_type": "stream",
     "text": [
      "[mpeg4 @ 0xcb53d1c0] ac-tex damaged at 10 5\n",
      "[mpeg4 @ 0xcb53d1c0] Error at MB: 110\n",
      "[mpeg4 @ 0xcb365c40] ac-tex damaged at 13 7\n",
      "[mpeg4 @ 0xcb365c40] Error at MB: 153\n",
      "[mpeg4 @ 0xcb3593c0] ac-tex damaged at 10 5\n",
      "[mpeg4 @ 0xcb3593c0] Error at MB: 110\n",
      "[mpeg4 @ 0xcb71e8c0] ac-tex damaged at 9 5\n",
      "[mpeg4 @ 0xcb71e8c0] Error at MB: 109\n",
      "[mpeg4 @ 0xcb53d1c0] illegal dc vlc\n",
      "[mpeg4 @ 0xcb53d1c0] Error at MB: 202\n",
      "[mpeg4 @ 0xcb35ec40] ac-tex damaged at 13 7\n",
      "[mpeg4 @ 0xcb35ec40] Error at MB: 153\n"
     ]
    },
    {
     "data": {
      "application/vnd.jupyter.widget-view+json": {
       "model_id": "",
       "version_major": 2,
       "version_minor": 0
      },
      "text/plain": [
       "Validation: 0it [00:00, ?it/s]"
      ]
     },
     "metadata": {},
     "output_type": "display_data"
    },
    {
     "name": "stderr",
     "output_type": "stream",
     "text": [
      "[mpeg4 @ 0xcb3522c0] ac-tex damaged at 9 5\n",
      "[mpeg4 @ 0xcb3522c0] Error at MB: 109\n",
      "[mpeg4 @ 0xcb682f80] illegal dc vlc\n",
      "[mpeg4 @ 0xcb682f80] Error at MB: 202\n",
      "[mpeg4 @ 0xcb53d1c0] ac-tex damaged at 13 7\n",
      "[mpeg4 @ 0xcb53d1c0] Error at MB: 153\n",
      "[mpeg4 @ 0xcb36eb40] ac-tex damaged at 13 7\n",
      "[mpeg4 @ 0xcb36eb40] Error at MB: 153\n",
      "[mpeg4 @ 0x80b5740] ac-tex damaged at 10 5\n",
      "[mpeg4 @ 0x80b5740] Error at MB: 110\n",
      "[mpeg4 @ 0xcb3593c0] ac-tex damaged at 10 5\n",
      "[mpeg4 @ 0xcb3593c0] Error at MB: 110\n"
     ]
    },
    {
     "data": {
      "application/vnd.jupyter.widget-view+json": {
       "model_id": "",
       "version_major": 2,
       "version_minor": 0
      },
      "text/plain": [
       "Validation: 0it [00:00, ?it/s]"
      ]
     },
     "metadata": {},
     "output_type": "display_data"
    },
    {
     "name": "stderr",
     "output_type": "stream",
     "text": [
      "[mpeg4 @ 0xc9834f80] ac-tex damaged at 9 5\n",
      "[mpeg4 @ 0xc9834f80] Error at MB: 109\n",
      "[mpeg4 @ 0xc9834f80] ac-tex damaged at 10 5\n",
      "[mpeg4 @ 0xc9834f80] Error at MB: 110\n",
      "[mpeg4 @ 0xcb365c40] illegal dc vlc\n",
      "[mpeg4 @ 0xcb365c40] Error at MB: 202\n",
      "[mpeg4 @ 0xcc54f800] ac-tex damaged at 13 7\n",
      "[mpeg4 @ 0xcc54f800] Error at MB: 153\n",
      "[mpeg4 @ 0x80b5740] ac-tex damaged at 13 7\n",
      "[mpeg4 @ 0x80b5740] Error at MB: 153\n",
      "[mpeg4 @ 0xcb71e180] ac-tex damaged at 10 5\n",
      "[mpeg4 @ 0xcb71e180] Error at MB: 110\n"
     ]
    },
    {
     "data": {
      "application/vnd.jupyter.widget-view+json": {
       "model_id": "",
       "version_major": 2,
       "version_minor": 0
      },
      "text/plain": [
       "Validation: 0it [00:00, ?it/s]"
      ]
     },
     "metadata": {},
     "output_type": "display_data"
    },
    {
     "name": "stderr",
     "output_type": "stream",
     "text": [
      "[mpeg4 @ 0xcb3593c0] ac-tex damaged at 13 7\n",
      "[mpeg4 @ 0xcb3593c0] Error at MB: 153\n",
      "[mpeg4 @ 0xc9836980] ac-tex damaged at 10 5\n",
      "[mpeg4 @ 0xc9836980] Error at MB: 110\n",
      "[mpeg4 @ 0xcb3522c0] ac-tex damaged at 10 5\n",
      "[mpeg4 @ 0xcb3522c0] Error at MB: 110\n",
      "[mpeg4 @ 0x80b7280] illegal dc vlc\n",
      "[mpeg4 @ 0x80b7280] Error at MB: 202\n",
      "[mpeg4 @ 0xc9836980] ac-tex damaged at 13 7\n",
      "[mpeg4 @ 0xc9836980] Error at MB: 153\n",
      "[mpeg4 @ 0xc9834f80] ac-tex damaged at 9 5\n",
      "[mpeg4 @ 0xc9834f80] Error at MB: 109\n"
     ]
    },
    {
     "data": {
      "application/vnd.jupyter.widget-view+json": {
       "model_id": "",
       "version_major": 2,
       "version_minor": 0
      },
      "text/plain": [
       "Validation: 0it [00:00, ?it/s]"
      ]
     },
     "metadata": {},
     "output_type": "display_data"
    },
    {
     "name": "stderr",
     "output_type": "stream",
     "text": [
      "[mpeg4 @ 0xcb35ec40] illegal dc vlc\n",
      "[mpeg4 @ 0xcb35ec40] Error at MB: 202\n",
      "[mpeg4 @ 0xc9834f80] ac-tex damaged at 10 5\n",
      "[mpeg4 @ 0xc9834f80] Error at MB: 110\n",
      "[mpeg4 @ 0xcb3640c0] ac-tex damaged at 13 7\n",
      "[mpeg4 @ 0xcb3640c0] Error at MB: 153\n",
      "[mpeg4 @ 0xcb3522c0] ac-tex damaged at 10 5\n",
      "[mpeg4 @ 0xcb3522c0] Error at MB: 110\n",
      "[mpeg4 @ 0xcb36eb40] ac-tex damaged at 13 7\n",
      "[mpeg4 @ 0xcb36eb40] Error at MB: 153\n",
      "[mpeg4 @ 0x80b5740] ac-tex damaged at 9 5\n",
      "[mpeg4 @ 0x80b5740] Error at MB: 109\n"
     ]
    },
    {
     "data": {
      "application/vnd.jupyter.widget-view+json": {
       "model_id": "",
       "version_major": 2,
       "version_minor": 0
      },
      "text/plain": [
       "Validation: 0it [00:00, ?it/s]"
      ]
     },
     "metadata": {},
     "output_type": "display_data"
    },
    {
     "name": "stderr",
     "output_type": "stream",
     "text": [
      "[mpeg4 @ 0xc9836980] ac-tex damaged at 13 7\n",
      "[mpeg4 @ 0xc9836980] Error at MB: 153\n",
      "[mpeg4 @ 0xc9834f80] ac-tex damaged at 10 5\n",
      "[mpeg4 @ 0xc9834f80] Error at MB: 110\n",
      "[mpeg4 @ 0xc9834f80] ac-tex damaged at 10 5\n",
      "[mpeg4 @ 0xc9834f80] Error at MB: 110\n",
      "[mpeg4 @ 0xcb365c40] illegal dc vlc\n",
      "[mpeg4 @ 0xcb365c40] Error at MB: 202\n",
      "[mpeg4 @ 0x80b5740] ac-tex damaged at 13 7\n",
      "[mpeg4 @ 0x80b5740] Error at MB: 153\n",
      "[mpeg4 @ 0x80b5740] ac-tex damaged at 9 5\n",
      "[mpeg4 @ 0x80b5740] Error at MB: 109\n"
     ]
    },
    {
     "data": {
      "application/vnd.jupyter.widget-view+json": {
       "model_id": "",
       "version_major": 2,
       "version_minor": 0
      },
      "text/plain": [
       "Validation: 0it [00:00, ?it/s]"
      ]
     },
     "metadata": {},
     "output_type": "display_data"
    },
    {
     "name": "stderr",
     "output_type": "stream",
     "text": [
      "[mpeg4 @ 0xcb3522c0] ac-tex damaged at 13 7\n",
      "[mpeg4 @ 0xcb3522c0] Error at MB: 153\n",
      "[mpeg4 @ 0x80b5740] ac-tex damaged at 10 5\n",
      "[mpeg4 @ 0x80b5740] Error at MB: 110\n",
      "[mpeg4 @ 0xcb365c40] illegal dc vlc\n",
      "[mpeg4 @ 0xcb365c40] Error at MB: 202\n",
      "[mpeg4 @ 0x80b7280] ac-tex damaged at 9 5\n",
      "[mpeg4 @ 0x80b7280] Error at MB: 109\n",
      "[mpeg4 @ 0xc9834f80] ac-tex damaged at 13 7\n",
      "[mpeg4 @ 0xc9834f80] Error at MB: 153\n",
      "[mpeg4 @ 0xc9836980] ac-tex damaged at 10 5\n",
      "[mpeg4 @ 0xc9836980] Error at MB: 110\n"
     ]
    },
    {
     "data": {
      "application/vnd.jupyter.widget-view+json": {
       "model_id": "",
       "version_major": 2,
       "version_minor": 0
      },
      "text/plain": [
       "Validation: 0it [00:00, ?it/s]"
      ]
     },
     "metadata": {},
     "output_type": "display_data"
    },
    {
     "name": "stderr",
     "output_type": "stream",
     "text": [
      "[mpeg4 @ 0xcb53d1c0] illegal dc vlc\n",
      "[mpeg4 @ 0xcb53d1c0] Error at MB: 202\n",
      "[mpeg4 @ 0xc9834f80] ac-tex damaged at 10 5\n",
      "[mpeg4 @ 0xc9834f80] Error at MB: 110\n",
      "[mpeg4 @ 0xcb34cec0] ac-tex damaged at 13 7\n",
      "[mpeg4 @ 0xcb34cec0] Error at MB: 153\n",
      "[mpeg4 @ 0x80b7280] ac-tex damaged at 10 5\n",
      "[mpeg4 @ 0x80b7280] Error at MB: 110\n",
      "[mpeg4 @ 0xcb3522c0] ac-tex damaged at 13 7\n",
      "[mpeg4 @ 0xcb3522c0] Error at MB: 153\n",
      "[mpeg4 @ 0xcb3640c0] ac-tex damaged at 9 5\n",
      "[mpeg4 @ 0xcb3640c0] Error at MB: 109\n"
     ]
    },
    {
     "data": {
      "application/vnd.jupyter.widget-view+json": {
       "model_id": "",
       "version_major": 2,
       "version_minor": 0
      },
      "text/plain": [
       "Validation: 0it [00:00, ?it/s]"
      ]
     },
     "metadata": {},
     "output_type": "display_data"
    },
    {
     "name": "stderr",
     "output_type": "stream",
     "text": [
      "[mpeg4 @ 0xc9836980] ac-tex damaged at 10 5\n",
      "[mpeg4 @ 0xc9836980] Error at MB: 110\n",
      "[mpeg4 @ 0xcb365c40] illegal dc vlc\n",
      "[mpeg4 @ 0xcb365c40] Error at MB: 202\n",
      "[mpeg4 @ 0xcb3522c0] ac-tex damaged at 13 7\n",
      "[mpeg4 @ 0xcb3522c0] Error at MB: 153\n",
      "[mpeg4 @ 0x80b5740] ac-tex damaged at 13 7\n",
      "[mpeg4 @ 0x80b5740] Error at MB: 153\n",
      "[mpeg4 @ 0xcb347e80] ac-tex damaged at 9 5\n",
      "[mpeg4 @ 0xcb347e80] Error at MB: 109\n",
      "[mpeg4 @ 0xcb3522c0] ac-tex damaged at 10 5\n",
      "[mpeg4 @ 0xcb3522c0] Error at MB: 110\n"
     ]
    },
    {
     "data": {
      "application/vnd.jupyter.widget-view+json": {
       "model_id": "",
       "version_major": 2,
       "version_minor": 0
      },
      "text/plain": [
       "Validation: 0it [00:00, ?it/s]"
      ]
     },
     "metadata": {},
     "output_type": "display_data"
    },
    {
     "name": "stderr",
     "output_type": "stream",
     "text": [
      "[mpeg4 @ 0xcb3522c0] ac-tex damaged at 10 5\n",
      "[mpeg4 @ 0xcb3522c0] Error at MB: 110\n",
      "[mpeg4 @ 0xcb36eb40] ac-tex damaged at 13 7\n",
      "[mpeg4 @ 0xcb36eb40] Error at MB: 153\n",
      "[mpeg4 @ 0x80b7280] ac-tex damaged at 10 5\n",
      "[mpeg4 @ 0x80b7280] Error at MB: 110\n",
      "[mpeg4 @ 0xcb365c40] ac-tex damaged at 13 7\n",
      "[mpeg4 @ 0xcb365c40] Error at MB: 153\n",
      "[mpeg4 @ 0xcb3593c0] illegal dc vlc\n",
      "[mpeg4 @ 0xcb3593c0] Error at MB: 202\n",
      "[mpeg4 @ 0xcb3522c0] ac-tex damaged at 9 5\n",
      "[mpeg4 @ 0xcb3522c0] Error at MB: 109\n"
     ]
    },
    {
     "data": {
      "application/vnd.jupyter.widget-view+json": {
       "model_id": "",
       "version_major": 2,
       "version_minor": 0
      },
      "text/plain": [
       "Validation: 0it [00:00, ?it/s]"
      ]
     },
     "metadata": {},
     "output_type": "display_data"
    },
    {
     "name": "stderr",
     "output_type": "stream",
     "text": [
      "[mpeg4 @ 0xcb3522c0] ac-tex damaged at 13 7\n",
      "[mpeg4 @ 0xcb3522c0] Error at MB: 153\n",
      "[mpeg4 @ 0xc9836980] ac-tex damaged at 13 7\n",
      "[mpeg4 @ 0xc9836980] Error at MB: 153\n",
      "[mpeg4 @ 0xc9834f80] ac-tex damaged at 10 5\n",
      "[mpeg4 @ 0xc9834f80] Error at MB: 110\n",
      "[mpeg4 @ 0xcb53d1c0] illegal dc vlc\n",
      "[mpeg4 @ 0xcb53d1c0] Error at MB: 202\n",
      "[mpeg4 @ 0xcb347e80] ac-tex damaged at 10 5\n",
      "[mpeg4 @ 0xcb347e80] Error at MB: 110\n",
      "[mpeg4 @ 0xcb347e80] ac-tex damaged at 9 5\n",
      "[mpeg4 @ 0xcb347e80] Error at MB: 109\n"
     ]
    },
    {
     "data": {
      "application/vnd.jupyter.widget-view+json": {
       "model_id": "",
       "version_major": 2,
       "version_minor": 0
      },
      "text/plain": [
       "Validation: 0it [00:00, ?it/s]"
      ]
     },
     "metadata": {},
     "output_type": "display_data"
    },
    {
     "name": "stderr",
     "output_type": "stream",
     "text": [
      "[mpeg4 @ 0xcb3640c0] ac-tex damaged at 13 7\n",
      "[mpeg4 @ 0xcb3640c0] Error at MB: 153\n",
      "[mpeg4 @ 0xcb365c40] ac-tex damaged at 9 5\n",
      "[mpeg4 @ 0xcb365c40] Error at MB: 109\n",
      "[mpeg4 @ 0xcb365c40] ac-tex damaged at 13 7\n",
      "[mpeg4 @ 0xcb365c40] Error at MB: 153\n",
      "[mpeg4 @ 0xcb35ec40] ac-tex damaged at 10 5\n",
      "[mpeg4 @ 0xcb35ec40] Error at MB: 110\n",
      "[mpeg4 @ 0xcb767540] illegal dc vlc\n",
      "[mpeg4 @ 0xcb767540] Error at MB: 202\n",
      "[mpeg4 @ 0xc9836980] ac-tex damaged at 10 5\n",
      "[mpeg4 @ 0xc9836980] Error at MB: 110\n"
     ]
    },
    {
     "data": {
      "application/vnd.jupyter.widget-view+json": {
       "model_id": "",
       "version_major": 2,
       "version_minor": 0
      },
      "text/plain": [
       "Validation: 0it [00:00, ?it/s]"
      ]
     },
     "metadata": {},
     "output_type": "display_data"
    },
    {
     "name": "stderr",
     "output_type": "stream",
     "text": [
      "[mpeg4 @ 0xcb3593c0] ac-tex damaged at 13 7\n",
      "[mpeg4 @ 0xcb3593c0] Error at MB: 153\n",
      "[mpeg4 @ 0xcb3522c0] ac-tex damaged at 9 5\n",
      "[mpeg4 @ 0xcb3522c0] Error at MB: 109\n",
      "[mpeg4 @ 0xcb347e80] ac-tex damaged at 10 5\n",
      "[mpeg4 @ 0xcb347e80] Error at MB: 110\n",
      "[mpeg4 @ 0xcb35ec40] illegal dc vlc\n",
      "[mpeg4 @ 0xcb35ec40] Error at MB: 202\n",
      "[mpeg4 @ 0xcb3522c0] ac-tex damaged at 10 5\n",
      "[mpeg4 @ 0xcb3522c0] Error at MB: 110\n",
      "[mpeg4 @ 0xcb3522c0] ac-tex damaged at 13 7\n",
      "[mpeg4 @ 0xcb3522c0] Error at MB: 153\n"
     ]
    },
    {
     "data": {
      "application/vnd.jupyter.widget-view+json": {
       "model_id": "",
       "version_major": 2,
       "version_minor": 0
      },
      "text/plain": [
       "Validation: 0it [00:00, ?it/s]"
      ]
     },
     "metadata": {},
     "output_type": "display_data"
    },
    {
     "name": "stderr",
     "output_type": "stream",
     "text": [
      "[mpeg4 @ 0xc9836980] illegal dc vlc\n",
      "[mpeg4 @ 0xc9836980] Error at MB: 202\n",
      "[mpeg4 @ 0xcb3522c0] ac-tex damaged at 10 5\n",
      "[mpeg4 @ 0xcb3522c0] Error at MB: 110\n",
      "[mpeg4 @ 0xc9834f80] ac-tex damaged at 13 7\n",
      "[mpeg4 @ 0xc9834f80] Error at MB: 153\n",
      "[mpeg4 @ 0xcb35a180] ac-tex damaged at 13 7\n",
      "[mpeg4 @ 0xcb35a180] Error at MB: 153\n",
      "[mpeg4 @ 0x80b5740] ac-tex damaged at 9 5\n",
      "[mpeg4 @ 0x80b5740] Error at MB: 109\n",
      "[mpeg4 @ 0xc9834f80] ac-tex damaged at 10 5\n",
      "[mpeg4 @ 0xc9834f80] Error at MB: 110\n"
     ]
    },
    {
     "data": {
      "application/vnd.jupyter.widget-view+json": {
       "model_id": "",
       "version_major": 2,
       "version_minor": 0
      },
      "text/plain": [
       "Validation: 0it [00:00, ?it/s]"
      ]
     },
     "metadata": {},
     "output_type": "display_data"
    },
    {
     "name": "stderr",
     "output_type": "stream",
     "text": [
      "[mpeg4 @ 0xcb362580] ac-tex damaged at 13 7\n",
      "[mpeg4 @ 0xcb362580] Error at MB: 153\n",
      "[mpeg4 @ 0xcb3593c0] ac-tex damaged at 10 5\n",
      "[mpeg4 @ 0xcb3593c0] Error at MB: 110\n",
      "[mpeg4 @ 0xcb53d1c0] ac-tex damaged at 10 5\n",
      "[mpeg4 @ 0xcb53d1c0] Error at MB: 110\n",
      "[mpeg4 @ 0xcb36eb40] illegal dc vlc\n",
      "[mpeg4 @ 0xcb36eb40] Error at MB: 202\n",
      "[mpeg4 @ 0xcb365c40] ac-tex damaged at 13 7\n",
      "[mpeg4 @ 0xcb365c40] Error at MB: 153\n",
      "[mpeg4 @ 0xcb362580] ac-tex damaged at 9 5\n",
      "[mpeg4 @ 0xcb362580] Error at MB: 109\n"
     ]
    },
    {
     "data": {
      "application/vnd.jupyter.widget-view+json": {
       "model_id": "",
       "version_major": 2,
       "version_minor": 0
      },
      "text/plain": [
       "Validation: 0it [00:00, ?it/s]"
      ]
     },
     "metadata": {},
     "output_type": "display_data"
    },
    {
     "name": "stderr",
     "output_type": "stream",
     "text": [
      "[mpeg4 @ 0xcb365c40] ac-tex damaged at 10 5\n",
      "[mpeg4 @ 0xcb365c40] Error at MB: 110\n",
      "[mpeg4 @ 0xcb362580] illegal dc vlc\n",
      "[mpeg4 @ 0xcb362580] Error at MB: 202\n",
      "[mpeg4 @ 0xcb35a180] ac-tex damaged at 9 5\n",
      "[mpeg4 @ 0xcb35a180] Error at MB: 109\n",
      "[mpeg4 @ 0xcb3640c0] ac-tex damaged at 13 7\n",
      "[mpeg4 @ 0xcb3640c0] Error at MB: 153\n",
      "[mpeg4 @ 0xcb362580] ac-tex damaged at 13 7\n",
      "[mpeg4 @ 0xcb362580] Error at MB: 153\n",
      "[mpeg4 @ 0xcb7166c0] ac-tex damaged at 10 5\n",
      "[mpeg4 @ 0xcb7166c0] Error at MB: 110\n"
     ]
    },
    {
     "data": {
      "application/vnd.jupyter.widget-view+json": {
       "model_id": "",
       "version_major": 2,
       "version_minor": 0
      },
      "text/plain": [
       "Validation: 0it [00:00, ?it/s]"
      ]
     },
     "metadata": {},
     "output_type": "display_data"
    },
    {
     "name": "stderr",
     "output_type": "stream",
     "text": [
      "[mpeg4 @ 0xc9836980] illegal dc vlc\n",
      "[mpeg4 @ 0xc9836980] Error at MB: 202\n",
      "[mpeg4 @ 0xc9836980] ac-tex damaged at 9 5\n",
      "[mpeg4 @ 0xc9836980] Error at MB: 109\n",
      "[mpeg4 @ 0xe70bfa00] ac-tex damaged at 13 7\n",
      "[mpeg4 @ 0xe70bfa00] Error at MB: 153\n",
      "[mpeg4 @ 0xcb34cec0] ac-tex damaged at 13 7\n",
      "[mpeg4 @ 0xcb34cec0] Error at MB: 153\n",
      "[mpeg4 @ 0xc9834f80] ac-tex damaged at 10 5\n",
      "[mpeg4 @ 0xc9834f80] Error at MB: 110\n",
      "[mpeg4 @ 0xcb3522c0] ac-tex damaged at 10 5\n",
      "[mpeg4 @ 0xcb3522c0] Error at MB: 110\n"
     ]
    },
    {
     "data": {
      "application/vnd.jupyter.widget-view+json": {
       "model_id": "",
       "version_major": 2,
       "version_minor": 0
      },
      "text/plain": [
       "Validation: 0it [00:00, ?it/s]"
      ]
     },
     "metadata": {},
     "output_type": "display_data"
    },
    {
     "name": "stderr",
     "output_type": "stream",
     "text": [
      "[mpeg4 @ 0xcb764380] ac-tex damaged at 10 5\n",
      "[mpeg4 @ 0xcb764380] Error at MB: 110\n",
      "[mpeg4 @ 0xc9834f80] ac-tex damaged at 13 7\n",
      "[mpeg4 @ 0xc9834f80] Error at MB: 153\n",
      "[mpeg4 @ 0xcb347e80] ac-tex damaged at 13 7\n",
      "[mpeg4 @ 0xcb347e80] Error at MB: 153\n",
      "[mpeg4 @ 0xcb715d40] ac-tex damaged at 9 5\n",
      "[mpeg4 @ 0xcb715d40] Error at MB: 109\n",
      "[mpeg4 @ 0xcb34cec0] illegal dc vlc\n",
      "[mpeg4 @ 0xcb34cec0] Error at MB: 202\n",
      "[mpeg4 @ 0xcb3593c0] ac-tex damaged at 10 5\n",
      "[mpeg4 @ 0xcb3593c0] Error at MB: 110\n"
     ]
    },
    {
     "data": {
      "application/vnd.jupyter.widget-view+json": {
       "model_id": "",
       "version_major": 2,
       "version_minor": 0
      },
      "text/plain": [
       "Validation: 0it [00:00, ?it/s]"
      ]
     },
     "metadata": {},
     "output_type": "display_data"
    },
    {
     "name": "stderr",
     "output_type": "stream",
     "text": [
      "[mpeg4 @ 0xc9834f80] ac-tex damaged at 9 5\n",
      "[mpeg4 @ 0xc9834f80] Error at MB: 109\n",
      "[mpeg4 @ 0xcb365c40] ac-tex damaged at 13 7\n",
      "[mpeg4 @ 0xcb365c40] Error at MB: 153\n",
      "[mpeg4 @ 0xcb53d1c0] illegal dc vlc\n",
      "[mpeg4 @ 0xcb53d1c0] Error at MB: 202\n",
      "[mpeg4 @ 0xcb362580] ac-tex damaged at 13 7\n",
      "[mpeg4 @ 0xcb362580] Error at MB: 153\n",
      "[mpeg4 @ 0xcb34cec0] ac-tex damaged at 10 5\n",
      "[mpeg4 @ 0xcb34cec0] Error at MB: 110\n",
      "[mpeg4 @ 0xcb34cec0] ac-tex damaged at 10 5\n",
      "[mpeg4 @ 0xcb34cec0] Error at MB: 110\n"
     ]
    },
    {
     "data": {
      "application/vnd.jupyter.widget-view+json": {
       "model_id": "",
       "version_major": 2,
       "version_minor": 0
      },
      "text/plain": [
       "Validation: 0it [00:00, ?it/s]"
      ]
     },
     "metadata": {},
     "output_type": "display_data"
    },
    {
     "name": "stderr",
     "output_type": "stream",
     "text": [
      "[mpeg4 @ 0xcb362580] ac-tex damaged at 13 7\n",
      "[mpeg4 @ 0xcb362580] Error at MB: 153\n",
      "[mpeg4 @ 0x80b5740] ac-tex damaged at 10 5\n",
      "[mpeg4 @ 0x80b5740] Error at MB: 110\n",
      "[mpeg4 @ 0xcb53d1c0] ac-tex damaged at 13 7\n",
      "[mpeg4 @ 0xcb53d1c0] Error at MB: 153\n",
      "[mpeg4 @ 0xcb365c40] illegal dc vlc\n",
      "[mpeg4 @ 0xcb365c40] Error at MB: 202\n",
      "[mpeg4 @ 0xcb347e80] ac-tex damaged at 10 5\n",
      "[mpeg4 @ 0xcb347e80] Error at MB: 110\n",
      "[mpeg4 @ 0xc9834f80] ac-tex damaged at 9 5\n",
      "[mpeg4 @ 0xc9834f80] Error at MB: 109\n"
     ]
    },
    {
     "data": {
      "application/vnd.jupyter.widget-view+json": {
       "model_id": "",
       "version_major": 2,
       "version_minor": 0
      },
      "text/plain": [
       "Validation: 0it [00:00, ?it/s]"
      ]
     },
     "metadata": {},
     "output_type": "display_data"
    },
    {
     "name": "stderr",
     "output_type": "stream",
     "text": [
      "[mpeg4 @ 0xc9836980] ac-tex damaged at 13 7\n",
      "[mpeg4 @ 0xc9836980] Error at MB: 153\n",
      "[mpeg4 @ 0xcb3522c0] ac-tex damaged at 9 5\n",
      "[mpeg4 @ 0xcb3522c0] Error at MB: 109\n",
      "[mpeg4 @ 0xcb35ec40] illegal dc vlc\n",
      "[mpeg4 @ 0xcb35ec40] Error at MB: 202\n",
      "[mpeg4 @ 0xcb3593c0] ac-tex damaged at 10 5\n",
      "[mpeg4 @ 0xcb3593c0] Error at MB: 110\n",
      "[mpeg4 @ 0xcb3522c0] ac-tex damaged at 13 7\n",
      "[mpeg4 @ 0xcb3522c0] Error at MB: 153\n",
      "[mpeg4 @ 0xc9836980] ac-tex damaged at 10 5\n",
      "[mpeg4 @ 0xc9836980] Error at MB: 110\n"
     ]
    },
    {
     "data": {
      "application/vnd.jupyter.widget-view+json": {
       "model_id": "",
       "version_major": 2,
       "version_minor": 0
      },
      "text/plain": [
       "Validation: 0it [00:00, ?it/s]"
      ]
     },
     "metadata": {},
     "output_type": "display_data"
    },
    {
     "name": "stderr",
     "output_type": "stream",
     "text": [
      "[mpeg4 @ 0xcb362580] illegal dc vlc\n",
      "[mpeg4 @ 0xcb362580] Error at MB: 202\n",
      "[mpeg4 @ 0xc9836980] ac-tex damaged at 10 5\n",
      "[mpeg4 @ 0xc9836980] Error at MB: 110\n",
      "[mpeg4 @ 0xcb3593c0] ac-tex damaged at 9 5\n",
      "[mpeg4 @ 0xcb3593c0] Error at MB: 109\n",
      "[mpeg4 @ 0xcb35ec40] ac-tex damaged at 13 7\n",
      "[mpeg4 @ 0xcb35ec40] Error at MB: 153\n",
      "[mpeg4 @ 0xcb362580] ac-tex damaged at 13 7\n",
      "[mpeg4 @ 0xcb362580] Error at MB: 153\n",
      "[mpeg4 @ 0xc9836980] ac-tex damaged at 10 5\n",
      "[mpeg4 @ 0xc9836980] Error at MB: 110\n"
     ]
    },
    {
     "data": {
      "application/vnd.jupyter.widget-view+json": {
       "model_id": "",
       "version_major": 2,
       "version_minor": 0
      },
      "text/plain": [
       "Validation: 0it [00:00, ?it/s]"
      ]
     },
     "metadata": {},
     "output_type": "display_data"
    },
    {
     "name": "stderr",
     "output_type": "stream",
     "text": [
      "[mpeg4 @ 0xcb374580] ac-tex damaged at 9 5\n",
      "[mpeg4 @ 0xcb374580] Error at MB: 109\n",
      "[mpeg4 @ 0xcb71d3c0] ac-tex damaged at 13 7\n",
      "[mpeg4 @ 0xcb71d3c0] Error at MB: 153\n",
      "[mpeg4 @ 0xcb34cec0] illegal dc vlc\n",
      "[mpeg4 @ 0xcb34cec0] Error at MB: 202\n",
      "[mpeg4 @ 0xcb5509c0] ac-tex damaged at 10 5\n",
      "[mpeg4 @ 0xcb5509c0] Error at MB: 110\n",
      "[mpeg4 @ 0xcb71d3c0] ac-tex damaged at 13 7\n",
      "[mpeg4 @ 0xcb71d3c0] Error at MB: 153\n",
      "[mpeg4 @ 0xcc541a80] ac-tex damaged at 10 5\n",
      "[mpeg4 @ 0xcc541a80] Error at MB: 110\n"
     ]
    },
    {
     "data": {
      "application/vnd.jupyter.widget-view+json": {
       "model_id": "",
       "version_major": 2,
       "version_minor": 0
      },
      "text/plain": [
       "Validation: 0it [00:00, ?it/s]"
      ]
     },
     "metadata": {},
     "output_type": "display_data"
    },
    {
     "name": "stderr",
     "output_type": "stream",
     "text": [
      "[mpeg4 @ 0xcb3593c0] ac-tex damaged at 13 7\n",
      "[mpeg4 @ 0xcb3593c0] Error at MB: 153\n",
      "[mpeg4 @ 0xcb71d3c0] ac-tex damaged at 9 5\n",
      "[mpeg4 @ 0xcb71d3c0] Error at MB: 109\n",
      "[mpeg4 @ 0xc9834f80] illegal dc vlc\n",
      "[mpeg4 @ 0xc9834f80] Error at MB: 202\n",
      "[mpeg4 @ 0x7829580] ac-tex damaged at 10 5\n",
      "[mpeg4 @ 0x7829580] Error at MB: 110\n",
      "[mpeg4 @ 0xcb75a940] ac-tex damaged at 10 5\n",
      "[mpeg4 @ 0xcb75a940] Error at MB: 110\n",
      "[mpeg4 @ 0x80b5740] ac-tex damaged at 13 7\n",
      "[mpeg4 @ 0x80b5740] Error at MB: 153\n"
     ]
    },
    {
     "data": {
      "application/vnd.jupyter.widget-view+json": {
       "model_id": "",
       "version_major": 2,
       "version_minor": 0
      },
      "text/plain": [
       "Validation: 0it [00:00, ?it/s]"
      ]
     },
     "metadata": {},
     "output_type": "display_data"
    },
    {
     "name": "stderr",
     "output_type": "stream",
     "text": [
      "[mpeg4 @ 0xcb347e80] illegal dc vlc\n",
      "[mpeg4 @ 0xcb347e80] Error at MB: 202\n",
      "[mpeg4 @ 0xcb3522c0] ac-tex damaged at 13 7\n",
      "[mpeg4 @ 0xcb3522c0] Error at MB: 153\n",
      "[mpeg4 @ 0x829dcc0] ac-tex damaged at 10 5\n",
      "[mpeg4 @ 0x829dcc0] Error at MB: 110\n",
      "[mpeg4 @ 0xc9836980] ac-tex damaged at 13 7\n",
      "[mpeg4 @ 0xc9836980] Error at MB: 153\n",
      "[mpeg4 @ 0x829dcc0] ac-tex damaged at 9 5\n",
      "[mpeg4 @ 0x829dcc0] Error at MB: 109\n",
      "[mpeg4 @ 0x829dcc0] ac-tex damaged at 10 5\n",
      "[mpeg4 @ 0x829dcc0] Error at MB: 110\n"
     ]
    },
    {
     "data": {
      "application/vnd.jupyter.widget-view+json": {
       "model_id": "",
       "version_major": 2,
       "version_minor": 0
      },
      "text/plain": [
       "Validation: 0it [00:00, ?it/s]"
      ]
     },
     "metadata": {},
     "output_type": "display_data"
    },
    {
     "name": "stderr",
     "output_type": "stream",
     "text": [
      "[mpeg4 @ 0xcb53d1c0] ac-tex damaged at 13 7\n",
      "[mpeg4 @ 0xcb53d1c0] Error at MB: 153\n",
      "[mpeg4 @ 0xcb362580] illegal dc vlc\n",
      "[mpeg4 @ 0xcb362580] Error at MB: 202\n",
      "[mpeg4 @ 0x80b7280] ac-tex damaged at 10 5\n",
      "[mpeg4 @ 0x80b7280] Error at MB: 110\n",
      "[mpeg4 @ 0xcb3593c0] ac-tex damaged at 9 5\n",
      "[mpeg4 @ 0xcb3593c0] Error at MB: 109\n",
      "[mpeg4 @ 0xcb347e80] ac-tex damaged at 10 5\n",
      "[mpeg4 @ 0xcb347e80] Error at MB: 110\n",
      "[mpeg4 @ 0xcb34cec0] ac-tex damaged at 13 7\n",
      "[mpeg4 @ 0xcb34cec0] Error at MB: 153\n"
     ]
    },
    {
     "data": {
      "application/vnd.jupyter.widget-view+json": {
       "model_id": "",
       "version_major": 2,
       "version_minor": 0
      },
      "text/plain": [
       "Validation: 0it [00:00, ?it/s]"
      ]
     },
     "metadata": {},
     "output_type": "display_data"
    },
    {
     "name": "stderr",
     "output_type": "stream",
     "text": [
      "[mpeg4 @ 0xcb347e80] ac-tex damaged at 9 5\n",
      "[mpeg4 @ 0xcb347e80] Error at MB: 109\n",
      "[mpeg4 @ 0xcb347e80] ac-tex damaged at 13 7\n",
      "[mpeg4 @ 0xcb347e80] Error at MB: 153\n",
      "[mpeg4 @ 0x80b7280] ac-tex damaged at 10 5\n",
      "[mpeg4 @ 0x80b7280] Error at MB: 110\n",
      "[mpeg4 @ 0xcb3593c0] ac-tex damaged at 13 7\n",
      "[mpeg4 @ 0xcb3593c0] Error at MB: 153\n",
      "[mpeg4 @ 0xcb35ec40] illegal dc vlc\n",
      "[mpeg4 @ 0xcb35ec40] Error at MB: 202\n",
      "[mpeg4 @ 0xcb347e80] ac-tex damaged at 10 5\n",
      "[mpeg4 @ 0xcb347e80] Error at MB: 110\n"
     ]
    },
    {
     "data": {
      "application/vnd.jupyter.widget-view+json": {
       "model_id": "",
       "version_major": 2,
       "version_minor": 0
      },
      "text/plain": [
       "Validation: 0it [00:00, ?it/s]"
      ]
     },
     "metadata": {},
     "output_type": "display_data"
    },
    {
     "name": "stderr",
     "output_type": "stream",
     "text": [
      "[mpeg4 @ 0xcb3593c0] illegal dc vlc\n",
      "[mpeg4 @ 0xcb3593c0] Error at MB: 202\n",
      "[mpeg4 @ 0xcb7342c0] ac-tex damaged at 10 5\n",
      "[mpeg4 @ 0xcb7342c0] Error at MB: 110\n",
      "[mpeg4 @ 0xcb88bb00] ac-tex damaged at 13 7\n",
      "[mpeg4 @ 0xcb88bb00] Error at MB: 153\n",
      "[mpeg4 @ 0xcb88bb00] ac-tex damaged at 13 7\n",
      "[mpeg4 @ 0xcb88bb00] Error at MB: 153\n",
      "[mpeg4 @ 0xcb374580] ac-tex damaged at 9 5\n",
      "[mpeg4 @ 0xcb374580] Error at MB: 109\n",
      "[mpeg4 @ 0xcb8c7380] ac-tex damaged at 10 5\n",
      "[mpeg4 @ 0xcb8c7380] Error at MB: 110\n"
     ]
    },
    {
     "data": {
      "application/vnd.jupyter.widget-view+json": {
       "model_id": "",
       "version_major": 2,
       "version_minor": 0
      },
      "text/plain": [
       "Validation: 0it [00:00, ?it/s]"
      ]
     },
     "metadata": {},
     "output_type": "display_data"
    },
    {
     "name": "stderr",
     "output_type": "stream",
     "text": [
      "[mpeg4 @ 0xcb365c40] illegal dc vlc\n",
      "[mpeg4 @ 0xcb365c40] Error at MB: 202\n",
      "[mpeg4 @ 0xcb347e80] ac-tex damaged at 10 5\n",
      "[mpeg4 @ 0xcb347e80] Error at MB: 110\n",
      "[mpeg4 @ 0xcb347e80] ac-tex damaged at 9 5\n",
      "[mpeg4 @ 0xcb347e80] Error at MB: 109\n",
      "[mpeg4 @ 0xcb34cec0] ac-tex damaged at 13 7\n",
      "[mpeg4 @ 0xcb34cec0] Error at MB: 153\n",
      "[mpeg4 @ 0x80b7280] ac-tex damaged at 13 7\n",
      "[mpeg4 @ 0x80b7280] Error at MB: 153\n",
      "[mpeg4 @ 0xc9836980] ac-tex damaged at 10 5\n",
      "[mpeg4 @ 0xc9836980] Error at MB: 110\n"
     ]
    },
    {
     "data": {
      "application/vnd.jupyter.widget-view+json": {
       "model_id": "",
       "version_major": 2,
       "version_minor": 0
      },
      "text/plain": [
       "Validation: 0it [00:00, ?it/s]"
      ]
     },
     "metadata": {},
     "output_type": "display_data"
    },
    {
     "name": "stderr",
     "output_type": "stream",
     "text": [
      "[mpeg4 @ 0xcb36eb40] ac-tex damaged at 13 7\n",
      "[mpeg4 @ 0xcb36eb40] Error at MB: 153\n",
      "[mpeg4 @ 0xcb53d1c0] ac-tex damaged at 10 5\n",
      "[mpeg4 @ 0xcb53d1c0] Error at MB: 110\n",
      "[mpeg4 @ 0xcb365c40] illegal dc vlc\n",
      "[mpeg4 @ 0xcb365c40] Error at MB: 202\n",
      "[mpeg4 @ 0xc9836980] ac-tex damaged at 9 5\n",
      "[mpeg4 @ 0xc9836980] Error at MB: 109\n",
      "[mpeg4 @ 0xc9834f80] ac-tex damaged at 10 5\n",
      "[mpeg4 @ 0xc9834f80] Error at MB: 110\n",
      "[mpeg4 @ 0xc9834f80] ac-tex damaged at 13 7\n",
      "[mpeg4 @ 0xc9834f80] Error at MB: 153\n"
     ]
    },
    {
     "data": {
      "application/vnd.jupyter.widget-view+json": {
       "model_id": "",
       "version_major": 2,
       "version_minor": 0
      },
      "text/plain": [
       "Validation: 0it [00:00, ?it/s]"
      ]
     },
     "metadata": {},
     "output_type": "display_data"
    },
    {
     "name": "stderr",
     "output_type": "stream",
     "text": [
      "[mpeg4 @ 0x80b7280] ac-tex damaged at 13 7\n",
      "[mpeg4 @ 0x80b7280] Error at MB: 153\n",
      "[mpeg4 @ 0xcb34cec0] ac-tex damaged at 9 5\n",
      "[mpeg4 @ 0xcb34cec0] Error at MB: 109\n",
      "[mpeg4 @ 0xc9836980] ac-tex damaged at 10 5\n",
      "[mpeg4 @ 0xc9836980] Error at MB: 110\n",
      "[mpeg4 @ 0xcb3522c0] ac-tex damaged at 13 7\n",
      "[mpeg4 @ 0xcb3522c0] Error at MB: 153\n",
      "[mpeg4 @ 0xcb3593c0] ac-tex damaged at 10 5\n",
      "[mpeg4 @ 0xcb3593c0] Error at MB: 110\n",
      "[mpeg4 @ 0xcb3522c0] illegal dc vlc\n",
      "[mpeg4 @ 0xcb3522c0] Error at MB: 202\n"
     ]
    },
    {
     "data": {
      "application/vnd.jupyter.widget-view+json": {
       "model_id": "",
       "version_major": 2,
       "version_minor": 0
      },
      "text/plain": [
       "Validation: 0it [00:00, ?it/s]"
      ]
     },
     "metadata": {},
     "output_type": "display_data"
    },
    {
     "name": "stderr",
     "output_type": "stream",
     "text": [
      "[mpeg4 @ 0xc9836980] ac-tex damaged at 10 5\n",
      "[mpeg4 @ 0xc9836980] Error at MB: 110\n",
      "[mpeg4 @ 0xc9836980] ac-tex damaged at 10 5\n",
      "[mpeg4 @ 0xc9836980] Error at MB: 110\n",
      "[mpeg4 @ 0xcb34cec0] ac-tex damaged at 13 7\n",
      "[mpeg4 @ 0xcb34cec0] Error at MB: 153\n",
      "[mpeg4 @ 0xcb36eb40] illegal dc vlc\n",
      "[mpeg4 @ 0xcb36eb40] Error at MB: 202\n",
      "[mpeg4 @ 0xcb347e80] ac-tex damaged at 9 5\n",
      "[mpeg4 @ 0xcb347e80] Error at MB: 109\n",
      "[mpeg4 @ 0x80b5740] ac-tex damaged at 13 7\n",
      "[mpeg4 @ 0x80b5740] Error at MB: 153\n"
     ]
    },
    {
     "data": {
      "application/vnd.jupyter.widget-view+json": {
       "model_id": "",
       "version_major": 2,
       "version_minor": 0
      },
      "text/plain": [
       "Validation: 0it [00:00, ?it/s]"
      ]
     },
     "metadata": {},
     "output_type": "display_data"
    },
    {
     "name": "stderr",
     "output_type": "stream",
     "text": [
      "[mpeg4 @ 0xcb3522c0] ac-tex damaged at 13 7\n",
      "[mpeg4 @ 0xcb3522c0] Error at MB: 153\n",
      "[mpeg4 @ 0xcb3593c0] ac-tex damaged at 9 5\n",
      "[mpeg4 @ 0xcb3593c0] Error at MB: 109\n",
      "[mpeg4 @ 0xcb713680] ac-tex damaged at 10 5\n",
      "[mpeg4 @ 0xcb713680] Error at MB: 110\n",
      "[mpeg4 @ 0xcb3593c0] ac-tex damaged at 13 7\n",
      "[mpeg4 @ 0xcb3593c0] Error at MB: 153\n",
      "[mpeg4 @ 0xcb3522c0] ac-tex damaged at 10 5\n",
      "[mpeg4 @ 0xcb3522c0] Error at MB: 110\n",
      "[mpeg4 @ 0xcb365c40] illegal dc vlc\n",
      "[mpeg4 @ 0xcb365c40] Error at MB: 202\n"
     ]
    },
    {
     "data": {
      "application/vnd.jupyter.widget-view+json": {
       "model_id": "",
       "version_major": 2,
       "version_minor": 0
      },
      "text/plain": [
       "Validation: 0it [00:00, ?it/s]"
      ]
     },
     "metadata": {},
     "output_type": "display_data"
    },
    {
     "name": "stderr",
     "output_type": "stream",
     "text": [
      "[mpeg4 @ 0xcb347e80] ac-tex damaged at 10 5\n",
      "[mpeg4 @ 0xcb347e80] Error at MB: 110\n",
      "[mpeg4 @ 0x80b5740] ac-tex damaged at 13 7\n",
      "[mpeg4 @ 0x80b5740] Error at MB: 153\n",
      "[mpeg4 @ 0xcb34cec0] ac-tex damaged at 10 5\n",
      "[mpeg4 @ 0xcb34cec0] Error at MB: 110\n",
      "[mpeg4 @ 0xcb36eb40] illegal dc vlc\n",
      "[mpeg4 @ 0xcb36eb40] Error at MB: 202\n",
      "[mpeg4 @ 0xcb347e80] ac-tex damaged at 9 5\n",
      "[mpeg4 @ 0xcb347e80] Error at MB: 109\n"
     ]
    },
    {
     "data": {
      "application/vnd.jupyter.widget-view+json": {
       "model_id": "",
       "version_major": 2,
       "version_minor": 0
      },
      "text/plain": [
       "Validation: 0it [00:00, ?it/s]"
      ]
     },
     "metadata": {},
     "output_type": "display_data"
    },
    {
     "name": "stderr",
     "output_type": "stream",
     "text": [
      "[mpeg4 @ 0xcb3522c0] ac-tex damaged at 10 5\n",
      "[mpeg4 @ 0xcb3522c0] Error at MB: 110\n",
      "[mpeg4 @ 0xcb53d1c0] illegal dc vlc\n",
      "[mpeg4 @ 0xcb53d1c0] Error at MB: 202\n",
      "[mpeg4 @ 0xcb36eb40] ac-tex damaged at 13 7\n",
      "[mpeg4 @ 0xcb36eb40] Error at MB: 153\n",
      "[mpeg4 @ 0x80b7280] ac-tex damaged at 9 5\n",
      "[mpeg4 @ 0x80b7280] Error at MB: 109\n",
      "[mpeg4 @ 0x80b5740] ac-tex damaged at 10 5\n",
      "[mpeg4 @ 0x80b5740] Error at MB: 110\n",
      "[mpeg4 @ 0xc9834f80] ac-tex damaged at 13 7\n",
      "[mpeg4 @ 0xc9834f80] Error at MB: 153\n"
     ]
    },
    {
     "data": {
      "application/vnd.jupyter.widget-view+json": {
       "model_id": "",
       "version_major": 2,
       "version_minor": 0
      },
      "text/plain": [
       "Validation: 0it [00:00, ?it/s]"
      ]
     },
     "metadata": {},
     "output_type": "display_data"
    },
    {
     "name": "stderr",
     "output_type": "stream",
     "text": [
      "[mpeg4 @ 0xcb3522c0] ac-tex damaged at 13 7\n",
      "[mpeg4 @ 0xcb3522c0] Error at MB: 153\n",
      "[mpeg4 @ 0xcb362580] ac-tex damaged at 9 5\n",
      "[mpeg4 @ 0xcb362580] Error at MB: 109\n",
      "[mpeg4 @ 0xcb36eb40] ac-tex damaged at 10 5\n",
      "[mpeg4 @ 0xcb36eb40] Error at MB: 110\n",
      "[mpeg4 @ 0xcb53d1c0] ac-tex damaged at 10 5\n",
      "[mpeg4 @ 0xcb53d1c0] Error at MB: 110\n",
      "[mpeg4 @ 0xcb36eb40] ac-tex damaged at 13 7\n",
      "[mpeg4 @ 0xcb36eb40] Error at MB: 153\n",
      "[mpeg4 @ 0xcb3640c0] illegal dc vlc\n",
      "[mpeg4 @ 0xcb3640c0] Error at MB: 202\n"
     ]
    },
    {
     "data": {
      "application/vnd.jupyter.widget-view+json": {
       "model_id": "",
       "version_major": 2,
       "version_minor": 0
      },
      "text/plain": [
       "Validation: 0it [00:00, ?it/s]"
      ]
     },
     "metadata": {},
     "output_type": "display_data"
    },
    {
     "name": "stderr",
     "output_type": "stream",
     "text": [
      "[mpeg4 @ 0xc9834f80] illegal dc vlc\n",
      "[mpeg4 @ 0xc9834f80] Error at MB: 202\n",
      "[mpeg4 @ 0xcb7115c0] ac-tex damaged at 13 7\n",
      "[mpeg4 @ 0xcb7115c0] Error at MB: 153\n",
      "[mpeg4 @ 0xc9836980] ac-tex damaged at 13 7\n",
      "[mpeg4 @ 0xc9836980] Error at MB: 153\n",
      "[mpeg4 @ 0x829dcc0] ac-tex damaged at 10 5\n",
      "[mpeg4 @ 0x829dcc0] Error at MB: 110\n",
      "[mpeg4 @ 0xcb3593c0] ac-tex damaged at 9 5\n",
      "[mpeg4 @ 0xcb3593c0] Error at MB: 109\n",
      "[mpeg4 @ 0xccdb2980] ac-tex damaged at 10 5\n",
      "[mpeg4 @ 0xccdb2980] Error at MB: 110\n"
     ]
    },
    {
     "data": {
      "application/vnd.jupyter.widget-view+json": {
       "model_id": "",
       "version_major": 2,
       "version_minor": 0
      },
      "text/plain": [
       "Validation: 0it [00:00, ?it/s]"
      ]
     },
     "metadata": {},
     "output_type": "display_data"
    },
    {
     "name": "stderr",
     "output_type": "stream",
     "text": [
      "[mpeg4 @ 0x80b7280] ac-tex damaged at 13 7\n",
      "[mpeg4 @ 0x80b7280] Error at MB: 153\n",
      "[mpeg4 @ 0xcb3640c0] ac-tex damaged at 10 5\n",
      "[mpeg4 @ 0xcb3640c0] Error at MB: 110\n",
      "[mpeg4 @ 0x80b7280] ac-tex damaged at 13 7\n",
      "[mpeg4 @ 0x80b7280] Error at MB: 153\n",
      "[mpeg4 @ 0x829dcc0] ac-tex damaged at 9 5\n",
      "[mpeg4 @ 0x829dcc0] Error at MB: 109\n",
      "[mpeg4 @ 0x7f74a02fcbc0] ac-tex damaged at 10 5\n",
      "[mpeg4 @ 0x7f74a02fcbc0] Error at MB: 110\n"
     ]
    },
    {
     "data": {
      "application/vnd.jupyter.widget-view+json": {
       "model_id": "",
       "version_major": 2,
       "version_minor": 0
      },
      "text/plain": [
       "Validation: 0it [00:00, ?it/s]"
      ]
     },
     "metadata": {},
     "output_type": "display_data"
    },
    {
     "name": "stderr",
     "output_type": "stream",
     "text": [
      "[mpeg4 @ 0xcb3640c0] ac-tex damaged at 10 5\n",
      "[mpeg4 @ 0xcb3640c0] Error at MB: 110\n",
      "[mpeg4 @ 0xc7c098c0] ac-tex damaged at 10 5\n",
      "[mpeg4 @ 0xc7c098c0] Error at MB: 110\n",
      "[mpeg4 @ 0xcb3522c0] ac-tex damaged at 13 7\n",
      "[mpeg4 @ 0xcb3522c0] Error at MB: 153\n",
      "[mpeg4 @ 0xcb53d1c0] ac-tex damaged at 13 7\n",
      "[mpeg4 @ 0xcb53d1c0] Error at MB: 153\n",
      "[mpeg4 @ 0x80b5740] ac-tex damaged at 9 5\n",
      "[mpeg4 @ 0x80b5740] Error at MB: 109\n",
      "[mpeg4 @ 0xcb35ec40] illegal dc vlc\n",
      "[mpeg4 @ 0xcb35ec40] Error at MB: 202\n"
     ]
    },
    {
     "data": {
      "application/vnd.jupyter.widget-view+json": {
       "model_id": "",
       "version_major": 2,
       "version_minor": 0
      },
      "text/plain": [
       "Validation: 0it [00:00, ?it/s]"
      ]
     },
     "metadata": {},
     "output_type": "display_data"
    },
    {
     "name": "stderr",
     "output_type": "stream",
     "text": [
      "[mpeg4 @ 0xcb35ec40] illegal dc vlc\n",
      "[mpeg4 @ 0xcb35ec40] Error at MB: 202\n",
      "[mpeg4 @ 0xc9836980] ac-tex damaged at 9 5\n",
      "[mpeg4 @ 0xc9836980] Error at MB: 109\n",
      "[mpeg4 @ 0xc9834f80] ac-tex damaged at 10 5\n",
      "[mpeg4 @ 0xc9834f80] Error at MB: 110\n",
      "[mpeg4 @ 0xcb3593c0] ac-tex damaged at 10 5\n",
      "[mpeg4 @ 0xcb3593c0] Error at MB: 110\n",
      "[mpeg4 @ 0xcb53d1c0] ac-tex damaged at 13 7\n",
      "[mpeg4 @ 0xcb53d1c0] Error at MB: 153\n",
      "[mpeg4 @ 0xcb362580] ac-tex damaged at 13 7\n",
      "[mpeg4 @ 0xcb362580] Error at MB: 153\n"
     ]
    },
    {
     "data": {
      "application/vnd.jupyter.widget-view+json": {
       "model_id": "",
       "version_major": 2,
       "version_minor": 0
      },
      "text/plain": [
       "Validation: 0it [00:00, ?it/s]"
      ]
     },
     "metadata": {},
     "output_type": "display_data"
    },
    {
     "name": "stderr",
     "output_type": "stream",
     "text": [
      "[mpeg4 @ 0xcb53d1c0] ac-tex damaged at 10 5\n",
      "[mpeg4 @ 0xcb53d1c0] Error at MB: 110\n",
      "[mpeg4 @ 0xcb365c40] ac-tex damaged at 13 7\n",
      "[mpeg4 @ 0xcb365c40] Error at MB: 153\n",
      "[mpeg4 @ 0xc7c098c0] ac-tex damaged at 9 5\n",
      "[mpeg4 @ 0xc7c098c0] Error at MB: 109\n",
      "[mpeg4 @ 0xcb3522c0] ac-tex damaged at 10 5\n",
      "[mpeg4 @ 0xcb3522c0] Error at MB: 110\n",
      "[mpeg4 @ 0xc9836980] ac-tex damaged at 13 7\n",
      "[mpeg4 @ 0xc9836980] Error at MB: 153\n",
      "[mpeg4 @ 0xcb362580] illegal dc vlc\n",
      "[mpeg4 @ 0xcb362580] Error at MB: 202\n"
     ]
    },
    {
     "data": {
      "application/vnd.jupyter.widget-view+json": {
       "model_id": "",
       "version_major": 2,
       "version_minor": 0
      },
      "text/plain": [
       "Validation: 0it [00:00, ?it/s]"
      ]
     },
     "metadata": {},
     "output_type": "display_data"
    },
    {
     "name": "stderr",
     "output_type": "stream",
     "text": [
      "[mpeg4 @ 0xcb3522c0] ac-tex damaged at 13 7\n",
      "[mpeg4 @ 0xcb3522c0] Error at MB: 153\n",
      "[mpeg4 @ 0xcb53d1c0] illegal dc vlc\n",
      "[mpeg4 @ 0xcb53d1c0] Error at MB: 202\n",
      "[mpeg4 @ 0xc9834f80] ac-tex damaged at 10 5\n",
      "[mpeg4 @ 0xc9834f80] Error at MB: 110\n",
      "[mpeg4 @ 0xc9836980] ac-tex damaged at 9 5\n",
      "[mpeg4 @ 0xc9836980] Error at MB: 109\n",
      "[mpeg4 @ 0xcb3640c0] ac-tex damaged at 13 7\n",
      "[mpeg4 @ 0xcb3640c0] Error at MB: 153\n",
      "[mpeg4 @ 0xc9834f80] ac-tex damaged at 10 5\n",
      "[mpeg4 @ 0xc9834f80] Error at MB: 110\n"
     ]
    },
    {
     "data": {
      "application/vnd.jupyter.widget-view+json": {
       "model_id": "",
       "version_major": 2,
       "version_minor": 0
      },
      "text/plain": [
       "Validation: 0it [00:00, ?it/s]"
      ]
     },
     "metadata": {},
     "output_type": "display_data"
    },
    {
     "name": "stderr",
     "output_type": "stream",
     "text": [
      "[mpeg4 @ 0xcb3640c0] ac-tex damaged at 13 7\n",
      "[mpeg4 @ 0xcb3640c0] Error at MB: 153\n",
      "[mpeg4 @ 0xcb365c40] ac-tex damaged at 13 7\n",
      "[mpeg4 @ 0xcb365c40] Error at MB: 153\n",
      "[mpeg4 @ 0xcb89d300] illegal dc vlc\n",
      "[mpeg4 @ 0xcb89d300] Error at MB: 202\n",
      "[mpeg4 @ 0xcb53d1c0] ac-tex damaged at 10 5\n",
      "[mpeg4 @ 0xcb53d1c0] Error at MB: 110\n",
      "[mpeg4 @ 0xcb53d1c0] ac-tex damaged at 9 5\n",
      "[mpeg4 @ 0xcb53d1c0] Error at MB: 109\n",
      "[mpeg4 @ 0xcb362580] ac-tex damaged at 10 5\n",
      "[mpeg4 @ 0xcb362580] Error at MB: 110\n"
     ]
    },
    {
     "data": {
      "application/vnd.jupyter.widget-view+json": {
       "model_id": "",
       "version_major": 2,
       "version_minor": 0
      },
      "text/plain": [
       "Validation: 0it [00:00, ?it/s]"
      ]
     },
     "metadata": {},
     "output_type": "display_data"
    },
    {
     "name": "stderr",
     "output_type": "stream",
     "text": [
      "[mpeg4 @ 0x80b7280] ac-tex damaged at 10 5\n",
      "[mpeg4 @ 0x80b7280] Error at MB: 110\n",
      "[mpeg4 @ 0xc9836980] ac-tex damaged at 13 7\n",
      "[mpeg4 @ 0xc9836980] Error at MB: 153\n",
      "[mpeg4 @ 0x80b7280] ac-tex damaged at 9 5\n",
      "[mpeg4 @ 0x80b7280] Error at MB: 109\n",
      "[mpeg4 @ 0xcb3640c0] illegal dc vlc\n",
      "[mpeg4 @ 0xcb3640c0] Error at MB: 202\n",
      "[mpeg4 @ 0x80b5740] ac-tex damaged at 10 5\n",
      "[mpeg4 @ 0x80b5740] Error at MB: 110\n",
      "[mpeg4 @ 0xcb36eb40] ac-tex damaged at 13 7\n",
      "[mpeg4 @ 0xcb36eb40] Error at MB: 153\n"
     ]
    },
    {
     "data": {
      "application/vnd.jupyter.widget-view+json": {
       "model_id": "",
       "version_major": 2,
       "version_minor": 0
      },
      "text/plain": [
       "Validation: 0it [00:00, ?it/s]"
      ]
     },
     "metadata": {},
     "output_type": "display_data"
    },
    {
     "name": "stderr",
     "output_type": "stream",
     "text": [
      "[mpeg4 @ 0xcb3593c0] ac-tex damaged at 10 5\n",
      "[mpeg4 @ 0xcb3593c0] Error at MB: 110\n",
      "[mpeg4 @ 0xcb36eb40] ac-tex damaged at 13 7\n",
      "[mpeg4 @ 0xcb36eb40] Error at MB: 153\n",
      "[mpeg4 @ 0xcb36eb40] illegal dc vlc\n",
      "[mpeg4 @ 0xcb36eb40] Error at MB: 202\n",
      "[mpeg4 @ 0x80b7280] ac-tex damaged at 10 5\n",
      "[mpeg4 @ 0x80b7280] Error at MB: 110\n",
      "[mpeg4 @ 0xcb347e80] ac-tex damaged at 9 5\n",
      "[mpeg4 @ 0xcb347e80] Error at MB: 109\n",
      "[mpeg4 @ 0xcb362580] ac-tex damaged at 13 7\n",
      "[mpeg4 @ 0xcb362580] Error at MB: 153\n"
     ]
    },
    {
     "data": {
      "application/vnd.jupyter.widget-view+json": {
       "model_id": "",
       "version_major": 2,
       "version_minor": 0
      },
      "text/plain": [
       "Validation: 0it [00:00, ?it/s]"
      ]
     },
     "metadata": {},
     "output_type": "display_data"
    },
    {
     "name": "stderr",
     "output_type": "stream",
     "text": [
      "[mpeg4 @ 0x80b7280] ac-tex damaged at 10 5\n",
      "[mpeg4 @ 0x80b7280] Error at MB: 110\n",
      "[mpeg4 @ 0xcb365c40] ac-tex damaged at 9 5\n",
      "[mpeg4 @ 0xcb365c40] Error at MB: 109\n",
      "[mpeg4 @ 0xcb35ec40] ac-tex damaged at 13 7\n",
      "[mpeg4 @ 0xcb35ec40] Error at MB: 153\n",
      "[mpeg4 @ 0xcb3522c0] ac-tex damaged at 10 5\n",
      "[mpeg4 @ 0xcb3522c0] Error at MB: 110\n",
      "[mpeg4 @ 0xc9834f80] illegal dc vlc\n",
      "[mpeg4 @ 0xc9834f80] Error at MB: 202\n",
      "[mpeg4 @ 0xcb53d1c0] ac-tex damaged at 13 7\n",
      "[mpeg4 @ 0xcb53d1c0] Error at MB: 153\n"
     ]
    },
    {
     "data": {
      "application/vnd.jupyter.widget-view+json": {
       "model_id": "",
       "version_major": 2,
       "version_minor": 0
      },
      "text/plain": [
       "Validation: 0it [00:00, ?it/s]"
      ]
     },
     "metadata": {},
     "output_type": "display_data"
    },
    {
     "name": "stderr",
     "output_type": "stream",
     "text": [
      "[mpeg4 @ 0xcb35ec40] ac-tex damaged at 13 7\n",
      "[mpeg4 @ 0xcb35ec40] Error at MB: 153\n",
      "[mpeg4 @ 0xc9836980] ac-tex damaged at 10 5\n",
      "[mpeg4 @ 0xc9836980] Error at MB: 110\n",
      "[mpeg4 @ 0xc7c098c0] ac-tex damaged at 10 5\n",
      "[mpeg4 @ 0xc7c098c0] Error at MB: 110\n",
      "[mpeg4 @ 0xc9836980] illegal dc vlc\n",
      "[mpeg4 @ 0xc9836980] Error at MB: 202\n",
      "[mpeg4 @ 0xcb35ec40] ac-tex damaged at 13 7\n",
      "[mpeg4 @ 0xcb35ec40] Error at MB: 153\n",
      "[mpeg4 @ 0xcb6dd900] ac-tex damaged at 9 5\n",
      "[mpeg4 @ 0xcb6dd900] Error at MB: 109\n"
     ]
    },
    {
     "data": {
      "application/vnd.jupyter.widget-view+json": {
       "model_id": "",
       "version_major": 2,
       "version_minor": 0
      },
      "text/plain": [
       "Validation: 0it [00:00, ?it/s]"
      ]
     },
     "metadata": {},
     "output_type": "display_data"
    },
    {
     "name": "stderr",
     "output_type": "stream",
     "text": [
      "[mpeg4 @ 0xcb35ec40] ac-tex damaged at 10 5\n",
      "[mpeg4 @ 0xcb35ec40] Error at MB: 110\n",
      "[mpeg4 @ 0xcb362580] ac-tex damaged at 13 7\n",
      "[mpeg4 @ 0xcb362580] Error at MB: 153\n",
      "[mpeg4 @ 0xcb68af00] illegal dc vlc\n",
      "[mpeg4 @ 0xcb68af00] Error at MB: 202\n",
      "[mpeg4 @ 0xcb365c40] ac-tex damaged at 13 7\n",
      "[mpeg4 @ 0xcb365c40] Error at MB: 153\n",
      "[mpeg4 @ 0xc7c098c0] ac-tex damaged at 9 5\n",
      "[mpeg4 @ 0xc7c098c0] Error at MB: 109\n",
      "[mpeg4 @ 0xcb365c40] ac-tex damaged at 10 5\n",
      "[mpeg4 @ 0xcb365c40] Error at MB: 110\n"
     ]
    },
    {
     "data": {
      "application/vnd.jupyter.widget-view+json": {
       "model_id": "",
       "version_major": 2,
       "version_minor": 0
      },
      "text/plain": [
       "Validation: 0it [00:00, ?it/s]"
      ]
     },
     "metadata": {},
     "output_type": "display_data"
    },
    {
     "name": "stderr",
     "output_type": "stream",
     "text": [
      "[mpeg4 @ 0xcb365c40] ac-tex damaged at 13 7\n",
      "[mpeg4 @ 0xcb365c40] Error at MB: 153\n",
      "[mpeg4 @ 0xcb3640c0] ac-tex damaged at 13 7\n",
      "[mpeg4 @ 0xcb3640c0] Error at MB: 153\n",
      "[mpeg4 @ 0xc9834f80] ac-tex damaged at 9 5\n",
      "[mpeg4 @ 0xc9834f80] Error at MB: 109\n",
      "[mpeg4 @ 0xcb362580] illegal dc vlc\n",
      "[mpeg4 @ 0xcb362580] Error at MB: 202\n",
      "[mpeg4 @ 0xcb3522c0] ac-tex damaged at 10 5\n",
      "[mpeg4 @ 0xcb3522c0] Error at MB: 110\n",
      "[mpeg4 @ 0xc9834f80] ac-tex damaged at 10 5\n",
      "[mpeg4 @ 0xc9834f80] Error at MB: 110\n"
     ]
    },
    {
     "data": {
      "application/vnd.jupyter.widget-view+json": {
       "model_id": "",
       "version_major": 2,
       "version_minor": 0
      },
      "text/plain": [
       "Validation: 0it [00:00, ?it/s]"
      ]
     },
     "metadata": {},
     "output_type": "display_data"
    },
    {
     "name": "stderr",
     "output_type": "stream",
     "text": [
      "[mpeg4 @ 0xcb53d1c0] ac-tex damaged at 10 5\n",
      "[mpeg4 @ 0xcb53d1c0] Error at MB: 110\n",
      "[mpeg4 @ 0xcb36eb40] ac-tex damaged at 13 7\n",
      "[mpeg4 @ 0xcb36eb40] Error at MB: 153\n",
      "[mpeg4 @ 0xcb53d1c0] ac-tex damaged at 13 7\n",
      "[mpeg4 @ 0xcb53d1c0] Error at MB: 153\n",
      "[mpeg4 @ 0xc9834f80] ac-tex damaged at 10 5\n",
      "[mpeg4 @ 0xc9834f80] Error at MB: 110\n",
      "[mpeg4 @ 0xcb365c40] ac-tex damaged at 9 5\n",
      "[mpeg4 @ 0xcb365c40] Error at MB: 109\n",
      "[mpeg4 @ 0xcb53d1c0] illegal dc vlc\n",
      "[mpeg4 @ 0xcb53d1c0] Error at MB: 202\n"
     ]
    },
    {
     "data": {
      "application/vnd.jupyter.widget-view+json": {
       "model_id": "",
       "version_major": 2,
       "version_minor": 0
      },
      "text/plain": [
       "Validation: 0it [00:00, ?it/s]"
      ]
     },
     "metadata": {},
     "output_type": "display_data"
    },
    {
     "name": "stderr",
     "output_type": "stream",
     "text": [
      "[mpeg4 @ 0xcb362580] ac-tex damaged at 10 5\n",
      "[mpeg4 @ 0xcb362580] Error at MB: 110\n",
      "[mpeg4 @ 0xcb365c40] ac-tex damaged at 13 7\n",
      "[mpeg4 @ 0xcb365c40] Error at MB: 153\n",
      "[mpeg4 @ 0xcb362580] ac-tex damaged at 10 5\n",
      "[mpeg4 @ 0xcb362580] Error at MB: 110\n",
      "[mpeg4 @ 0xcb89d300] illegal dc vlc\n",
      "[mpeg4 @ 0xcb89d300] Error at MB: 202\n",
      "[mpeg4 @ 0xcb362580] ac-tex damaged at 13 7\n",
      "[mpeg4 @ 0xcb362580] Error at MB: 153\n",
      "[mpeg4 @ 0xcb36eb40] ac-tex damaged at 9 5\n",
      "[mpeg4 @ 0xcb36eb40] Error at MB: 109\n"
     ]
    },
    {
     "data": {
      "application/vnd.jupyter.widget-view+json": {
       "model_id": "",
       "version_major": 2,
       "version_minor": 0
      },
      "text/plain": [
       "Validation: 0it [00:00, ?it/s]"
      ]
     },
     "metadata": {},
     "output_type": "display_data"
    },
    {
     "name": "stderr",
     "output_type": "stream",
     "text": [
      "[mpeg4 @ 0xcb362580] ac-tex damaged at 13 7\n",
      "[mpeg4 @ 0xcb362580] Error at MB: 153\n",
      "[mpeg4 @ 0xc7c098c0] ac-tex damaged at 9 5\n",
      "[mpeg4 @ 0xc7c098c0] Error at MB: 109\n",
      "[mpeg4 @ 0xcb35ec40] ac-tex damaged at 10 5\n",
      "[mpeg4 @ 0xcb35ec40] Error at MB: 110\n",
      "[mpeg4 @ 0xcb6ec6c0] illegal dc vlc\n",
      "[mpeg4 @ 0xcb6ec6c0] Error at MB: 202\n",
      "[mpeg4 @ 0xcb365c40] ac-tex damaged at 10 5\n",
      "[mpeg4 @ 0xcb365c40] Error at MB: 110\n",
      "[mpeg4 @ 0xcb3640c0] ac-tex damaged at 13 7\n",
      "[mpeg4 @ 0xcb3640c0] Error at MB: 153\n"
     ]
    },
    {
     "data": {
      "application/vnd.jupyter.widget-view+json": {
       "model_id": "",
       "version_major": 2,
       "version_minor": 0
      },
      "text/plain": [
       "Validation: 0it [00:00, ?it/s]"
      ]
     },
     "metadata": {},
     "output_type": "display_data"
    },
    {
     "name": "stderr",
     "output_type": "stream",
     "text": [
      "[mpeg4 @ 0xcb3522c0] ac-tex damaged at 9 5\n",
      "[mpeg4 @ 0xcb3522c0] Error at MB: 109\n",
      "[mpeg4 @ 0xc7c098c0] ac-tex damaged at 10 5\n",
      "[mpeg4 @ 0xc7c098c0] Error at MB: 110\n",
      "[mpeg4 @ 0xcb3640c0] ac-tex damaged at 13 7\n",
      "[mpeg4 @ 0xcb3640c0] Error at MB: 153\n",
      "[mpeg4 @ 0xcb35ec40] ac-tex damaged at 13 7\n",
      "[mpeg4 @ 0xcb35ec40] Error at MB: 153\n",
      "[mpeg4 @ 0x80b5740] illegal dc vlc\n",
      "[mpeg4 @ 0x80b5740] Error at MB: 202\n",
      "[mpeg4 @ 0xcb347e80] ac-tex damaged at 10 5\n",
      "[mpeg4 @ 0xcb347e80] Error at MB: 110\n"
     ]
    },
    {
     "data": {
      "application/vnd.jupyter.widget-view+json": {
       "model_id": "",
       "version_major": 2,
       "version_minor": 0
      },
      "text/plain": [
       "Validation: 0it [00:00, ?it/s]"
      ]
     },
     "metadata": {},
     "output_type": "display_data"
    },
    {
     "name": "stderr",
     "output_type": "stream",
     "text": [
      "[mpeg4 @ 0xcb6efd00] ac-tex damaged at 10 5\n",
      "[mpeg4 @ 0xcb6efd00] Error at MB: 110\n",
      "[mpeg4 @ 0x80b5740] ac-tex damaged at 9 5\n",
      "[mpeg4 @ 0x80b5740] Error at MB: 109\n",
      "[mpeg4 @ 0x80b5740] ac-tex damaged at 13 7\n",
      "[mpeg4 @ 0x80b5740] Error at MB: 153\n",
      "[mpeg4 @ 0xcb362580] illegal dc vlc\n",
      "[mpeg4 @ 0xcb362580] Error at MB: 202\n",
      "[mpeg4 @ 0xcb347e80] ac-tex damaged at 13 7\n",
      "[mpeg4 @ 0xcb347e80] Error at MB: 153\n",
      "[mpeg4 @ 0xcb347e80] ac-tex damaged at 10 5\n",
      "[mpeg4 @ 0xcb347e80] Error at MB: 110\n"
     ]
    },
    {
     "data": {
      "application/vnd.jupyter.widget-view+json": {
       "model_id": "",
       "version_major": 2,
       "version_minor": 0
      },
      "text/plain": [
       "Validation: 0it [00:00, ?it/s]"
      ]
     },
     "metadata": {},
     "output_type": "display_data"
    },
    {
     "name": "stderr",
     "output_type": "stream",
     "text": [
      "[mpeg4 @ 0xcb71d3c0] ac-tex damaged at 10 5\n",
      "[mpeg4 @ 0xcb71d3c0] Error at MB: 110\n",
      "[mpeg4 @ 0xcb3522c0] ac-tex damaged at 13 7\n",
      "[mpeg4 @ 0xcb3522c0] Error at MB: 153\n",
      "[mpeg4 @ 0xcb3593c0] ac-tex damaged at 13 7\n",
      "[mpeg4 @ 0xcb3593c0] Error at MB: 153\n",
      "[mpeg4 @ 0xcb88bd80] ac-tex damaged at 10 5\n",
      "[mpeg4 @ 0xcb88bd80] Error at MB: 110\n",
      "[mpeg4 @ 0x80b5740] illegal dc vlc\n",
      "[mpeg4 @ 0x80b5740] Error at MB: 202\n",
      "[mpeg4 @ 0xcb88bd80] ac-tex damaged at 9 5\n",
      "[mpeg4 @ 0xcb88bd80] Error at MB: 109\n"
     ]
    },
    {
     "data": {
      "application/vnd.jupyter.widget-view+json": {
       "model_id": "",
       "version_major": 2,
       "version_minor": 0
      },
      "text/plain": [
       "Validation: 0it [00:00, ?it/s]"
      ]
     },
     "metadata": {},
     "output_type": "display_data"
    },
    {
     "name": "stderr",
     "output_type": "stream",
     "text": [
      "[mpeg4 @ 0xcb3522c0] illegal dc vlc\n",
      "[mpeg4 @ 0xcb3522c0] Error at MB: 202\n",
      "[mpeg4 @ 0xc7c098c0] ac-tex damaged at 13 7\n",
      "[mpeg4 @ 0xc7c098c0] Error at MB: 153\n",
      "[mpeg4 @ 0xcb3522c0] ac-tex damaged at 10 5\n",
      "[mpeg4 @ 0xcb3522c0] Error at MB: 110\n",
      "[mpeg4 @ 0xc9834f80] ac-tex damaged at 10 5\n",
      "[mpeg4 @ 0xc9834f80] Error at MB: 110\n",
      "[mpeg4 @ 0xcb347e80] ac-tex damaged at 9 5\n",
      "[mpeg4 @ 0xcb347e80] Error at MB: 109\n",
      "[mpeg4 @ 0xcb3640c0] ac-tex damaged at 13 7\n",
      "[mpeg4 @ 0xcb3640c0] Error at MB: 153\n"
     ]
    },
    {
     "data": {
      "application/vnd.jupyter.widget-view+json": {
       "model_id": "",
       "version_major": 2,
       "version_minor": 0
      },
      "text/plain": [
       "Validation: 0it [00:00, ?it/s]"
      ]
     },
     "metadata": {},
     "output_type": "display_data"
    },
    {
     "name": "stderr",
     "output_type": "stream",
     "text": [
      "[mpeg4 @ 0xcb3640c0] ac-tex damaged at 9 5\n",
      "[mpeg4 @ 0xcb3640c0] Error at MB: 109\n",
      "[mpeg4 @ 0xcb3522c0] ac-tex damaged at 10 5\n",
      "[mpeg4 @ 0xcb3522c0] Error at MB: 110\n",
      "[mpeg4 @ 0xcb365c40] ac-tex damaged at 13 7\n",
      "[mpeg4 @ 0xcb365c40] Error at MB: 153\n",
      "[mpeg4 @ 0xcb365c40] ac-tex damaged at 10 5\n",
      "[mpeg4 @ 0xcb365c40] Error at MB: 110\n",
      "[mpeg4 @ 0xcb35ec40] illegal dc vlc\n",
      "[mpeg4 @ 0xcb35ec40] Error at MB: 202\n",
      "[mpeg4 @ 0xcb36eb40] ac-tex damaged at 13 7\n",
      "[mpeg4 @ 0xcb36eb40] Error at MB: 153\n"
     ]
    },
    {
     "data": {
      "application/vnd.jupyter.widget-view+json": {
       "model_id": "",
       "version_major": 2,
       "version_minor": 0
      },
      "text/plain": [
       "Validation: 0it [00:00, ?it/s]"
      ]
     },
     "metadata": {},
     "output_type": "display_data"
    },
    {
     "name": "stderr",
     "output_type": "stream",
     "text": [
      "[mpeg4 @ 0x81e24c0] illegal dc vlc\n",
      "[mpeg4 @ 0x81e24c0] Error at MB: 202\n",
      "[mpeg4 @ 0xcb365c40] ac-tex damaged at 10 5\n",
      "[mpeg4 @ 0xcb365c40] Error at MB: 110\n",
      "[mpeg4 @ 0xcb35ec40] ac-tex damaged at 13 7\n",
      "[mpeg4 @ 0xcb35ec40] Error at MB: 153\n",
      "[mpeg4 @ 0xcb362580] ac-tex damaged at 9 5\n",
      "[mpeg4 @ 0xcb362580] Error at MB: 109\n",
      "[mpeg4 @ 0xcb53d1c0] ac-tex damaged at 13 7\n",
      "[mpeg4 @ 0xcb53d1c0] Error at MB: 153\n",
      "[mpeg4 @ 0xcb53d1c0] ac-tex damaged at 10 5\n",
      "[mpeg4 @ 0xcb53d1c0] Error at MB: 110\n"
     ]
    },
    {
     "data": {
      "application/vnd.jupyter.widget-view+json": {
       "model_id": "",
       "version_major": 2,
       "version_minor": 0
      },
      "text/plain": [
       "Validation: 0it [00:00, ?it/s]"
      ]
     },
     "metadata": {},
     "output_type": "display_data"
    },
    {
     "name": "stderr",
     "output_type": "stream",
     "text": [
      "[mpeg4 @ 0xcb3593c0] ac-tex damaged at 9 5\n",
      "[mpeg4 @ 0xcb3593c0] Error at MB: 109\n",
      "[mpeg4 @ 0x80b7280] ac-tex damaged at 10 5\n",
      "[mpeg4 @ 0x80b7280] Error at MB: 110\n",
      "[mpeg4 @ 0xcb3640c0] illegal dc vlc\n",
      "[mpeg4 @ 0xcb3640c0] Error at MB: 202\n",
      "[mpeg4 @ 0xcb3522c0] ac-tex damaged at 13 7\n",
      "[mpeg4 @ 0xcb3522c0] Error at MB: 153\n",
      "[mpeg4 @ 0xcb347e80] ac-tex damaged at 10 5\n",
      "[mpeg4 @ 0xcb347e80] Error at MB: 110\n",
      "[mpeg4 @ 0x80b7280] ac-tex damaged at 13 7\n",
      "[mpeg4 @ 0x80b7280] Error at MB: 153\n"
     ]
    },
    {
     "data": {
      "application/vnd.jupyter.widget-view+json": {
       "model_id": "",
       "version_major": 2,
       "version_minor": 0
      },
      "text/plain": [
       "Validation: 0it [00:00, ?it/s]"
      ]
     },
     "metadata": {},
     "output_type": "display_data"
    },
    {
     "name": "stderr",
     "output_type": "stream",
     "text": [
      "[mpeg4 @ 0xcb3640c0] ac-tex damaged at 13 7\n",
      "[mpeg4 @ 0xcb3640c0] Error at MB: 153\n",
      "[mpeg4 @ 0xcb362580] ac-tex damaged at 10 5\n",
      "[mpeg4 @ 0xcb362580] Error at MB: 110\n",
      "[mpeg4 @ 0xcb6dd900] ac-tex damaged at 9 5\n",
      "[mpeg4 @ 0xcb6dd900] Error at MB: 109\n",
      "[mpeg4 @ 0xcb365c40] ac-tex damaged at 13 7\n",
      "[mpeg4 @ 0xcb365c40] Error at MB: 153\n",
      "[mpeg4 @ 0xcb365c40] ac-tex damaged at 10 5\n",
      "[mpeg4 @ 0xcb365c40] Error at MB: 110\n",
      "[mpeg4 @ 0xcb3640c0] illegal dc vlc\n",
      "[mpeg4 @ 0xcb3640c0] Error at MB: 202\n"
     ]
    },
    {
     "data": {
      "application/vnd.jupyter.widget-view+json": {
       "model_id": "",
       "version_major": 2,
       "version_minor": 0
      },
      "text/plain": [
       "Validation: 0it [00:00, ?it/s]"
      ]
     },
     "metadata": {},
     "output_type": "display_data"
    },
    {
     "name": "stderr",
     "output_type": "stream",
     "text": [
      "[mpeg4 @ 0xcb36eb40] ac-tex damaged at 10 5\n",
      "[mpeg4 @ 0xcb36eb40] Error at MB: 110\n",
      "[mpeg4 @ 0xcb6dd900] ac-tex damaged at 13 7\n",
      "[mpeg4 @ 0xcb6dd900] Error at MB: 153\n",
      "[mpeg4 @ 0xcb35ec40] illegal dc vlc\n",
      "[mpeg4 @ 0xcb35ec40] Error at MB: 202\n",
      "[mpeg4 @ 0x80b7280] ac-tex damaged at 9 5\n",
      "[mpeg4 @ 0x80b7280] Error at MB: 109\n",
      "[mpeg4 @ 0x80b5740] ac-tex damaged at 10 5\n",
      "[mpeg4 @ 0x80b5740] Error at MB: 110\n",
      "[mpeg4 @ 0xcb53d1c0] ac-tex damaged at 13 7\n",
      "[mpeg4 @ 0xcb53d1c0] Error at MB: 153\n"
     ]
    },
    {
     "data": {
      "application/vnd.jupyter.widget-view+json": {
       "model_id": "",
       "version_major": 2,
       "version_minor": 0
      },
      "text/plain": [
       "Validation: 0it [00:00, ?it/s]"
      ]
     },
     "metadata": {},
     "output_type": "display_data"
    },
    {
     "name": "stderr",
     "output_type": "stream",
     "text": [
      "[mpeg4 @ 0xcb35ec40] illegal dc vlc\n",
      "[mpeg4 @ 0xcb35ec40] Error at MB: 202\n",
      "[mpeg4 @ 0xc7c098c0] ac-tex damaged at 13 7\n",
      "[mpeg4 @ 0xc7c098c0] Error at MB: 153\n",
      "[mpeg4 @ 0xcb3593c0] ac-tex damaged at 10 5\n",
      "[mpeg4 @ 0xcb3593c0] Error at MB: 110\n",
      "[mpeg4 @ 0xc7c098c0] ac-tex damaged at 13 7\n",
      "[mpeg4 @ 0xc7c098c0] Error at MB: 153\n",
      "[mpeg4 @ 0xcb3593c0] ac-tex damaged at 10 5\n",
      "[mpeg4 @ 0xcb3593c0] Error at MB: 110\n",
      "[mpeg4 @ 0xcb6e3700] ac-tex damaged at 9 5\n",
      "[mpeg4 @ 0xcb6e3700] Error at MB: 109\n"
     ]
    },
    {
     "data": {
      "application/vnd.jupyter.widget-view+json": {
       "model_id": "",
       "version_major": 2,
       "version_minor": 0
      },
      "text/plain": [
       "Validation: 0it [00:00, ?it/s]"
      ]
     },
     "metadata": {},
     "output_type": "display_data"
    },
    {
     "name": "stderr",
     "output_type": "stream",
     "text": [
      "[mpeg4 @ 0xcb365c40] ac-tex damaged at 13 7\n",
      "[mpeg4 @ 0xcb365c40] Error at MB: 153\n",
      "[mpeg4 @ 0xcb36eb40] illegal dc vlc\n",
      "[mpeg4 @ 0xcb36eb40] Error at MB: 202\n",
      "[mpeg4 @ 0xc9834f80] ac-tex damaged at 10 5\n",
      "[mpeg4 @ 0xc9834f80] Error at MB: 110\n",
      "[mpeg4 @ 0xc7c098c0] ac-tex damaged at 9 5\n",
      "[mpeg4 @ 0xc7c098c0] Error at MB: 109\n",
      "[mpeg4 @ 0xcb362580] ac-tex damaged at 13 7\n",
      "[mpeg4 @ 0xcb362580] Error at MB: 153\n",
      "[mpeg4 @ 0xcb53d1c0] ac-tex damaged at 10 5\n",
      "[mpeg4 @ 0xcb53d1c0] Error at MB: 110\n"
     ]
    },
    {
     "data": {
      "application/vnd.jupyter.widget-view+json": {
       "model_id": "",
       "version_major": 2,
       "version_minor": 0
      },
      "text/plain": [
       "Validation: 0it [00:00, ?it/s]"
      ]
     },
     "metadata": {},
     "output_type": "display_data"
    },
    {
     "name": "stderr",
     "output_type": "stream",
     "text": [
      "[mpeg4 @ 0xcb6fbf80] illegal dc vlc\n",
      "[mpeg4 @ 0xcb6fbf80] Error at MB: 202\n",
      "[mpeg4 @ 0x603e280] ac-tex damaged at 10 5\n",
      "[mpeg4 @ 0x603e280] Error at MB: 110\n",
      "[mpeg4 @ 0xcb6fbf80] ac-tex damaged at 13 7\n",
      "[mpeg4 @ 0xcb6fbf80] Error at MB: 153\n",
      "[mpeg4 @ 0xcb8a6f80] ac-tex damaged at 10 5\n",
      "[mpeg4 @ 0xcb8a6f80] Error at MB: 110\n",
      "[mpeg4 @ 0xcb8c0280] ac-tex damaged at 13 7\n",
      "[mpeg4 @ 0xcb8c0280] Error at MB: 153\n",
      "[mpeg4 @ 0xcb54cf80] ac-tex damaged at 9 5\n",
      "[mpeg4 @ 0xcb54cf80] Error at MB: 109\n"
     ]
    },
    {
     "data": {
      "application/vnd.jupyter.widget-view+json": {
       "model_id": "",
       "version_major": 2,
       "version_minor": 0
      },
      "text/plain": [
       "Validation: 0it [00:00, ?it/s]"
      ]
     },
     "metadata": {},
     "output_type": "display_data"
    },
    {
     "name": "stderr",
     "output_type": "stream",
     "text": [
      "[mpeg4 @ 0xcb6fbf80] ac-tex damaged at 10 5\n",
      "[mpeg4 @ 0xcb6fbf80] Error at MB: 110\n",
      "[mpeg4 @ 0x80b7280] illegal dc vlc\n",
      "[mpeg4 @ 0x80b7280] Error at MB: 202\n",
      "[mpeg4 @ 0xcb63e0c0] ac-tex damaged at 10 5\n",
      "[mpeg4 @ 0xcb63e0c0] Error at MB: 110\n",
      "[mpeg4 @ 0x829dcc0] ac-tex damaged at 13 7\n",
      "[mpeg4 @ 0x829dcc0] Error at MB: 153\n",
      "[mpeg4 @ 0xcb687a40] ac-tex damaged at 9 5\n",
      "[mpeg4 @ 0xcb687a40] Error at MB: 109\n",
      "[mpeg4 @ 0x829dcc0] ac-tex damaged at 13 7\n",
      "[mpeg4 @ 0x829dcc0] Error at MB: 153\n"
     ]
    },
    {
     "data": {
      "application/vnd.jupyter.widget-view+json": {
       "model_id": "",
       "version_major": 2,
       "version_minor": 0
      },
      "text/plain": [
       "Validation: 0it [00:00, ?it/s]"
      ]
     },
     "metadata": {},
     "output_type": "display_data"
    },
    {
     "name": "stderr",
     "output_type": "stream",
     "text": [
      "[mpeg4 @ 0xcb3640c0] ac-tex damaged at 13 7\n",
      "[mpeg4 @ 0xcb3640c0] Error at MB: 153\n",
      "[mpeg4 @ 0xcb3522c0] ac-tex damaged at 10 5\n",
      "[mpeg4 @ 0xcb3522c0] Error at MB: 110\n",
      "[mpeg4 @ 0xcb36eb40] ac-tex damaged at 13 7\n",
      "[mpeg4 @ 0xcb36eb40] Error at MB: 153\n",
      "[mpeg4 @ 0xcb36eb40] ac-tex damaged at 9 5\n",
      "[mpeg4 @ 0xcb36eb40] Error at MB: 109\n",
      "[mpeg4 @ 0xcb35ec40] ac-tex damaged at 10 5\n",
      "[mpeg4 @ 0xcb35ec40] Error at MB: 110\n",
      "[mpeg4 @ 0xcb6ed800] illegal dc vlc\n",
      "[mpeg4 @ 0xcb6ed800] Error at MB: 202\n"
     ]
    },
    {
     "data": {
      "application/vnd.jupyter.widget-view+json": {
       "model_id": "",
       "version_major": 2,
       "version_minor": 0
      },
      "text/plain": [
       "Validation: 0it [00:00, ?it/s]"
      ]
     },
     "metadata": {},
     "output_type": "display_data"
    },
    {
     "name": "stderr",
     "output_type": "stream",
     "text": [
      "[mpeg4 @ 0xcb3640c0] ac-tex damaged at 13 7\n",
      "[mpeg4 @ 0xcb3640c0] Error at MB: 153\n",
      "[mpeg4 @ 0xcb36eb40] ac-tex damaged at 9 5\n",
      "[mpeg4 @ 0xcb36eb40] Error at MB: 109\n",
      "[mpeg4 @ 0xcb3522c0] illegal dc vlc\n",
      "[mpeg4 @ 0xcb3522c0] Error at MB: 202\n",
      "[mpeg4 @ 0xcb3640c0] ac-tex damaged at 10 5\n",
      "[mpeg4 @ 0xcb3640c0] Error at MB: 110\n",
      "[mpeg4 @ 0xcb347e80] ac-tex damaged at 10 5\n",
      "[mpeg4 @ 0xcb347e80] Error at MB: 110\n",
      "[mpeg4 @ 0xc9836980] ac-tex damaged at 13 7\n",
      "[mpeg4 @ 0xc9836980] Error at MB: 153\n"
     ]
    },
    {
     "data": {
      "application/vnd.jupyter.widget-view+json": {
       "model_id": "",
       "version_major": 2,
       "version_minor": 0
      },
      "text/plain": [
       "Validation: 0it [00:00, ?it/s]"
      ]
     },
     "metadata": {},
     "output_type": "display_data"
    },
    {
     "name": "stderr",
     "output_type": "stream",
     "text": [
      "`Trainer.fit` stopped: `max_epochs=100` reached.\n"
     ]
    },
    {
     "name": "stdout",
     "output_type": "stream",
     "text": [
      "2023-02-13 06:54:49.538036 Training Complete\n",
      "Elapsed Time: 7.5 Hours\n"
     ]
    }
   ],
   "source": [
    "from datetime import datetime\n",
    "\n",
    "if __name__==\"__main__\":\n",
    "    \n",
    "    if params.is_train:\n",
    "        start_time = datetime.now()\n",
    "        print(start_time, 'Start Training')\n",
    "        _init_model(params, model)\n",
    "        trainer = pl.Trainer(\n",
    "            gpus=1, auto_select_gpus=True, \n",
    "            max_epochs=params.max_epochs, \n",
    "            default_root_dir=os.path.join(log_base_dir, params.exp_title),\n",
    "            logger=pl.loggers.TensorBoardLogger(log_base_dir, name=params.exp_title))\n",
    "        trainer.fit(model, data_module)\n",
    "        trainer.save_checkpoint(os.path.join(os.path.join(log_base_dir, params.exp_title),'epoch={}.ckpt'.format(params.max_epochs)))\n",
    "        print(datetime.now(), 'Training Complete')\n",
    "        print('Elapsed Time:', round((datetime.now() - start_time).total_seconds() / 3600, 1), 'Hours')\n",
    "    else:\n",
    "        _init_model(params, model)\n",
    "        trainer = pl.Trainer(accelerator='gpu', auto_select_gpus=True)"
   ]
  },
  {
   "cell_type": "markdown",
   "id": "f3ab569f",
   "metadata": {
    "ExecuteTime": {
     "end_time": "2023-02-05T07:05:29.936719Z",
     "start_time": "2023-02-05T07:05:29.934938Z"
    }
   },
   "source": [
    "# Evaluate"
   ]
  },
  {
   "cell_type": "code",
   "execution_count": 29,
   "id": "f32a131c",
   "metadata": {
    "ExecuteTime": {
     "end_time": "2023-02-12T21:54:49.622034Z",
     "start_time": "2023-02-12T21:54:49.551230Z"
    }
   },
   "outputs": [],
   "source": [
    "#from sklearn.metrics import mean_absolute_percentage_error \n",
    "from scipy import stats\n",
    "from sklearn.metrics import r2_score \n",
    "import seaborn as sns\n",
    "import warnings \n",
    "import plotly.graph_objects as go\n",
    "import plotly.io as pio\n",
    "from plotly.subplots import make_subplots\n",
    "pio.renderers.default = \"notebook\"\n",
    "\n",
    "warnings.simplefilter(action='ignore', category=FutureWarning)\n",
    "\n",
    "def evaluate(model, test_loader, inv_norm=True, gpu=True):\n",
    "    y_real = list()\n",
    "    y_pred = list()\n",
    "    x_real = list()\n",
    "    with torch.no_grad():\n",
    "        if gpu:\n",
    "            model = model.cuda(0)\n",
    "        for batch in tqdm(test_loader):\n",
    "            x_inp, y, x_on_imgs, x_off_imgs, sample_num, idx = batch\n",
    "            if gpu:\n",
    "                x_inp, y, = x_inp.cuda(), y.cuda()\n",
    "                x_on_imgs, x_off_imgs = x_on_imgs.cuda(), x_off_imgs.cuda()\n",
    "\n",
    "            y_real.extend(y.data.cpu().numpy())\n",
    "            x_real.append(x_inp.data.cpu().numpy())\n",
    "            _y_pred = model.forward(x_inp, x_on_imgs, x_off_imgs)\n",
    "            y_pred.extend(_y_pred.data.cpu().numpy())\n",
    "\n",
    "    y_pred = np.array(y_pred)\n",
    "    y_real = np.array(y_real)\n",
    "    x_real = np.array(x_real)\n",
    "    x_real.reshape((-1, x_real.shape[-1]))\n",
    "    \n",
    "    return y_pred, y_real, x_real\n",
    "\n",
    "def _inv_norm_x_inp(x_inp: np.ndarray, data_loader: DataLoader):\n",
    "    norm_x_inp = data_loader.dataset.transform_x.transforms[0]\n",
    "    return norm_x_inp.inverse_tranform(x_inp)\n",
    "\n",
    "def _inv_norm_y(y: np.ndarray, data_loader: DataLoader):\n",
    "    norm_y = data_loader.dataset.transform_y.transforms[0]\n",
    "    return norm_y.inverse_tranform(y)\n",
    "\n",
    "def cal_mape(y_pred, y_real):\n",
    "    #return mean_absolute_percentage_error(y_real, y_pred) * 100\n",
    "    #non_zero = np.where(y_real != 0.0)\n",
    "    non_zero = np.where(np.abs(y_real) > 1e-6)\n",
    "    out = np.abs(np.divide((y_pred[non_zero] - y_real[non_zero]), y_real[non_zero]))\n",
    "    return np.nansum(out) / (y_real.shape[0]) * 100\n",
    "\n",
    "def cal_rmse(y_pred, y_real):\n",
    "    non_zero = np.where(np.abs(y_real) > 1e-6)\n",
    "    out = np.sqrt( np.sum(np.square((y_pred[non_zero] - y_real[non_zero])))/ (y_real.shape[0]))\n",
    "    return out\n",
    "\n",
    "def cal_r2(y_pred, y_real):\n",
    "    return r2_score(y_real, y_pred)\n",
    "#     ss_res = np.sum( np.square(y_real - y_pred) ) \n",
    "#     ss_tot = np.sum( np.square(y_real - np.mean(y_real)))\n",
    "#     return 1 - ss_res / ss_tot\n",
    "\n",
    "def cal_spearmanr(y_pred, y_real):\n",
    "    return stats.spearmanr(y_pred, y_real, nan_policy='omit').correlation\n",
    "\n",
    "def plotly_compact(data, title=None, static=True, xdata=None):\n",
    "    fig = make_subplots()\n",
    "    for key, val in data.items():\n",
    "        if xdata is None:\n",
    "            fig.add_trace(go.Scatter(y=val, name=key))\n",
    "        else:\n",
    "            fig.add_trace(go.Scatter(x=xdata, y=val, name=key, mode='markers'))\n",
    "            \n",
    "    _layout_dict = dict()\n",
    "    if title:\n",
    "        _layout_dict['title'] = title\n",
    "    #_layout_dict['yaxis'] = dict(range=[750, 1050 ],)\n",
    "    #_layout_dict['xaxis'] = dict(range=[17350, 17850],)\n",
    "\n",
    "    if static:\n",
    "        _layout_dict['width'] = 1600\n",
    "        fig.update_layout(_layout_dict)\n",
    "        fig.show(renderer=\"png\")  \n",
    "    else:\n",
    "        fig.update_layout(_layout_dict)\n",
    "        fig.show()\n",
    "\n",
    "def plot_scatter(predicted, actual, title='', ax=None):\n",
    "    if ax is None:\n",
    "        fig, ax = plt.subplots()\n",
    "        fig.title(title)\n",
    "    else:\n",
    "        ax.set_title(title)\n",
    "    ax.scatter(predicted, actual)\n",
    "    ax.set_box_aspect(1)\n",
    "#     ax.set_xlim(-1.3, 1.3)\n",
    "#     ax.set_ylim(-1.3, 1.3)\n",
    "    ax.set_xlabel('Predicted')\n",
    "    ax.set_ylabel('Actual')\n",
    "\n",
    "def summarize(model, trainer, params, data_module, plot_chart=True): \n",
    "    #mse = trainer.test(model)\n",
    "    dm_loaders = Munch( train = data_module.train_dataloader(shuffle=False), \n",
    "                        val = data_module.val_dataloader(shuffle=False), \n",
    "                        test = data_module.test_dataloader(shuffle=False))\n",
    "\n",
    "    print('experiment {}'.format(params.exp_title))\n",
    "    print('-'*20)\n",
    "    \n",
    "    exp_results = {}\n",
    "    tag_mode = ['train', 'val', 'test'] #'val'\n",
    "    for mode in tag_mode:  \n",
    "        y_pred, y_real, x_real = evaluate(model, dm_loaders[mode], gpu=params.gpu)\n",
    "        y_pred = _inv_norm_y(y_pred, dm_loaders[mode])\n",
    "        y_real = _inv_norm_y(y_real, dm_loaders[mode])\n",
    "        \n",
    "        title = '[{}] {}\\n'.format(params.exp_title, mode)\n",
    "            \n",
    "        \n",
    "        if plot_chart:\n",
    "            fig, axs = plt.subplots(1, 4)\n",
    "            fig.suptitle(mode)\n",
    "        \n",
    "        metrics = []\n",
    "        vars_y = dm_loaders[mode].dataset.vars_y\n",
    "        for i, _var_y in enumerate(vars_y):\n",
    "            _pred, _real = y_pred[:, i], y_real[:, i]\n",
    "            mape = cal_mape(_pred, _real)\n",
    "            rmse = cal_rmse(_pred, _real)\n",
    "            r2 = cal_r2(_pred, _real)\n",
    "            spearmanr = cal_spearmanr(_pred, _real)\n",
    "            \n",
    "            print()\n",
    "            print('mape      ({} {}): {:.6f}'.format(mode, _var_y, mape))\n",
    "            print('rmse      ({} {}): {:.6f}'.format(mode, _var_y, rmse))\n",
    "            print('r2        ({} {}): {:.6f}'.format(mode, _var_y, r2))\n",
    "            print('spearmanr ({} {}): {:.6f}'.format(mode, _var_y, spearmanr))\n",
    "            \n",
    "            metrics.append({\n",
    "                'mode': mode,\n",
    "                'mape': mape,\n",
    "                'rmse': rmse,\n",
    "                'r2': r2, \n",
    "                'spearmanr': spearmanr,    \n",
    "            })\n",
    "            \n",
    "            if plot_chart:\n",
    "                plot_scatter(_pred, _real, title=_var_y, ax=axs[i])\n",
    "        \n",
    "        df_results = pd.DataFrame.from_dict(metrics)\n",
    "        df_results.index = vars_y\n",
    "        exp_results[mode] = df_results\n",
    "            \n",
    "    if plot_chart:\n",
    "        plt.legend()\n",
    "        plt.show()\n",
    "    \n",
    "    print('experiment {}'.format(params.exp_title))\n",
    "\n",
    "    return exp_results\n",
    "\n",
    "    \n",
    "def search_model_ckpt(base_dir, exp_title):\n",
    "    base_dir = os.path.join(os.getcwd(), base_dir)\n",
    "    model_dir = os.path.join(base_dir, exp_title)\n",
    "    print(sorted(os.listdir(model_dir)))\n",
    "    model_dir = os.path.join(model_dir, sorted(os.listdir(model_dir))[-1])\n",
    "    model_dir = os.path.join(model_dir, 'checkpoints')\n",
    "    model_dir = os.path.join(model_dir, os.listdir(model_dir)[0])\n",
    "    print(model_dir)\n",
    "    return model_dir"
   ]
  },
  {
   "cell_type": "code",
   "execution_count": 30,
   "id": "3035d699",
   "metadata": {
    "ExecuteTime": {
     "end_time": "2023-02-12T22:00:53.267146Z",
     "start_time": "2023-02-12T21:54:49.623114Z"
    }
   },
   "outputs": [
    {
     "name": "stdout",
     "output_type": "stream",
     "text": [
      "experiment ver14\n",
      "--------------------\n"
     ]
    },
    {
     "name": "stderr",
     "output_type": "stream",
     "text": [
      "[mpeg4 @ 0xd5475bc0] ac-tex damaged at 13 7\n",
      "[mpeg4 @ 0xd5475bc0] Error at MB: 153\n",
      "[mpeg4 @ 0xd54778c0] ac-tex damaged at 13 7\n",
      "[mpeg4 @ 0xd54778c0] Error at MB: 153\n",
      "[mpeg4 @ 0xd5375b40] ac-tex damaged at 10 5\n",
      "[mpeg4 @ 0xd5375b40] Error at MB: 110\n",
      "[mpeg4 @ 0xcb639200] ac-tex damaged at 10 5\n",
      "[mpeg4 @ 0xcb639200] Error at MB: 110\n",
      "[mpeg4 @ 0xd5374580] ac-tex damaged at 9 5\n",
      "[mpeg4 @ 0xd5374580] Error at MB: 109\n",
      "[mpeg4 @ 0xd4bffc80] illegal dc vlc\n",
      "[mpeg4 @ 0xd4bffc80] Error at MB: 202\n"
     ]
    },
    {
     "name": "stdout",
     "output_type": "stream",
     "text": [
      "\n",
      "mape      (train yielding.stress): 14.510000\n",
      "rmse      (train yielding.stress): 77.933352\n",
      "r2        (train yielding.stress): 0.902487\n",
      "spearmanr (train yielding.stress): 0.955200\n",
      "\n",
      "mape      (train tensile.stress): 11.910064\n",
      "rmse      (train tensile.stress): 79.797843\n",
      "r2        (train tensile.stress): 0.898738\n",
      "spearmanr (train tensile.stress): 0.952398\n",
      "\n",
      "mape      (train elongation): 85.636921\n",
      "rmse      (train elongation): 5.859536\n",
      "r2        (train elongation): 0.867765\n",
      "spearmanr (train elongation): 0.915657\n",
      "\n",
      "mape      (train density): 0.901766\n",
      "rmse      (train density): 0.097417\n",
      "r2        (train density): 0.801448\n",
      "spearmanr (train density): 0.888695\n",
      "\n",
      "mape      (val yielding.stress): 17.967450\n",
      "rmse      (val yielding.stress): 124.048820\n",
      "r2        (val yielding.stress): 0.702997\n",
      "spearmanr (val yielding.stress): 0.857664\n",
      "\n",
      "mape      (val tensile.stress): 15.540179\n",
      "rmse      (val tensile.stress): 131.593111\n",
      "r2        (val tensile.stress): 0.676015\n",
      "spearmanr (val tensile.stress): 0.827632\n",
      "\n",
      "mape      (val elongation): 74.171680\n",
      "rmse      (val elongation): 8.771288\n",
      "r2        (val elongation): 0.714718\n",
      "spearmanr (val elongation): 0.846700\n",
      "\n",
      "mape      (val density): 1.375324\n",
      "rmse      (val density): 0.147264\n",
      "r2        (val density): 0.414482\n",
      "spearmanr (val density): 0.732545\n",
      "\n",
      "mape      (test yielding.stress): 17.831862\n",
      "rmse      (test yielding.stress): 109.700552\n",
      "r2        (test yielding.stress): 0.771356\n",
      "spearmanr (test yielding.stress): 0.869109\n",
      "\n",
      "mape      (test tensile.stress): 14.830103\n",
      "rmse      (test tensile.stress): 119.558778\n",
      "r2        (test tensile.stress): 0.760562\n",
      "spearmanr (test tensile.stress): 0.875548\n",
      "\n",
      "mape      (test elongation): 82.628052\n",
      "rmse      (test elongation): 9.273790\n",
      "r2        (test elongation): 0.670313\n",
      "spearmanr (test elongation): 0.848171\n",
      "\n",
      "mape      (test density): 1.344243\n",
      "rmse      (test density): 0.138324\n",
      "r2        (test density): 0.666836\n",
      "spearmanr (test density): 0.790543\n",
      "experiment ver14\n"
     ]
    },
    {
     "data": {
      "text/plain": [
       "'train'"
      ]
     },
     "metadata": {},
     "output_type": "display_data"
    },
    {
     "data": {
      "text/html": [
       "<div>\n",
       "<style scoped>\n",
       "    .dataframe tbody tr th:only-of-type {\n",
       "        vertical-align: middle;\n",
       "    }\n",
       "\n",
       "    .dataframe tbody tr th {\n",
       "        vertical-align: top;\n",
       "    }\n",
       "\n",
       "    .dataframe thead th {\n",
       "        text-align: right;\n",
       "    }\n",
       "</style>\n",
       "<table border=\"1\" class=\"dataframe\">\n",
       "  <thead>\n",
       "    <tr style=\"text-align: right;\">\n",
       "      <th></th>\n",
       "      <th>mode</th>\n",
       "      <th>mape</th>\n",
       "      <th>rmse</th>\n",
       "      <th>r2</th>\n",
       "      <th>spearmanr</th>\n",
       "    </tr>\n",
       "  </thead>\n",
       "  <tbody>\n",
       "    <tr>\n",
       "      <th>yielding.stress</th>\n",
       "      <td>train</td>\n",
       "      <td>14.510000</td>\n",
       "      <td>77.933352</td>\n",
       "      <td>0.902487</td>\n",
       "      <td>0.955200</td>\n",
       "    </tr>\n",
       "    <tr>\n",
       "      <th>tensile.stress</th>\n",
       "      <td>train</td>\n",
       "      <td>11.910064</td>\n",
       "      <td>79.797843</td>\n",
       "      <td>0.898738</td>\n",
       "      <td>0.952398</td>\n",
       "    </tr>\n",
       "    <tr>\n",
       "      <th>elongation</th>\n",
       "      <td>train</td>\n",
       "      <td>85.636921</td>\n",
       "      <td>5.859536</td>\n",
       "      <td>0.867765</td>\n",
       "      <td>0.915657</td>\n",
       "    </tr>\n",
       "    <tr>\n",
       "      <th>density</th>\n",
       "      <td>train</td>\n",
       "      <td>0.901766</td>\n",
       "      <td>0.097417</td>\n",
       "      <td>0.801448</td>\n",
       "      <td>0.888695</td>\n",
       "    </tr>\n",
       "  </tbody>\n",
       "</table>\n",
       "</div>"
      ],
      "text/plain": [
       "                  mode       mape       rmse        r2  spearmanr\n",
       "yielding.stress  train  14.510000  77.933352  0.902487   0.955200\n",
       "tensile.stress   train  11.910064  79.797843  0.898738   0.952398\n",
       "elongation       train  85.636921   5.859536  0.867765   0.915657\n",
       "density          train   0.901766   0.097417  0.801448   0.888695"
      ]
     },
     "metadata": {},
     "output_type": "display_data"
    },
    {
     "data": {
      "text/plain": [
       "'val'"
      ]
     },
     "metadata": {},
     "output_type": "display_data"
    },
    {
     "data": {
      "text/html": [
       "<div>\n",
       "<style scoped>\n",
       "    .dataframe tbody tr th:only-of-type {\n",
       "        vertical-align: middle;\n",
       "    }\n",
       "\n",
       "    .dataframe tbody tr th {\n",
       "        vertical-align: top;\n",
       "    }\n",
       "\n",
       "    .dataframe thead th {\n",
       "        text-align: right;\n",
       "    }\n",
       "</style>\n",
       "<table border=\"1\" class=\"dataframe\">\n",
       "  <thead>\n",
       "    <tr style=\"text-align: right;\">\n",
       "      <th></th>\n",
       "      <th>mode</th>\n",
       "      <th>mape</th>\n",
       "      <th>rmse</th>\n",
       "      <th>r2</th>\n",
       "      <th>spearmanr</th>\n",
       "    </tr>\n",
       "  </thead>\n",
       "  <tbody>\n",
       "    <tr>\n",
       "      <th>yielding.stress</th>\n",
       "      <td>val</td>\n",
       "      <td>17.967450</td>\n",
       "      <td>124.048820</td>\n",
       "      <td>0.702997</td>\n",
       "      <td>0.857664</td>\n",
       "    </tr>\n",
       "    <tr>\n",
       "      <th>tensile.stress</th>\n",
       "      <td>val</td>\n",
       "      <td>15.540179</td>\n",
       "      <td>131.593111</td>\n",
       "      <td>0.676015</td>\n",
       "      <td>0.827632</td>\n",
       "    </tr>\n",
       "    <tr>\n",
       "      <th>elongation</th>\n",
       "      <td>val</td>\n",
       "      <td>74.171680</td>\n",
       "      <td>8.771288</td>\n",
       "      <td>0.714718</td>\n",
       "      <td>0.846700</td>\n",
       "    </tr>\n",
       "    <tr>\n",
       "      <th>density</th>\n",
       "      <td>val</td>\n",
       "      <td>1.375324</td>\n",
       "      <td>0.147264</td>\n",
       "      <td>0.414482</td>\n",
       "      <td>0.732545</td>\n",
       "    </tr>\n",
       "  </tbody>\n",
       "</table>\n",
       "</div>"
      ],
      "text/plain": [
       "                mode       mape        rmse        r2  spearmanr\n",
       "yielding.stress  val  17.967450  124.048820  0.702997   0.857664\n",
       "tensile.stress   val  15.540179  131.593111  0.676015   0.827632\n",
       "elongation       val  74.171680    8.771288  0.714718   0.846700\n",
       "density          val   1.375324    0.147264  0.414482   0.732545"
      ]
     },
     "metadata": {},
     "output_type": "display_data"
    },
    {
     "data": {
      "text/plain": [
       "'test'"
      ]
     },
     "metadata": {},
     "output_type": "display_data"
    },
    {
     "data": {
      "text/html": [
       "<div>\n",
       "<style scoped>\n",
       "    .dataframe tbody tr th:only-of-type {\n",
       "        vertical-align: middle;\n",
       "    }\n",
       "\n",
       "    .dataframe tbody tr th {\n",
       "        vertical-align: top;\n",
       "    }\n",
       "\n",
       "    .dataframe thead th {\n",
       "        text-align: right;\n",
       "    }\n",
       "</style>\n",
       "<table border=\"1\" class=\"dataframe\">\n",
       "  <thead>\n",
       "    <tr style=\"text-align: right;\">\n",
       "      <th></th>\n",
       "      <th>mode</th>\n",
       "      <th>mape</th>\n",
       "      <th>rmse</th>\n",
       "      <th>r2</th>\n",
       "      <th>spearmanr</th>\n",
       "    </tr>\n",
       "  </thead>\n",
       "  <tbody>\n",
       "    <tr>\n",
       "      <th>yielding.stress</th>\n",
       "      <td>test</td>\n",
       "      <td>17.831862</td>\n",
       "      <td>109.700552</td>\n",
       "      <td>0.771356</td>\n",
       "      <td>0.869109</td>\n",
       "    </tr>\n",
       "    <tr>\n",
       "      <th>tensile.stress</th>\n",
       "      <td>test</td>\n",
       "      <td>14.830103</td>\n",
       "      <td>119.558778</td>\n",
       "      <td>0.760562</td>\n",
       "      <td>0.875548</td>\n",
       "    </tr>\n",
       "    <tr>\n",
       "      <th>elongation</th>\n",
       "      <td>test</td>\n",
       "      <td>82.628052</td>\n",
       "      <td>9.273790</td>\n",
       "      <td>0.670313</td>\n",
       "      <td>0.848171</td>\n",
       "    </tr>\n",
       "    <tr>\n",
       "      <th>density</th>\n",
       "      <td>test</td>\n",
       "      <td>1.344243</td>\n",
       "      <td>0.138324</td>\n",
       "      <td>0.666836</td>\n",
       "      <td>0.790543</td>\n",
       "    </tr>\n",
       "  </tbody>\n",
       "</table>\n",
       "</div>"
      ],
      "text/plain": [
       "                 mode       mape        rmse        r2  spearmanr\n",
       "yielding.stress  test  17.831862  109.700552  0.771356   0.869109\n",
       "tensile.stress   test  14.830103  119.558778  0.760562   0.875548\n",
       "elongation       test  82.628052    9.273790  0.670313   0.848171\n",
       "density          test   1.344243    0.138324  0.666836   0.790543"
      ]
     },
     "metadata": {},
     "output_type": "display_data"
    }
   ],
   "source": [
    "if __name__==\"__main__\":\n",
    "\n",
    "    exp_results = summarize(model, trainer, params, data_module, plot_chart=False)\n",
    "\n",
    "    for mode, df_result in exp_results.items():\n",
    "        display(mode)\n",
    "        display(df_result)"
   ]
  },
  {
   "cell_type": "code",
   "execution_count": null,
   "id": "7374b354",
   "metadata": {},
   "outputs": [],
   "source": []
  },
  {
   "cell_type": "code",
   "execution_count": 31,
   "id": "501857e7",
   "metadata": {
    "ExecuteTime": {
     "end_time": "2023-02-12T22:25:05.679163Z",
     "start_time": "2023-02-12T22:25:05.663987Z"
    }
   },
   "outputs": [],
   "source": [
    "%load_ext tensorboard"
   ]
  },
  {
   "cell_type": "code",
   "execution_count": 33,
   "id": "bc144503",
   "metadata": {
    "ExecuteTime": {
     "end_time": "2023-02-12T23:20:35.590988Z",
     "start_time": "2023-02-12T23:20:34.458871Z"
    }
   },
   "outputs": [
    {
     "data": {
      "text/html": [
       "\n",
       "      <iframe id=\"tensorboard-frame-cd613e30d8f16adf\" width=\"100%\" height=\"800\" frameborder=\"0\">\n",
       "      </iframe>\n",
       "      <script>\n",
       "        (function() {\n",
       "          const frame = document.getElementById(\"tensorboard-frame-cd613e30d8f16adf\");\n",
       "          const url = new URL(\"/\", window.location);\n",
       "          const port = 6012;\n",
       "          if (port) {\n",
       "            url.port = port;\n",
       "          }\n",
       "          frame.src = url;\n",
       "        })();\n",
       "      </script>\n",
       "    "
      ],
      "text/plain": [
       "<IPython.core.display.HTML object>"
      ]
     },
     "metadata": {},
     "output_type": "display_data"
    }
   ],
   "source": [
    "%tensorboard --logdir 'logs/ver14' --host=0.0.0.0"
   ]
  },
  {
   "cell_type": "code",
   "execution_count": null,
   "id": "b7a2bb91",
   "metadata": {},
   "outputs": [],
   "source": []
  }
 ],
 "metadata": {
  "jupytext": {
   "formats": "ipynb,py:light"
  },
  "kernelspec": {
   "display_name": "Python [conda env:mmdl]",
   "language": "python",
   "name": "conda-env-mmdl-py"
  },
  "language_info": {
   "codemirror_mode": {
    "name": "ipython",
    "version": 3
   },
   "file_extension": ".py",
   "mimetype": "text/x-python",
   "name": "python",
   "nbconvert_exporter": "python",
   "pygments_lexer": "ipython3",
   "version": "3.9.16"
  },
  "toc": {
   "base_numbering": 1,
   "nav_menu": {},
   "number_sections": true,
   "sideBar": true,
   "skip_h1_title": false,
   "title_cell": "Table of Contents",
   "title_sidebar": "Contents",
   "toc_cell": false,
   "toc_position": {
    "height": "calc(100% - 180px)",
    "left": "10px",
    "top": "150px",
    "width": "165px"
   },
   "toc_section_display": true,
   "toc_window_display": false
  }
 },
 "nbformat": 4,
 "nbformat_minor": 5
}
